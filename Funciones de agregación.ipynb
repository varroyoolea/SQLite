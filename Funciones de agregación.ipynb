{
 "cells": [
  {
   "cell_type": "markdown",
   "metadata": {},
   "source": [
    "# Funciones de agregación\n",
    "\n",
    "Las funciones de agregación realizan una operación específica sobre todas las filas en una tabla. Estas funciones usualmente devuelven un valor resumiendo los datos de las columnas que nosotros consultemos. Las funciones de agregación implementadas en cada motor de bases de datos pueden variar, pero las 5 más comunes (y que están implementadas en `SQLite`) son: \n",
    "\n",
    "- Min: Valor Mínimo\n",
    "- Max:  Valor Máximo\n",
    "- Avg: Media (Promedio)\n",
    "- Sum: Suma total de los valores \n",
    "- Count: Cantidad de elementos **No Nulos**\n",
    "\n",
    "La sintaxis para utilizar estas funciones corresponde a la siguiente: \n",
    "\n",
    "```SQL\n",
    "SELECT FUNC(column) FROM Tabla -- Donde FUNC, puede ser una de las 5 declaradas funciones de agregación declaradas anteriormente\n",
    "```\n",
    "\n",
    "A modo de ejemplo utilizando la tabla `Track`, podemos ver los valores mínimos y máximos para la duración de las pistas musicales:"
   ]
  },
  {
   "cell_type": "code",
   "execution_count": 2,
   "metadata": {},
   "outputs": [],
   "source": [
    "import sqlite3 #Importamos la libreria\n",
    "\n",
    "#Generamos la conexion\n",
    "conn = sqlite3.connect(\"db//Chinook_Sqlite.sqlite\") #En este caso, corresponde al archivo Chinook_Sqlite\n",
    "cursor = conn.cursor() #Generamos nuestro cursor para las consultas"
   ]
  },
  {
   "cell_type": "code",
   "execution_count": 3,
   "metadata": {},
   "outputs": [
    {
     "name": "stdout",
     "output_type": "stream",
     "text": [
      "(1071,)\n",
      "(5286953,)\n",
      "(1071, 5286953)\n"
     ]
    }
   ],
   "source": [
    "#Obtenemos el valor minimo de los milisegundos\n",
    "cursor.execute(\"SELECT MIN(Milliseconds) FROM Track\")\n",
    "print(cursor.fetchone()) #Si se fijan, dado que es una función de agregación, esta consulta solo deberia devolver 1 solo valor \n",
    "\n",
    "#Obtenermos el valor maximo\n",
    "cursor.execute(\"SELECT MAX(Milliseconds) FROM Track\")\n",
    "print(cursor.fetchone())\n",
    "\n",
    "#Y tal como otras consultas SQL, podemos consultar 1 o mas multiples valores\n",
    "cursor.execute(\"SELECT MIN(Milliseconds), MAX(Milliseconds) FROM Track\")\n",
    "print(cursor.fetchone())"
   ]
  },
  {
   "cell_type": "code",
   "execution_count": 4,
   "metadata": {},
   "outputs": [
    {
     "name": "stdout",
     "output_type": "stream",
     "text": [
      "(4,)\n"
     ]
    }
   ],
   "source": [
    "cursor.execute(\"SELECT count(Total) FROM Invoice WHERE Total > 20\")\n",
    "print(cursor.fetchone())"
   ]
  },
  {
   "cell_type": "markdown",
   "metadata": {},
   "source": [
    "Adicionalmente, podemos hacer operaciones matemáticas sobre las funciones de agregación (de la misma forma que se podría hacer sobre una columna con valores numéricos). En este caso, transformaremos los milisegundos a minutos."
   ]
  },
  {
   "cell_type": "code",
   "execution_count": 5,
   "metadata": {},
   "outputs": [
    {
     "name": "stdout",
     "output_type": "stream",
     "text": [
      "['COUNT(Milliseconds)', 'AVG(Milliseconds) / (60*1000)', 'SUM(Milliseconds) / (60*1000)']\n",
      "(3503, 6.559986868398515, 22979)\n"
     ]
    }
   ],
   "source": [
    "cursor.execute(\"SELECT COUNT(Milliseconds), AVG(Milliseconds) / (60*1000),  SUM(Milliseconds) / (60*1000) FROM Track\")\n",
    "names = [description[0] for description in cursor.description]\n",
    "print(names)\n",
    "print(cursor.fetchone())"
   ]
  },
  {
   "cell_type": "markdown",
   "metadata": {},
   "source": [
    "Finalmente, podemos agregar la cláusula WHERE para poder filtrar filas según criterios, y luego sobre estos registros filtrados, realizar la agregación:"
   ]
  },
  {
   "cell_type": "code",
   "execution_count": 6,
   "metadata": {},
   "outputs": [
    {
     "name": "stdout",
     "output_type": "stream",
     "text": [
      "[(1297, 4.7318340529426886, 6137)]\n"
     ]
    }
   ],
   "source": [
    "cursor.execute(\"SELECT COUNT(Milliseconds), AVG(Milliseconds) / (60*1000),  SUM(Milliseconds) / (60*1000)  FROM Track WHERE GenreId = 1\")\n",
    "print(cursor.fetchall())"
   ]
  },
  {
   "cell_type": "markdown",
   "metadata": {},
   "source": [
    "**Nota**: Cabe destacar incluir columnas no agregadas en una consulta que exista por lo menos una función de agregación, puede que devuelva como respuesta un error (dependiendo del motor de base de datos, ej: mysql). En el caso de SQLite, debería devolver el valor de la columna la cual se asocia el valor agregado (para las funciones MIN y MAX), o el primer valor (para otras funciones de agregación)."
   ]
  },
  {
   "cell_type": "markdown",
   "metadata": {},
   "source": [
    "# Creaciones de grupos: GROUP BY, HAVING\n",
    "\n",
    "Anteriormente, cuando nosotros aplicábamos funciones de agregación sobre nuestras columnas/tablas, el motor de base de datos automáticamente genera un grupo (el cual indica que es toda la tabla). Esto se le conoce como los grupos **implícitos**, debido a que no existe una cláusula para detallar como generar estos grupos. Por otra parte, los grupos **Explícitos** se generan cuando nosotros damos la instrucción al motor de base de datos sobre como generar los grupos. Para esto, nosotros podemos utilizar la cláusula `GROUP BY` indicando cual columna nosotros queremos generar los grupos. La sintaxis para utilizar generar los grupos corresponde a la siguiente:\n",
    "\n",
    "```SQL\n",
    "SELECT column1, FUNC(column2), FUNC(column3), ..., FUNC(columnN) FROM Tabla GROUP BY column1\n",
    "SELECT column1, FUNC(column2), FUNC(column3), ..., FUNC(columnN) FROM Tabla WHERE (condicion_logica) GROUP BY column1\n",
    "```\n",
    "\n",
    "Explorando con nuestros ejemplos: veamos qué pasa si hacemos los grupos, pero sin aplicar ninguna función de agregación:\n"
   ]
  },
  {
   "cell_type": "code",
   "execution_count": 7,
   "metadata": {},
   "outputs": [
    {
     "name": "stdout",
     "output_type": "stream",
     "text": [
      "(1,)\n",
      "(2,)\n",
      "(3,)\n",
      "(4,)\n",
      "(5,)\n"
     ]
    }
   ],
   "source": [
    "cursor.execute(\"SELECT GenreId FROM Track GROUP BY GenreId\")\n",
    "values = cursor.fetchmany(5) #Obtenemos los primeros 5 elementos\n",
    "\n",
    "for value in values:\n",
    "    print(value)"
   ]
  },
  {
   "cell_type": "markdown",
   "metadata": {},
   "source": [
    "En este caso, se imprimirán los primeros 5 grupos (o valores únicos) asociados a los géneros musicales de las canciones presentes en la tabla Track. Apliquemos funciones de agregación ahora y veamos qué es lo que nos retorna nuestras consultas:"
   ]
  },
  {
   "cell_type": "code",
   "execution_count": 8,
   "metadata": {},
   "outputs": [
    {
     "name": "stdout",
     "output_type": "stream",
     "text": [
      "(1, 1297, 4.7318340529426886)\n",
      "(2, 130, 4.862589615384615)\n",
      "(3, 374, 5.162490730837789)\n",
      "(4, 332, 3.9058974899598393)\n",
      "(5, 12, 2.2440583333333333)\n"
     ]
    }
   ],
   "source": [
    "cursor.execute(\"SELECT GenreId, COUNT(GenreId), AVG(Milliseconds)/(60*1000) FROM Track GROUP BY GenreId\")\n",
    "values = cursor.fetchmany(5)\n",
    "\n",
    "for value in values:\n",
    "    print(value)"
   ]
  },
  {
   "cell_type": "markdown",
   "metadata": {},
   "source": [
    "En este caso, para cada uno de los Géneros Musicales se tienen el conteo de valores no nulos y el promedio de minutos para cada uno de estos Géneros. Ahora aplicando un filtro con la cláusula WHERE:"
   ]
  },
  {
   "cell_type": "code",
   "execution_count": 9,
   "metadata": {},
   "outputs": [
    {
     "name": "stdout",
     "output_type": "stream",
     "text": [
      "(18, 13, 43.759151282051285)\n",
      "(19, 93, 35.75068369175627)\n",
      "(20, 26, 48.52971730769231)\n",
      "(21, 64, 42.92139635416667)\n",
      "(22, 17, 26.421061764705883)\n"
     ]
    }
   ],
   "source": [
    "cursor.execute(\"SELECT GenreId, COUNT(GenreId), AVG(Milliseconds)/(60*1000) FROM Track WHERE UnitPrice > 1.5 GROUP BY GenreId\")\n",
    "values = cursor.fetchall()\n",
    "\n",
    "for value in values:\n",
    "    print(value)"
   ]
  },
  {
   "cell_type": "markdown",
   "metadata": {},
   "source": [
    "Para canciones con el precio unitario mayor a  1.5 , los grupos (y por ende también) los valores de conteo de elementos no nulos y promedios de minutos van a cambiar. En este caso, los identificadores de Género Musical parten desde el 18 a diferencia de la consulta sin filtrar."
   ]
  },
  {
   "cell_type": "markdown",
   "metadata": {},
   "source": [
    "Cabe destacar que el filtro de WHERE se realiza previamente a realizar los grupos. Por lo mismo, existe la forma de poder filtrar después de realizar los grupos utilizando la cláusula HAVING y cuya sintaxis es: \n",
    "```SQL\n",
    "SELECT column1, FUNC(column2), FUNC(column3), ..., FUNC(columnN) FROM Tabla GROUP BY column1 HAVING (condicion_logica1)\n",
    "SELECT column1, FUNC(column2), FUNC(column3), ..., FUNC(columnN) FROM Tabla WHERE (condicion_logica1) GROUP BY column1 HAVING (condicion_logica2)\n",
    "```"
   ]
  },
  {
   "cell_type": "markdown",
   "metadata": {},
   "source": [
    "Viendo un ejemplo utilizando nuestras tablas:"
   ]
  },
  {
   "cell_type": "code",
   "execution_count": 10,
   "metadata": {},
   "outputs": [
    {
     "name": "stdout",
     "output_type": "stream",
     "text": [
      "(2, 130, 4.862589615384615)\n",
      "(3, 374, 5.162490730837789)\n",
      "(4, 332, 3.9058974899598393)\n",
      "(5, 12, 2.2440583333333333)\n",
      "(6, 81, 4.505996296296296)\n",
      "(7, 579, 3.8809877086931492)\n",
      "(8, 58, 4.119629310344828)\n",
      "(9, 48, 3.817235069444444)\n",
      "(10, 43, 4.072848062015503)\n",
      "(12, 24, 3.1527368055555556)\n",
      "(13, 28, 4.95754880952381)\n",
      "(14, 61, 3.66778087431694)\n",
      "(16, 28, 3.748730357142857)\n",
      "(23, 40, 4.400975416666667)\n",
      "(25, 1, 2.91355)\n"
     ]
    }
   ],
   "source": [
    "cursor.execute(\"SELECT GenreId, COUNT(GenreId), AVG(Milliseconds)/(60*1000) FROM Track GROUP BY GenreId HAVING Milliseconds between 100000 AND 300000\") \n",
    "values = cursor.fetchall()\n",
    "\n",
    "for value in values:\n",
    "    print(value)"
   ]
  },
  {
   "cell_type": "markdown",
   "metadata": {},
   "source": [
    "La gracia de utilizar having, es que ahora nuestras condiciones lógicas pueden incluir agregaciones dependientes de los grupos:"
   ]
  },
  {
   "cell_type": "code",
   "execution_count": 11,
   "metadata": {},
   "outputs": [
    {
     "name": "stdout",
     "output_type": "stream",
     "text": [
      "(5, 12, 2.2440583333333333)\n",
      "(9, 48, 3.817235069444444)\n",
      "(10, 43, 4.072848062015503)\n",
      "(11, 15, 3.6598333333333333)\n",
      "(12, 24, 3.1527368055555556)\n",
      "(13, 28, 4.95754880952381)\n",
      "(15, 30, 5.049763333333333)\n",
      "(16, 28, 3.748730357142857)\n",
      "(17, 35, 2.969604761904762)\n",
      "(18, 13, 43.759151282051285)\n",
      "(20, 26, 48.52971730769231)\n",
      "(22, 17, 26.421061764705883)\n",
      "(23, 40, 4.400975416666667)\n",
      "(25, 1, 2.91355)\n"
     ]
    }
   ],
   "source": [
    "cursor.execute(\"SELECT GenreId, COUNT(GenreId), AVG(Milliseconds)/(60*1000) FROM Track GROUP BY GenreId HAVING COUNT() < 50 \") \n",
    "values = cursor.fetchall()\n",
    "\n",
    "for value in values:\n",
    "    print(value)"
   ]
  },
  {
   "cell_type": "markdown",
   "metadata": {},
   "source": [
    "# Ordenar los valores retornados de una consulta\n",
    "\n",
    "Para poder ordenar los valores retornados de una consulta desde SQL podemos usar la sentencia `ORDER BY`, la cual tiene que ir al final de la consulta SQL. La sintaxis corresponde a la siguiente:\n",
    "\n",
    "```SQL\n",
    "SELECT column1, column2, column3, ..., columnN FROM Tabla ORDER BY column2\n",
    "SELECT column1, column2, column3, ..., columnN FROM Tabla ORDER BY column2 DESC\n",
    "\n",
    "SELECT column1, column2, column3, ..., columnN FROM Tabla ORDER BY 2\n",
    "SELECT column1, column2, column3, ..., columnN FROM Tabla ORDER BY 2 DESC\n",
    "```\n",
    "\n",
    "En este caso, podemos ver dos cosas interesantes, ya sea podemos ordenar por el nombre de la columna obtenida en la respuesta, o en su defecto según su índice (column2, en este caso corresponde al índice 2) partiendo desde el valor 1. Lo segundo que podemos observar, corresponde a incluir o no la cláusula `DESC`. Por defecto, `ORDER BY` ordena de forma **ascendente**, y utilizando `DESC` obtenemos la forma **descendente**. Veamos unos ejemplos extendiendo lo visto con `GROUP BY` y `HAVING`\n"
   ]
  },
  {
   "cell_type": "code",
   "execution_count": 12,
   "metadata": {},
   "outputs": [
    {
     "name": "stdout",
     "output_type": "stream",
     "text": [
      "(5, 12, 2.2440583333333333)\n",
      "(25, 1, 2.91355)\n",
      "(17, 35, 2.969604761904762)\n",
      "(12, 24, 3.1527368055555556)\n",
      "(11, 15, 3.6598333333333333)\n",
      "(16, 28, 3.748730357142857)\n",
      "(9, 48, 3.817235069444444)\n",
      "(10, 43, 4.072848062015503)\n",
      "(23, 40, 4.400975416666667)\n",
      "(13, 28, 4.95754880952381)\n",
      "(15, 30, 5.049763333333333)\n",
      "(22, 17, 26.421061764705883)\n",
      "(18, 13, 43.759151282051285)\n",
      "(20, 26, 48.52971730769231)\n"
     ]
    }
   ],
   "source": [
    "cursor.execute(\"SELECT GenreId, COUNT(GenreId), AVG(Milliseconds)/(60*1000) FROM Track GROUP BY GenreId HAVING COUNT(*) < 50 ORDER BY 3\") \n",
    "values = cursor.fetchall()\n",
    "\n",
    "for value in values:\n",
    "    print(value)"
   ]
  },
  {
   "cell_type": "code",
   "execution_count": 13,
   "metadata": {},
   "outputs": [
    {
     "name": "stdout",
     "output_type": "stream",
     "text": [
      "(20, 26, 48.52971730769231)\n",
      "(18, 13, 43.759151282051285)\n",
      "(22, 17, 26.421061764705883)\n",
      "(15, 30, 5.049763333333333)\n",
      "(13, 28, 4.95754880952381)\n",
      "(23, 40, 4.400975416666667)\n",
      "(10, 43, 4.072848062015503)\n",
      "(9, 48, 3.817235069444444)\n",
      "(16, 28, 3.748730357142857)\n",
      "(11, 15, 3.6598333333333333)\n",
      "(12, 24, 3.1527368055555556)\n",
      "(17, 35, 2.969604761904762)\n",
      "(25, 1, 2.91355)\n",
      "(5, 12, 2.2440583333333333)\n"
     ]
    }
   ],
   "source": [
    "cursor.execute(\"SELECT GenreId, COUNT(GenreId), AVG(Milliseconds)/(60*1000) as prom FROM Track GROUP BY GenreId HAVING COUNT(*) < 50 ORDER BY prom DESC\") \n",
    "values = cursor.fetchall()\n",
    "\n",
    "for value in values:\n",
    "    print(value)"
   ]
  },
  {
   "cell_type": "code",
   "execution_count": 14,
   "metadata": {},
   "outputs": [
    {
     "name": "stdout",
     "output_type": "stream",
     "text": [
      "(10, 43, 4.072848062015503)\n",
      "(9, 48, 3.817235069444444)\n",
      "(8, 58, 4.119629310344828)\n",
      "(14, 61, 3.66778087431694)\n",
      "(21, 64, 42.92139635416667)\n",
      "(24, 74, 4.897792792792793)\n",
      "(6, 81, 4.505996296296296)\n",
      "(19, 93, 35.75068369175627)\n",
      "(2, 130, 4.862589615384615)\n",
      "(4, 332, 3.9058974899598393)\n",
      "(3, 374, 5.162490730837789)\n",
      "(7, 579, 3.8809877086931492)\n",
      "(1, 1297, 4.7318340529426886)\n"
     ]
    }
   ],
   "source": [
    "cursor.execute(\"SELECT GenreId, COUNT(GenreId), AVG(Milliseconds)/(60*1000) as prom FROM Track GROUP BY GenreId HAVING COUNT() > 40 ORDER BY 2 \") \n",
    "values = cursor.fetchall()\n",
    "\n",
    "for value in values:\n",
    "    print(value)"
   ]
  },
  {
   "cell_type": "code",
   "execution_count": null,
   "metadata": {},
   "outputs": [],
   "source": []
  }
 ],
 "metadata": {
  "interpreter": {
   "hash": "6f5583cf1d9466b5c27e75c89cc6b383bed5736d6b16c51c8074d8690011a952"
  },
  "kernelspec": {
   "display_name": "Python 3.8.8 ('base')",
   "language": "python",
   "name": "python3"
  },
  "language_info": {
   "codemirror_mode": {
    "name": "ipython",
    "version": 3
   },
   "file_extension": ".py",
   "mimetype": "text/x-python",
   "name": "python",
   "nbconvert_exporter": "python",
   "pygments_lexer": "ipython3",
   "version": "3.8.8"
  },
  "orig_nbformat": 4
 },
 "nbformat": 4,
 "nbformat_minor": 2
}
