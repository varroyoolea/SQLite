{
 "cells": [
  {
   "cell_type": "markdown",
   "metadata": {},
   "source": [
    "Usualmente, todas las consultas SQL (a excepción de la sentencia insert) pueden incluir una cláusula condicional, la cual nos permite filtrarlas por ciertas condiciones que nosotros definamos. Para esto nosotros tenemos que utilizar la sentencia **where** para añadir uno o más condiciones para filtrar.\n",
    "```sql\n",
    "SELECT columna1 FROM tabla WHERE condicion\n",
    "```\n",
    "\n",
    "donde `condicion` puede ser cualquiera de los operadores condicionales:\n",
    "\n",
    "- \\> (Mayor), >= (Mayor o igual)\n",
    "- < (Menor), <= (Menor o igual)\n",
    "- = (Igual), != (No igual), <> (No igual)\n",
    "- NOT (Negación)\n",
    "- IN (especificar múltiples valores)\n",
    "- BETWEEN (Especificar un rango de valores).\n",
    "\n",
    "Por otra parte, podemos añadir múltiples condiciones utilizando los operadores `OR` y el operador `AND`. Entonces, reescribiendo la consulta anterior, a modo de ejemplo tenemos: \n",
    "\n",
    "```sql\n",
    "SELECT * FROM tabla WHERE columna1 > 50;\n",
    "SELECT columna1 FROM tabla WHERE columna2 > 50;\n",
    "SELECT columna1, columna2 FROM tabla WHERE (columna2 < 10 AND columna1 > 5) OR columnaN = 1;\n",
    "```"
   ]
  },
  {
   "cell_type": "code",
   "execution_count": 2,
   "metadata": {},
   "outputs": [],
   "source": [
    "import sqlite3 #Importamos la libreria\n",
    "\n",
    "#Generamos la conexion\n",
    "conn = sqlite3.connect(\"db//Chinook_Sqlite.sqlite\") #En este caso, corresponde al archivo Chinook_Sqlite\n",
    "cursor = conn.cursor() #Generamos nuestro cursor para las consultas"
   ]
  },
  {
   "cell_type": "markdown",
   "metadata": {},
   "source": [
    "Utilizando el siguiente comando, nosotros podremos ver todas las tablas existentes en nuestro archivo SQLite.\n",
    "\n",
    "**Nota:** En la mayoría de los motores de bases de datos, existe una sentencia similar que permite enlistar todas las tablas a las cuales se pueden acceder"
   ]
  },
  {
   "cell_type": "code",
   "execution_count": 3,
   "metadata": {},
   "outputs": [
    {
     "name": "stdout",
     "output_type": "stream",
     "text": [
      "[('Album',), ('Artist',), ('Customer',), ('Employee',), ('Genre',), ('Invoice',), ('InvoiceLine',), ('MediaType',), ('Playlist',), ('PlaylistTrack',), ('Track',)]\n"
     ]
    }
   ],
   "source": [
    "cursor.execute(\"SELECT name FROM sqlite_master WHERE type='table';\") #Seleccionamos la columna Nombre de la tabla sqlite_master, donde la columna type sea igual a 'table'\n",
    "print(cursor.fetchall()) #Le pedimos a nuestro cursor que obtenga todos los resultados y los imprima:"
   ]
  },
  {
   "cell_type": "markdown",
   "metadata": {},
   "source": [
    "Podemos ver entonces que existen 11 tablas en nuestra base de datos, cada una relacionada de distinta manera. Supongamos que queremos ver cuáles son las columnas que existen en una de estas tablas, donde nosotros utilizaremos la sentencia `PRAGMA`. Si bien, esta sentencia corresponde a operaciones más avanzadas, nosotros la podremos definir como: Una extensión de SQL para SQLite, la cual nos permite modificar la operación de SQLite, o en su defecto, consultar por datos internos de una base de datos.\n",
    "\n",
    "Específicamente, nosotros utilizaremos el método implementado en `PRAGMA` llamado `table_info`, el cual permitirá imprimir las distintas columnas pertenecientes en una tabla. Esta consulta nos retornara distintos campos en el siguiente orden:\n",
    "\n",
    "- Id de la columna\n",
    "- Nombre de la columna\n",
    "- Tipo de dato asociada a la columna\n",
    "- Flag indicando si la columna puede ser nula o no\n",
    "- Valor por defecto para dicha columna\n",
    "- Flag de clave primaria\n",
    "\n",
    "\n",
    "Mayor información la pueden revisar en la [documentación de PRAGMA](https://www.sqlite.org/pragma.html)"
   ]
  },
  {
   "cell_type": "code",
   "execution_count": 4,
   "metadata": {},
   "outputs": [
    {
     "name": "stdout",
     "output_type": "stream",
     "text": [
      "(0, 'InvoiceId', 'INTEGER', 1, None, 1)\n",
      "(1, 'CustomerId', 'INTEGER', 1, None, 0)\n",
      "(2, 'InvoiceDate', 'DATETIME', 1, None, 0)\n",
      "(3, 'BillingAddress', 'NVARCHAR(70)', 0, None, 0)\n",
      "(4, 'BillingCity', 'NVARCHAR(40)', 0, None, 0)\n",
      "(5, 'BillingState', 'NVARCHAR(40)', 0, None, 0)\n",
      "(6, 'BillingCountry', 'NVARCHAR(40)', 0, None, 0)\n",
      "(7, 'BillingPostalCode', 'NVARCHAR(10)', 0, None, 0)\n",
      "(8, 'Total', 'NUMERIC(10,2)', 1, None, 0)\n"
     ]
    }
   ],
   "source": [
    "cursor.execute(\"PRAGMA table_info('Invoice')\")\n",
    "for element in cursor.fetchall():\n",
    "    print(element) "
   ]
  },
  {
   "cell_type": "markdown",
   "metadata": {},
   "source": [
    "Estos comandos son útiles cuando no tenemos un diagrama para una base de datos el cual podemos consultar de forma gráfica, el cómo están compuestas. En este caso, vemos que la tabla `Invoice`, está compuesta por 9 columnas, las cuales corresponden a distintos identificadores, y otras columnas relacionadas a un *invoice* (factura). A continuación, veremos un **modelo relacional** de cómo está compuesta la base de datos chinook y como se relacionan las distintas tablas.\n",
    "\n",
    "<center><img src=\"https://drive.google.com/uc?id=10Ywd-W40s54shifso6U9BYPTYyMF5sYe\"></center>"
   ]
  },
  {
   "cell_type": "markdown",
   "metadata": {},
   "source": [
    "También existe la aplicación DB browser, que permite \"ver\" las bbdd"
   ]
  },
  {
   "cell_type": "markdown",
   "metadata": {},
   "source": [
    "### Con todos estos antecedentes, procedamos a hacer consultas a la base de datos. \n",
    "\n",
    "Primero, veamos la tabla `Invoice`, seleccionemos los primeros 5 elementos utilizando el método `cursor.fetchmany(N)` donde `N = 5`"
   ]
  },
  {
   "cell_type": "code",
   "execution_count": 5,
   "metadata": {},
   "outputs": [
    {
     "name": "stdout",
     "output_type": "stream",
     "text": [
      "(1, 2, '2009-01-01 00:00:00', 'Theodor-Heuss-Straße 34', 'Stuttgart', None, 'Germany', '70174', 1.98)\n",
      "(2, 4, '2009-01-02 00:00:00', 'Ullevålsveien 14', 'Oslo', None, 'Norway', '0171', 3.96)\n",
      "(3, 8, '2009-01-03 00:00:00', 'Grétrystraat 63', 'Brussels', None, 'Belgium', '1000', 5.94)\n",
      "(4, 14, '2009-01-06 00:00:00', '8210 111 ST NW', 'Edmonton', 'AB', 'Canada', 'T6G 2C7', 8.91)\n",
      "(5, 23, '2009-01-11 00:00:00', '69 Salem Street', 'Boston', 'MA', 'USA', '2113', 13.86)\n"
     ]
    }
   ],
   "source": [
    "cursor.execute(\"SELECT * FROM Invoice\")\n",
    "registers = cursor.fetchmany(5)\n",
    "for reg in registers:\n",
    "    print(reg)"
   ]
  },
  {
   "cell_type": "code",
   "execution_count": 6,
   "metadata": {},
   "outputs": [
    {
     "name": "stdout",
     "output_type": "stream",
     "text": [
      "412\n"
     ]
    }
   ],
   "source": [
    "cursor.execute(\"SELECT * FROM Invoice\") #Ejecutamos la sentencia\n",
    "all_registers = cursor.fetchall() #obtenemos todos los registros que cumplan la sentencia\n",
    "print(len(all_registers)) #Imprimimos la cantiodad de elementos que existen"
   ]
  },
  {
   "cell_type": "markdown",
   "metadata": {},
   "source": [
    " ### ¿Cuantos registros existen en la tabla Invoice con un valor de factura mayor a 20?"
   ]
  },
  {
   "cell_type": "code",
   "execution_count": 7,
   "metadata": {},
   "outputs": [
    {
     "name": "stdout",
     "output_type": "stream",
     "text": [
      "[(96, 45, '2010-02-18 00:00:00', 'Erzsébet krt. 58.', 'Budapest', None, 'Hungary', 'H-1073', 21.86), (194, 46, '2011-04-28 00:00:00', '3 Chatham Street', 'Dublin', 'Dublin', 'Ireland', None, 21.86), (299, 26, '2012-08-05 00:00:00', '2211 W Berry Street', 'Fort Worth', 'TX', 'USA', '76110', 23.86), (404, 6, '2013-11-13 00:00:00', 'Rilská 3174/6', 'Prague', None, 'Czech Republic', '14300', 25.86)]\n",
      "La cantidad de registros con un valor de factura mayor a 20 son: 4\n"
     ]
    }
   ],
   "source": [
    "cursor.execute(\"SELECT * FROM Invoice WHERE Total > 20\")\n",
    "response = cursor.fetchall()\n",
    "print(response)\n",
    "print(\"La cantidad de registros con un valor de factura mayor a 20 son:\", len(response))"
   ]
  },
  {
   "cell_type": "markdown",
   "metadata": {},
   "source": [
    "### ¿Cuantos registros existen en la tabla Invoice con un valor de factura menor a 10?"
   ]
  },
  {
   "cell_type": "code",
   "execution_count": 8,
   "metadata": {},
   "outputs": [
    {
     "name": "stdout",
     "output_type": "stream",
     "text": [
      "La cantidad de registros con un valor de factura menor a 10 son: 348\n"
     ]
    }
   ],
   "source": [
    "cursor.execute(\"SELECT * FROM Invoice WHERE Total < 10\")\n",
    "print(\"La cantidad de registros con un valor de factura menor a 10 son:\", len(cursor.fetchall()))"
   ]
  },
  {
   "cell_type": "markdown",
   "metadata": {},
   "source": [
    "### ¿Cuantas canciones pertenecen al Género Musical con identificador igual a 1?"
   ]
  },
  {
   "cell_type": "code",
   "execution_count": 9,
   "metadata": {},
   "outputs": [
    {
     "name": "stdout",
     "output_type": "stream",
     "text": [
      "La cantidad de canciones con el identificador de Genero Musical igual a 1 son: 1297\n"
     ]
    }
   ],
   "source": [
    "cursor.execute(\"SELECT * FROM Track WHERE GenreId = 1\")\n",
    "print(\"La cantidad de canciones con el identificador de Genero Musical igual a 1 son:\",len(cursor.fetchall()))"
   ]
  },
  {
   "cell_type": "markdown",
   "metadata": {},
   "source": [
    "### ¿Cuantas canciones pertenecen al Género Musical con identificador distinto de 1?"
   ]
  },
  {
   "cell_type": "code",
   "execution_count": 10,
   "metadata": {},
   "outputs": [
    {
     "name": "stdout",
     "output_type": "stream",
     "text": [
      "La cantidad de canciones con el identificador de Genero Musical distinto a 1 son: 2206\n"
     ]
    }
   ],
   "source": [
    "cursor.execute(\"SELECT * FROM Track WHERE GenreId != 1\")\n",
    "print(\"La cantidad de canciones con el identificador de Genero Musical distinto a 1 son:\",len(cursor.fetchall()))"
   ]
  },
  {
   "cell_type": "markdown",
   "metadata": {},
   "source": [
    "Alternativamente, podemos utilizar el operador NOT a la condición lógica de igualdad, para poder hacer el mismo proceso de consultar la última consulta de ¿Cuantas canciones pertenecen al Género Musical con identificador distinto de 1? La sintaxis corresponde a la siguiente:"
   ]
  },
  {
   "cell_type": "code",
   "execution_count": 13,
   "metadata": {},
   "outputs": [
    {
     "name": "stdout",
     "output_type": "stream",
     "text": [
      "Alternativamente, utilizando el operador NOT: 2206\n"
     ]
    }
   ],
   "source": [
    "cursor.execute(\"SELECT * FROM Track WHERE NOT (GenreId = 1)\")\n",
    "print(\"Alternativamente, utilizando el operador NOT:\",len(cursor.fetchall())) # Vamos a ver que las cantidades coinciden "
   ]
  },
  {
   "cell_type": "markdown",
   "metadata": {},
   "source": [
    "Para los operadores `IN` y `BETWEEN` la sintaxis puede ser distinta a una consulta típica de SQL, donde estas son:\n",
    "```SQL\n",
    "SELECT * FROM Tabla WHERE Columna IN (Val1,Val2,...,ValN) -- Uso del IN\n",
    "SELECT * FROM Tabla WHERE Columna BETWEEN Val1 AND Val2 -- Uso del BETWEEN\n",
    "```"
   ]
  },
  {
   "cell_type": "markdown",
   "metadata": {},
   "source": [
    "¿Cuantas canciones existen las cuales pertenezcan a los géneros musicales definidos por los identificadores 1, 2 o 3?"
   ]
  },
  {
   "cell_type": "code",
   "execution_count": 14,
   "metadata": {},
   "outputs": [
    {
     "name": "stdout",
     "output_type": "stream",
     "text": [
      "1801\n"
     ]
    }
   ],
   "source": [
    "cursor.execute(\"SELECT * FROM Track WHERE GenreId IN (1,2,3)\")\n",
    "print(len(cursor.fetchall()))"
   ]
  },
  {
   "cell_type": "markdown",
   "metadata": {},
   "source": [
    "¿Cuantas canciones existen las cuales tengan una duración entre 100000 y 300000 Milisegundos?"
   ]
  },
  {
   "cell_type": "code",
   "execution_count": 15,
   "metadata": {},
   "outputs": [
    {
     "name": "stdout",
     "output_type": "stream",
     "text": [
      "2376\n"
     ]
    }
   ],
   "source": [
    "cursor.execute(\"SELECT * FROM Track WHERE Milliseconds BETWEEN 100000 AND 300000\")\n",
    "print(len(cursor.fetchall()))"
   ]
  },
  {
   "cell_type": "code",
   "execution_count": 16,
   "metadata": {},
   "outputs": [
    {
     "name": "stdout",
     "output_type": "stream",
     "text": [
      "1127\n"
     ]
    }
   ],
   "source": [
    "cursor.execute(\"SELECT * FROM Track WHERE Milliseconds NOT BETWEEN 100000 AND 300000\")\n",
    "print(len(cursor.fetchall()))"
   ]
  }
 ],
 "metadata": {
  "interpreter": {
   "hash": "6f5583cf1d9466b5c27e75c89cc6b383bed5736d6b16c51c8074d8690011a952"
  },
  "kernelspec": {
   "display_name": "Python 3.8.8 ('base')",
   "language": "python",
   "name": "python3"
  },
  "language_info": {
   "codemirror_mode": {
    "name": "ipython",
    "version": 3
   },
   "file_extension": ".py",
   "mimetype": "text/x-python",
   "name": "python",
   "nbconvert_exporter": "python",
   "pygments_lexer": "ipython3",
   "version": "3.8.8"
  },
  "orig_nbformat": 4
 },
 "nbformat": 4,
 "nbformat_minor": 2
}
