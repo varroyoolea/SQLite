{
 "cells": [
  {
   "cell_type": "markdown",
   "metadata": {},
   "source": [
    "# <b> El Modelo ER </b>\n",
    "<ul>\n",
    "<li>Es una representación de tablas-datos-relaciones que se almacenarán en una BD:</li>\n",
    "<li>Es independiente del hardware y del software.</li>\n",
    "<li> La notación que se utiliza puede ser comprendida tanto por el usuario/client como por el diseñador de la BD.</li>\n",
    "<li>El modelo ER fue propuesto por Peter Chen en su artículo <a href=\"http://citeseerx.ist.psu.edu/viewdoc/download?doi=10.1.1.526.369&rep=rep1&type=pdf\"> The Entity-Relationship Model-Toward a Unified View of Data</a>, ACM Transactions on Database Systems, Vol 1, Nro 1, March 1976.</li>\n",
    "<li>Se basa en dos conceptos: Entidad y Relación</li>\n",
    "</ul>"
   ]
  },
  {
   "cell_type": "markdown",
   "metadata": {},
   "source": [
    "## Entidad \n",
    "<ul>\n",
    "<li>Es todo sobre lo cual se desea recolectar datos y almacenarlos.</li>\n",
    "<li>En general son conceptos reconocibles,concretos o abstractos tales como: persona, lugar, proyecto, etc.</li>\n",
    "<li>Una ocurrencia individual de una entidad es un instancia. Por ejemplo: existe una entidad <b>Alumno</b> y miles instancias de esta entidad.</li>\n",
    "<li>Se recomienda que el nombre de una entidad se escriba en singular.</li>\n",
    "<li>Una entidad es descrita mediante sus atributos:</li>\n",
    "</ul>"
   ]
  },
  {
   "cell_type": "markdown",
   "metadata": {},
   "source": [
    "## Relación\n",
    "<ul>\n",
    "<li>Representa una asociación entre una o más entidades.</i>\n",
    "<li>Se representan mediante un verbo. Ejemplos: un alumno <b>inscribe</b> asignaturas, un profesor <b> dicta </b> una o más asignaturas, un departamento <b> administra </b> uno o más proyectos.</i>\n",
    "<li>Una relación se describe mediante su cardinalidad: </i>\n",
    "<ul>\n",
    "<li>Relaciones uno-a-uno (1:1). Una instancia de la entidad A se relaciona sólo con una instancia de la entidad B. Por ejemplo: Un proyecto de título es realizado sólo por un alumno.</li>\n",
    "<center><img src=\"https://drive.google.com/uc?id=1C8udC4NMMgysFnOd_DXqZPhYQLW9Udsn\"></center>\n",
    "\n",
    "<li>Relaciones uno-a-muchos (1:N). Una instancia de la entidad A se relaciona con muchas instancias de la entidad B, al mismo tiempo una instancia de B se relaciona con una instancia de A. Por ejemplo: un departamento tiene muchos empleados (un empleado pertenece sólo a un departamento). </li>\n",
    "<center><img src=\"https://drive.google.com/uc?id=1DiTeVN9GYYTIBhuD0p7pJQqNkWrZXFiA\"></center>\n",
    "\n",
    "<li>Relaciones muchos-a-muchos (N:M). Un alumno inscribe muchas asignaturas y una asignatura es inscrita por muchos alumnos.</li>\n",
    "<center><img src=\"https://drive.google.com/uc?id=1XnjGkfU2sxKMrSIHXxOUBejjLfs7DC6I\"></center>\n",
    "\n",
    "<ul>\n",
    "<li>Una relación N:M no se puede implementar directamente en el modelo relacional.</li>\n",
    "<li>Se transforma en 2 relaciones del tipo 1:N y se genera una entidad de asociación.</li>\n",
    "<center><img src=\"https://drive.google.com/uc?id=1wynUNF2VVNx58AJp0Rhv7f2h2r26yyIR\"></center>\n",
    "\n",
    "<li>Más allá de una cuestión de implementación, en algunos casos es necesario almacenar datos que pertenecen a la relación. por ejemplo: Los empleados pueden ser asignados a muchos proyectos y en un proyecto trabajan muchos empleados. Si un requerimiento fuera \"calcular la cantidad de horas trabajados por proyecto de un determinado empleado\". Donde registramos las horas trabajadas?</li>\n",
    "</ul>\n",
    "</ul>\n",
    "</ul>"
   ]
  },
  {
   "cell_type": "markdown",
   "metadata": {},
   "source": [
    "## Clave primaria y clave foránea\n",
    "<ul>\n",
    "<li>Corresponden al componente más básico sobre el cual se basa el modelo relacional.</li>\n",
    "<li>La clave primaria identifica de manera única las ocurrencias de una entidad.</li>\n",
    "<ul>\n",
    "<li>Toda entidad debe tener una clave primaria.</li>\n",
    "<li>Puede estar compuesta de uno o más atributos.</li>\n",
    "<li>Su valor es único para cada instancia y no permite valores nulos.</li>\n",
    "<li>Una clave primaria puede ser \"artificial\".</li>\n",
    "</ul>\n",
    "\n",
    "<li>La clave foránea permite materializar una asociación entre 2 entidades.</li>\n",
    "<ul>\n",
    "<li>En una relación 1:N entre las entidades A y B, la entidad B \"hereda\" la clave primaria de la entidad A.</li>\n",
    "<li>En la entidad B, la clave \"heredada\" se conoce como clave foránea.</li>\n",
    "<li>La clave foránea permite \"navegar\" en el modelo relacional.</li>\n",
    "</ul>\n",
    "\n",
    "</ul>"
   ]
  },
  {
   "cell_type": "markdown",
   "metadata": {},
   "source": [
    "# <b>PonyORM</b>\n",
    "<ul>\n",
    "<li> <a href=\"https://editor.ponyorm.com/\">PonyORM</a> es una herramienta que permite la creación de modelos ER.</li>\n",
    "<li> Además, un modelo ER puede ser transformado a un modelo relacional en SQLite, MySQL, PostgreSQL y Oracle.</li>\n",
    "<li>Crearemos un pequeño modelo ER simple, su respectivo modelo relacional y lo cargaremos en una BD SQLite. IMPORTANTE: agregar al script <b>PRAGMA foreign_keys=on;</b></li>\n",
    "<li> Una empresa lleva el registro de sus proyectos:</li>\n",
    "<ul>\n",
    "<li>Cada proyecto tienen un nombre, código, fecha de inicio y fecha de término</li>\n",
    "<li>Los empleados pueden trabajar en muchos proyectos y en un proyecto trabajan muchos empleados. \n",
    "</ul>\n",
    "</ul>"
   ]
  }
 ],
 "metadata": {
  "language_info": {
   "name": "python"
  },
  "orig_nbformat": 4
 },
 "nbformat": 4,
 "nbformat_minor": 2
}
