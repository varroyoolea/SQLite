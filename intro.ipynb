{
 "cells": [
  {
   "cell_type": "markdown",
   "metadata": {},
   "source": [
    "\n",
    "<li>Es un lenguaje de programación declarativo (especifica el qué y no el cómo).</li>\n",
    "<li>Permite la implementación del Modelo Relacional propuesto por Codd en su artículo <a href=\"https://www.seas.upenn.edu/~zives/03f/cis550/codd.pdf\"> <b>\"A Relational Model of Data for Larga Shared Data Banks\"</b></a></li>\n",
    "<li>Permite la creación/definición de bases de datos, tablas (CREATE, DROP, ALTER, y su manipulación (SELECT, INSERT, UPDATE, DELETE).</li>\n",
    "<li> Los sistemas administradores de bases de datos (DBMS) relacionales implementan SQL.</li>\n",
    "<li>Algunos ejemplos de DBMS: <a href=\"http://www.postgresql.org\">PostgreSQL</a>,<a href=\"http://www.mysql.com\"> MySQL, <a href=\"http://sqlite.org\"> SQLite.</a></li>\n",
    "</ul>"
   ]
  },
  {
   "cell_type": "markdown",
   "metadata": {},
   "source": [
    "<li> Una base de datos es conjunto de archivos lógicamente relacionados. </li>\n",
    "<li> Los archivo se representan en forma de tablas bidimensionales (filas y columnas).</li>"
   ]
  },
  {
   "cell_type": "markdown",
   "metadata": {},
   "source": [
    "<img src=\"https://drive.google.com/uc?id=1A6Rgxv_ONoklDGuP2PlUcRpTht5aVDA8\" >"
   ]
  },
  {
   "cell_type": "markdown",
   "metadata": {},
   "source": [
    "Con <a href=\"https://docs.python.org/3/library/sqlite3.html#\">sqlite3</a> podremos:\n",
    "<ul>\n",
    "<li>Crear una base de datos.</li>\n",
    "<li>Crear tablas (definir su estructura).</li>\n",
    "<li>Manipular una base de datos y sus tablas.</li>\n",
    "</ul>\n",
    "\n",
    "<img src=\"https://drive.google.com/uc?id=1juTUtRyNbJxZ1yQ30CDHffijQwobJehW\"><br>"
   ]
  },
  {
   "cell_type": "markdown",
   "metadata": {},
   "source": [
    "## Tipos de datos en SQLite\n",
    "<ul>\n",
    "<li>NULL</li>\n",
    "<li>INTEGER: para números enteros con signo de 1,2,3,4, 6 u 8 bytes (depende del valor a almacenar).</li>\n",
    "<li>REAL: para números reales, se almacena usando el formato 8 bytes IEEE.</li>\n",
    "<li>TEXT: para almacenar strings.</li>\n",
    "<li>BLOB: para binarios, se almacenan tal cual son.</li>\n",
    "</ul>"
   ]
  },
  {
   "cell_type": "code",
   "execution_count": 2,
   "metadata": {},
   "outputs": [],
   "source": [
    "import sqlite3"
   ]
  },
  {
   "cell_type": "markdown",
   "metadata": {},
   "source": [
    "Luego de importar el módulo sqlite3, debemos seguir los sgtes pasos para trabajar con una BD SQLite:\n",
    "<ol>\n",
    "<li>Crear o conectarse a una BD ya existente usando el método <b>connect( )</b>.</li>\n",
    "<li>Crear un cursor usando el método <b>cursor( )</b>.</li>\n",
    "<li>Ejecutar operaciones usando el método <b>execute( )</b>(crear tablas, SQL).</li>\n",
    "<li>Cerrar el cursor usando el método <b>close( )</b>.</li>\n",
    "<li>Cerra la conexión usando el método <b>close( )</b>.</li>\n",
    "\n",
    "</ol>"
   ]
  },
  {
   "cell_type": "markdown",
   "metadata": {},
   "source": [
    "## <b>sqlite3.connect( )</b><br>\n",
    "<ul>\n",
    "<li> Mediante el método connect podemos crear una BD o conectarnos a una ya existente.</li>\n",
    "<li> Es posible especificar que se creará una BD en RAM usando \":memory:\".\n",
    "<li> Retorna un objeto de tipo <b>SQLite Connection</b>.\n",
    "\n",
    "</ul>"
   ]
  },
  {
   "cell_type": "code",
   "execution_count": 3,
   "metadata": {},
   "outputs": [],
   "source": [
    "connection = sqlite3.connect(\":memory:\")"
   ]
  },
  {
   "cell_type": "markdown",
   "metadata": {},
   "source": [
    "## <b>connection.cursor( )</b><br>\n",
    "<ul>\n",
    "<li>Luego de crear la BD, crearemos un cursor.</li>\n",
    "<li>Un cursor se utiliza para ejecutar sentencias SQL y recuperar los resultados de dichas sentencias.</li>\n",
    "<li>El cursor se crea utilizando el objeto <b>SQLite Connection</b> del paso anterior.</li>\n",
    "</ul>"
   ]
  },
  {
   "cell_type": "code",
   "execution_count": 4,
   "metadata": {},
   "outputs": [],
   "source": [
    "cursor = connection.cursor()"
   ]
  },
  {
   "cell_type": "markdown",
   "metadata": {},
   "source": [
    "## <b>cursor.execute( )</b><br>\n",
    "<ul>\n",
    "<li>Con el cursor podremos ejecutar comandos y sentencias SQL.</li>\n",
    "<li>Para crear una tabla usaremos el comando <a href=\"https://sqlite.org/lang_createtable.html\">CREATE TABLE</a></li>\n",
    "</ul>"
   ]
  },
  {
   "cell_type": "code",
   "execution_count": 5,
   "metadata": {},
   "outputs": [],
   "source": [
    "cursor.execute(\"\"\"CREATE TABLE test(\n",
    "              id integer,\n",
    "              nombre text,\n",
    "              edad integer)\n",
    "         \"\"\")\n",
    "connection.commit()"
   ]
  },
  {
   "cell_type": "markdown",
   "metadata": {},
   "source": [
    "<ul>\n",
    "<li>Para ingresar registros en la tabla usaremos el comando <a href=\"https://sqlite.org/lang_insert.html\">INSERT</a> </li>\n",
    "</ul>"
   ]
  },
  {
   "cell_type": "code",
   "execution_count": 6,
   "metadata": {},
   "outputs": [],
   "source": [
    "cursor.execute(\"INSERT INTO test VALUES (1,'Pepe Lota',15)\")\n",
    "connection.commit()"
   ]
  },
  {
   "cell_type": "code",
   "execution_count": 7,
   "metadata": {},
   "outputs": [],
   "source": [
    "# Alternativamente, podemos pasar una tupla como segundo argumento en la  funcion execute, y reemplazar los valores a insertar por los signos de interrogación (?)\n",
    "# Cabe destacar que la tupla tiene que respetar el orden de las columnas de la tabla\n",
    "cursor.execute(\"INSERT INTO test VALUES (?,?,?)\",(2,'Aquiles Bailo',23))\n",
    "connection.commit()"
   ]
  },
  {
   "cell_type": "markdown",
   "metadata": {},
   "source": [
    "<ul>\n",
    "<li>Para recuperar datos (consultas) desde una o más tablas usaremos la sentencia <a href=\"https://sqlite.org/lang_select.html\">SELECT</a></li>\n",
    "<ul>\n",
    "<li>La sentencia Select se compone de 6 cláusulas: <b>select</b>, <b>from</b>, <b>where</b>, <b>group by</b>, <b>having</b> y <b>order by</b>.</li>\n",
    "<li>La claúsula select especifica las columnas que se incluirán en el resultado de la consulta.</li>\n",
    "<li>La cláusula from especifica las tablas desde las cuales se recuperarán los datos.</li>\n",
    "<li>La cláusula where se utiliza para filtrar filas desde las tablas.</li>\n",
    "</ul>\n",
    "</ul>"
   ]
  },
  {
   "cell_type": "markdown",
   "metadata": {},
   "source": [
    "### select\n",
    "<ul>\n",
    "<li> <b> SELECT * from test </b>, recupera todas las columnas y todas las filas desde la tabla test.</li>\n",
    "<li> <b> SELECT id,nombre from test </b>, recupera todas las filas desde la tabla test pero incluye solamente las columnas id y nombre.</li>\n",
    "<li> <b>SELECT id, id*2, upper(nombre) from test</b>, recupera todas filas desde la tabla test y las columnas id, id multiplicado por 2, además los valores de la columna nombre se pasan a mayúscula.</li>  \n",
    "</ul>"
   ]
  },
  {
   "cell_type": "code",
   "execution_count": 8,
   "metadata": {},
   "outputs": [
    {
     "name": "stdout",
     "output_type": "stream",
     "text": [
      "[(1, 'Pepe Lota', 15), (2, 'Aquiles Bailo', 23)]\n"
     ]
    }
   ],
   "source": [
    "cursor.execute(\"SELECT * from test\")\n",
    "print(cursor.fetchall())\n",
    "connection.commit()"
   ]
  },
  {
   "cell_type": "code",
   "execution_count": 9,
   "metadata": {},
   "outputs": [
    {
     "name": "stdout",
     "output_type": "stream",
     "text": [
      "[(1, 'Pepe Lota'), (2, 'Aquiles Bailo')]\n"
     ]
    }
   ],
   "source": [
    "cursor.execute(\"SELECT id,nombre from test\")\n",
    "print(cursor.fetchall())\n",
    "connection.commit()"
   ]
  },
  {
   "cell_type": "code",
   "execution_count": 10,
   "metadata": {},
   "outputs": [
    {
     "name": "stdout",
     "output_type": "stream",
     "text": [
      "[(1, 2, 'PEPE LOTA'), (2, 4, 'AQUILES BAILO')]\n"
     ]
    }
   ],
   "source": [
    "cursor.execute(\"SELECT id, id*2, upper(nombre) from test\")\n",
    "print(cursor.fetchall())\n",
    "connection.commit()"
   ]
  },
  {
   "cell_type": "code",
   "execution_count": 12,
   "metadata": {},
   "outputs": [
    {
     "name": "stdout",
     "output_type": "stream",
     "text": [
      "[('test',)]\n",
      "(0, 'id', 'integer', 0, None, 0)\n",
      "(1, 'nombre', 'text', 0, None, 0)\n",
      "(2, 'edad', 'integer', 0, None, 0)\n"
     ]
    }
   ],
   "source": [
    "cursor.execute(\"SELECT name FROM sqlite_master WHERE type='table';\") #Seleccionamos la columna Nombre de la tabla sqlite_master, donde la columna type sea igual a 'table'\n",
    "print(cursor.fetchall()) #Le pedimos a nuestro cursor que obtenga todos los resultados y los imprima:\n",
    "cursor.execute(\"PRAGMA table_info('test')\")\n",
    "for element in cursor.fetchall():\n",
    "    print(element)"
   ]
  },
  {
   "cell_type": "markdown",
   "metadata": {},
   "source": [
    "### where\n",
    "<ul>\n",
    "<li> <b>SELECT * from test where edad < 20 </b>, recupera todas las columnas de todas las filas cuyo valor en la columna edad sea menor que 20.</li>\n",
    "<li> <b>SELECT * from test where nombre='Pepe Lota'</b>, recupera todas las columnas de todas las filas cuyo valor en la columna nombre sea igual a 'Pepe Lota'.</li> \n",
    "</ul>"
   ]
  },
  {
   "cell_type": "code",
   "execution_count": 13,
   "metadata": {},
   "outputs": [
    {
     "name": "stdout",
     "output_type": "stream",
     "text": [
      "[(1, 'Pepe Lota', 15)]\n"
     ]
    }
   ],
   "source": [
    "cursor.execute(\"SELECT * from test where edad < 20\")\n",
    "print(cursor.fetchall())\n",
    "connection.commit()"
   ]
  },
  {
   "cell_type": "code",
   "execution_count": 14,
   "metadata": {},
   "outputs": [
    {
     "name": "stdout",
     "output_type": "stream",
     "text": [
      "[(1, 'Pepe Lota', 15)]\n"
     ]
    }
   ],
   "source": [
    "cursor.execute(\"SELECT * from test where nombre='Pepe Lota'\")\n",
    "print(cursor.fetchall())\n",
    "connection.commit()"
   ]
  },
  {
   "cell_type": "code",
   "execution_count": 15,
   "metadata": {},
   "outputs": [
    {
     "name": "stdout",
     "output_type": "stream",
     "text": [
      "[(1, 'Pepe Lota', 15)]\n"
     ]
    }
   ],
   "source": [
    "cursor.execute(\"SELECT * FROM test WHERE nombre LIKE '%Lota'\")\n",
    "print(cursor.fetchall())\n",
    "connection.commit()"
   ]
  },
  {
   "cell_type": "code",
   "execution_count": 16,
   "metadata": {},
   "outputs": [
    {
     "data": {
      "text/plain": [
       "<sqlite3.Cursor at 0x28c1526bdc0>"
      ]
     },
     "execution_count": 16,
     "metadata": {},
     "output_type": "execute_result"
    }
   ],
   "source": [
    "cursor.execute(\"DROP table test\")"
   ]
  },
  {
   "cell_type": "markdown",
   "metadata": {},
   "source": [
    "## <b>connection.close( ) y cursor.close( )</b><br>\n"
   ]
  },
  {
   "cell_type": "code",
   "execution_count": 18,
   "metadata": {},
   "outputs": [],
   "source": [
    "connection.close()"
   ]
  },
  {
   "cell_type": "markdown",
   "metadata": {},
   "source": [
    "# CSVs, SQLite y Pandas\n",
    "<ul>\n",
    "<li>En general las fuentes de datos abiertas nos dan la posibilidad de descarga da datos en formato CSV.</li>\n",
    "<li>Podriamos usar python para crea tablas e insertar registros mediante el uso de readlines( ) y manipulación de listas. Sin embargo, requiere un esfuerzo adicional de programación.</li>\n",
    "<li>Mediante el uso de pandas podemos rápidamente crear tablas e insertar los registros desde un CSV. Para ello: \n",
    "<ul>\n",
    "<li>Debemos crear un dataframe a partir del CSV.</li>\n",
    "<li>Exportar el dataframe hacia una tabla de SQLite</li>\n",
    "</ul>\n",
    "</li>\n",
    "<li>Ahora crearemos una tabla de SQLite a partir de un CSV:</li>\n",
    "</ul>"
   ]
  },
  {
   "cell_type": "code",
   "execution_count": 23,
   "metadata": {},
   "outputs": [],
   "source": [
    "import pandas as pd\n",
    "connDF = sqlite3.connect(\"database.db\")\n",
    "col_names = [\"codigo\",\"entidad\",\"nom_fantasia\",\"direccion\",\"comuna\",\"horario\",\"este\",\"norte\",\"longitud\",\"latitud\"]\n",
    "df = pd.read_csv('db//TBip.csv')\n",
    "df.columns = col_names\n",
    "df.to_sql(\"tbip\",connDF,if_exists=\"replace\")"
   ]
  },
  {
   "cell_type": "code",
   "execution_count": 25,
   "metadata": {},
   "outputs": [
    {
     "name": "stdout",
     "output_type": "stream",
     "text": [
      "Index(['codigo', 'entidad', 'nom_fantasia', 'direccion', 'comuna', 'horario',\n",
      "       'este', 'norte', 'longitud', 'latitud'],\n",
      "      dtype='object')\n"
     ]
    }
   ],
   "source": [
    "print(df.columns)"
   ]
  },
  {
   "cell_type": "code",
   "execution_count": 26,
   "metadata": {},
   "outputs": [
    {
     "name": "stdout",
     "output_type": "stream",
     "text": [
      "[(101, 'Unimarc', 'ESTACION CENTRAL'), (213, 'Walmart', 'ESTACION CENTRAL'), (264, 'Walmart', 'ESTACION CENTRAL'), (353, 'Walmart', 'ESTACION CENTRAL')]\n"
     ]
    }
   ],
   "source": [
    "curDF = connDF.cursor()\n",
    "curDF.execute(\"SELECT codigo,entidad,comuna from tbip where comuna like '%central'\")\n",
    "print(curDF.fetchall())\n",
    "connDF.commit()"
   ]
  },
  {
   "cell_type": "code",
   "execution_count": 27,
   "metadata": {},
   "outputs": [
    {
     "name": "stdout",
     "output_type": "stream",
     "text": [
      "[('Lun-Dom 08:30 a 22:00', 'LIDER EXPRESS LYON'), ('Lun-Dom 08:30 a 22:00', 'LIDER HIPER INDEPENDENCIA'), ('Lun-Dom 08:30 a 22:00', 'LIDER EXPRESS SANTO DOMINGO'), ('Lun-Dom 08:30 a 22:00', 'LIDER HIPER PUENTE ALTO'), ('Lun-Dom 08:30 a 22:00', 'LIDER EXPRESS HUERFANOS'), ('Lun-Dom 08:30 a 22:00', 'LIDER HIPER PUENTE NUEVO'), ('Lun-Dom 08:30 a 22:00', 'LIDER HIPER DEPARTAMENTAL'), ('Lun-Dom 08:30 a 22:00', 'LIDER EXPRESS SAN PABLO'), ('Lun-Dom 08:30 a 22:00', 'LIDER EXPRESS VITACURA'), ('Lun-Dom 08:30 a 22:00', 'LIDER EXPRESS MAIPU'), ('Lun-Dom 08:30 a 22:00', 'LIDER EXPRESS NONATO COO'), ('Lun-Dom 08:30 a 22:00', 'LIDER EXPRESS PLAZA ITALIA'), ('Lun-Dom 08:30 a 22:00', 'LIDER HIPER IRARRAZAVAL'), ('Lun-Dom 08:30 a 22:00', 'LIDER EXPRESS LAS REJAS'), ('Lun-Dom 08:30 a 22:00', 'LIDER EXPRESS PUENTE ALTO'), ('Lun-Dom 08:30 a 22:00', 'LIDER HIPER LOS MORROS'), ('Lun-Dom 08:30 a 22:00', 'LIDER HIPER MATUCANA'), ('Lun-Dom 08:30 a 22:00', 'LIDER HIPER HUECHURABA'), ('Lun-Dom 08:30 a 22:00', 'LIDER HIPER AV. CENTRAL'), ('Lun-Dom 08:30 a 22:00', 'LIDER HIPER MAIPU'), ('Lun-Dom 08:30 a 22:00', 'LIDER HIPER QUILIN'), ('Lun-Dom 08:30 a 22:00', 'LIDER HIPER VESPUCIO MAIPU'), ('Lun-Dom 08:30 a 22:00', 'LIDER HIPER CORDILLERA'), ('Lun-Dom 08:30 a 22:00', 'LIDER HIPER VICUÑA MACKENNA'), ('Lun-Dom 08:30 a 22:00', 'LIDER HIPER MACUL'), ('Lun-Dom 08:30 a 22:00', 'LIDER HIPER VITACURA'), ('Lun-Dom 08:30 a 22:00', 'LIDER HIPER PLAZA VESPUCIO'), ('Lun-Dom 08:30 a 22:00', 'LIDER EXPRESS COLON'), ('Lun-Dom 08:30 a 22:00', 'LIDER EXPRESS LATADIA'), ('Lun-Dom 08:30 a 22:00', 'LIDER HIPER TALAGANTE'), ('Lun-Dom 08:30 a 22:00', 'LIDER EXPRESS P. DE VALDIVIA'), ('Lun-Dom 08:30 a 22:00', 'LIDER EXPRESS ESTORIL'), ('Lun-Dom 08:30 a 22:00', 'LIDER EXPRESS M. MONTT'), ('Lun-Dom 08:30 a 22:00', 'LIDER EXPRESS TOBALABA'), ('Lun-Dom 08:30 a 22:00', 'LIDER EXPRESS LA DEHESA'), ('Lun-Dom 08:30 a 22:00', 'LIDER EXPRESS APOQUINDO'), ('Lun-Dom 08:30 a 22:00', 'LIDER EXPRESS IRARRÁZAVAL'), ('Lun-Dom 08:30 a 22:00', 'LIDER EXPRESS LOS DOMINICOS'), ('Lun-Dom 08:30 a 22:00', 'LIDER EXPRESS PIEDRA ROJA'), ('Lun-Dom 08:30 a 22:00', 'LIDER EXPRESS COLINA'), ('Lun-Dom 08:30 a 22:00', 'LIDER EXPRESS PEDRO FONTOVA'), ('Lun-Dom 08:30 a 22:00', 'LIDER EXPRESS PROVIDENCIA SANTA ISABEL'), ('Lun-Dom 08:30 a 22:00', 'LIDER EXPRESS GRECIA'), ('Lun-Dom 08:30 a 22:00', 'LIDER EXPRESS CONSISTORIAL'), ('Lun-Dom 08:30 a 22:00', 'LIDER EXPRESS ROJAS MAGALLANES'), ('Lun-Dom 08:30 a 22:00', 'LIDER EXPRESS GRAN AVENIDA'), ('Lun-Dom 08:30 a 22:00', 'LIDER EXPRESS CIUDAD DEL ESTE'), ('Lun-Dom 08:30 a 22:00', 'LIDER EXPRESS 10 DE JULIO'), ('Lun-Dom 08:30 a 22:00', 'LIDER EXPRESS SANTA ROSA'), ('Lun-Dom 08:30 a 22:00', 'LIDER HIPER LOS DOMINICOS'), ('Lun-Dom 08:30 a 22:00', 'LIDER EXPRESS MERCED'), ('Lun-Dom 08:30 a 22:00', 'LIDER EXPRESS SAN MARTIN DOWN TOWN'), ('Lun-Dom 08:30 a 22:00', 'LIDER EXPRESS VESPUCIO EL ROSAL'), ('Lun-Dom 08:30 a 22:00', 'LIDER HIPER OESTE'), ('Lun-Dom 08:30 a 22:00', 'LIDER HIPER SANTA ROSA'), ('Lun-Dom 08:30 a 22:00', 'LIDER HIPER QUILICURA'), ('Lun-Dom 08:30 a 22:00', 'LIDER EXPRESS TOMAS MORO'), ('Lun-Dom 08:30 a 22:00', 'LIDER HIPER RECOLETA'), ('Lun-Dom 08:30 a 22:00', 'LIDER HIPER PRINCIPE DE GALES'), ('Lun-Dom 08:30 a 22:00', 'LIDER HIPER GRAN AVENIDA'), ('Lun-Dom 08:30 a 22:00', 'LIDER HIPER LA PINTANA'), ('Lun-Dom 08:30 a 22:00', 'LIDER HIPER MELIPILLA'), ('Lun-Dom 08:30 a 22:00', 'LIDER HIPER GENERAL VELASQUEZ'), ('Lun-Dom 08:30 a 22:00', 'LIDER HIPER SAN PABLO'), ('Lun-Dom 08:30 a 22:00', 'LIDER HIPER LA REINA'), ('Lun-Dom 08:30 a 22:00', 'LIDER HIPER VESPUCIO'), ('Lun-Dom 08:30 a 22:00', 'LIDER HIPER SANTA AMALIA'), ('Lun-Dom 08:30 a 22:00', 'LIDER HIPER SAN JOAQUIN'), ('Lun-Dom 08:30 a 22:00', 'LIDER HIPER SAN BERNARDO'), ('Lun-Dom 08:30 a 22:00', 'LIDER HIPER 3 PONIENTE'), ('Lun-Dom 08:30 a 22:00', 'LIDER HIPER NOS'), ('Lun-Dom 08:30 a 22:00', 'LIDER EXPRESS BUIN-SAN MARTIN'), ('Lun-Dom 08:30 a 22:00', 'LIDER EXPRESS MAIPU-ISABEL RIQUELME'), ('Lun-Dom 08:30 a 22:00', 'LIDER EXPRESS PORTUGAL'), ('Lun-Dom 08:30 a 22:00', 'LIDER EXPRESS LAGUNA DEL SOL'), ('Lun-Dom 08:30 a 22:00', 'LIDER EXPRESS SALVADOR-ÑUÑOA'), ('Lun-Dom 09:00 a 21:00', 'ACUENTA CERRILLOS'), ('Lun-Dom 09:00 a 21:00', 'ACUENTA CARMEN MAIPU'), ('Lun-Dom 09:00 a 21:00', 'ACUENTA CUIDAD SATELITE'), ('Lun-Dom 09:00 a 21:00', 'ACUENTA PEÑAFLOR'), ('Lun-Dom 09:00 a 21:00', 'ACUENTA EL MONTE'), ('Lun-Dom 09:00 a 21:00', 'ACUENTA TRAVESIA'), ('Lun-Dom 09:00 a 21:00', 'ACUENTA QUINTA NORMAL'), ('Lun-Dom 09:00 a 21:00', 'ACUENTA CARRASCAL'), ('Lun-Dom 09:00 a 21:00', 'ACUENTA RENCA PETERSEN'), ('Lun-Dom 09:00 a 21:00', 'ACUENTA QUILICURA AV. MATTA'), ('Lun-Dom 09:00 a 21:00', 'ACUENTA RENCA JAIME GUZMAN'), ('Lun-Dom 09:00 a 21:00', 'ACUENTA CONCHALI SANTA INES'), ('Lun-Dom 09:00 a 21:00', 'ACUENTA CONCHALI'), ('Lun-Dom 09:00 a 21:00', 'ACUENTA VIVACETA'), ('Lun-Dom 09:00 a 21:00', 'ACUENTA RECOLETA NORTE'), ('Lun-Dom 09:00 a 21:00', 'ACUENTA LAMPA'), ('Lun-Dom 09:00 a 21:00', 'ACUENTA EYZAGUIRRE ORIENTE'), ('Lun-Dom 09:00 a 21:00', 'ACUENTA DOMINGO TOCORNAL'), ('Lun-Dom 09:00 a 21:00', 'ACUENTA CERRO NAVIA'), ('Lun-Dom 09:00 a 21:00', 'ACUENTA LOS MORROS'), ('Lun-Dom 09:00 a 21:00', 'ACUENTA GABRIELA'), ('Lun-Dom 09:00 a 21:00', 'ACUENTA EL BOSQUE'), ('Lun-Dom 09:00 a 21:00', 'ACUENTA ORIENTALES'), ('Lun-Dom 09:00 a 21:00', 'ACUENTA LA FLORIDA SOTERO DEL RIO'), ('Lun-Dom 09:00 a 21:00', 'ACUENTA LO OVALLE'), ('Lun-Dom 09:00 a 21:00', 'ACUENTA LA GRANJA'), ('Lun-Dom 09:00 a 21:00', 'ACUENTA BUIN'), ('Lun-Dom 09:00 a 21:00', 'ACUENTA SAN BERNARDO EUCALIPTUS'), ('Lun-Dom 09:00 a 21:00', 'ACUENTA PAINE'), ('Lun-Dom 09:00 a 21:00', 'ACUENTA RINCONADA'), ('Lun-Dom 09:00 a 21:00', 'ACUENTA ISLA DE MAIPO'), ('Lun-Dom 09:00 a 21:00', 'LIDER EXPRESS RECOLETA & EINSTEIN'), ('Lun-Dom 09:00 a 21:00', 'EKONO VICUÑA MACKENNA & TRINIDAD'), ('Lun-Dom 09:00 a 21:00', 'LIDER EXPRESS ELIODORO YAÑEZ'), ('Lun-Dom 09:00 a 21:00', 'EKONO INDEPENDENCIA I'), ('Lun-Dom 09:00 a 21:00', 'LIDER EXPRESS BELLAVISTA'), ('Lun-Dom 09:00 a 21:00', 'EKONO 1 TRANSVERSAL'), ('Lun-Dom 09:00 a 21:00', 'LIDER EXPRESS IRARRAZABAL'), ('Lun-Dom 09:00 a 21:00', 'LIDER HIPER LO MARCOLETA'), ('Lun-Dom 09:00 a 21:00', 'LIDER HIPER MIRAFLORES'), ('Lun-Dom 09:00 a 21:00', 'LIDER EXPRESS PROVIDENCIA'), ('Lun-Dom 09:00 a 22:00', 'EKONO COLOMBIA'), ('Lun-Dom 09:00 a 22:00', 'EKONO JOSÉ LUIS COO'), ('Lun-Dom 09:00 a 22:00', 'LIDER EXPRESS PEDRO DE VALDIVIA'), ('Lun-Dom 09:00 a 22:00', 'LIDER EXPRESS TOBALABA'), ('Lun-Dom 09:00 a 22:00', 'EKONO VITACURA'), ('Lun-Dom 09:00 a 22:00', 'LIDER EXPRESS RAMÓN CRUZ'), ('Lun-Dom 09:00 a 22:00', 'EKONO PRIMO DE RIVERA'), ('Lun-Dom 09:00 a 22:00', 'EKONO ALC. JORGE MONCKEBERG'), ('Lun-Dom 09:00 a 22:00', 'LIDER EXPRESS LO BARNECHEA'), ('Lun-Dom 09:00 a 22:00', 'EKONO LO OVALLE'), ('Lun-Dom 09:00 a 22:00', 'EKONO AV. CENTRAL'), ('Lun-Dom 09:00 a 22:00', 'EKONO MONSEÑOR LARRAÍN'), ('Lun-Dom 09:00 a 22:00', 'LIDER EXPRESS GRAJALES'), ('Lun-Dom 09:00 a 22:00', 'LIDER EXPRESS L. B. O´HIGGINS'), ('Lun-Dom 09:00 a 22:00', 'EKONO CURICÓ'), ('Lun-Dom 09:00 a 22:00', 'EKONO VICUÑA MACKENNA'), ('Lun-Dom 09:00 a 22:00', 'LIDER EXPRESS AV. SEGUNDA TRANSVERSAL'), ('Lun-Dom 09:00 a 22:00', 'LIDER EXPRESS MONJITAS'), ('Lun-Dom 09:00 a 22:00', 'LIDER EXPRESS ARTIGAS'), ('Lun-Dom 09:00 a 22:00', 'LIDER EXPRESS AV. PORTUGAL'), ('Lun-Dom 09:00 a 22:00', 'LIDER EXPRESS LAS REJAS SUR'), ('Lun-Dom 09:00 a 22:00', 'EKONO LAS TORRES'), ('Lun-Dom 09:00 a 22:00', 'EKONO EL DESCANSO'), ('Lun-Dom 09:00 a 22:00', 'EKONO LAGUNA SUR'), ('Lun-Dom 09:00 a 22:00', 'EKONO BAGDAD'), ('Lun-Dom 09:00 a 22:00', 'LIDER EXPRESS AV. LO CRUZAT'), ('Lun-Dom 09:00 a 22:00', 'LIDER EXPRESS SAN PABLO'), ('Lun-Dom 09:00 a 22:00', 'LIDER EXPRESS CUATRO PONIENTE'), ('Lun-Dom 09:00 a 22:00', 'EKONO SANTA LUISA'), ('Lun-Dom 09:00 a 22:00', 'EKONO PDTE. GABRIEL GONZALEZ VIDELA'), ('Lun-Dom 09:00 a 22:00', 'EKONO CARRASCAL'), ('Lun-Dom 09:00 a 22:00', 'EKONO GALILEO'), ('Lun-Dom 09:00 a 22:00', 'LIDER EXPRESS BANDERALIDER'), ('Lun-Dom 09:00 a 22:00', 'EKONO LAS INDUSTRIAS'), ('Lun-Dom 09:00 a 22:00', 'LIDER EXPRESS JUAN DE DIOS MALEBRÁN'), ('Lun-Dom 09:00 a 22:00', 'LIDER EXPRESS SAN DIEGO'), ('Lun-Dom 09:00 a 22:00', 'LIDER EXPRESS COVENTRY'), ('Lun-Dom 09:00 a 22:00', 'EKONO AV. INDEPENDENCIA'), ('Lun-Dom 09:00 a 22:00', 'LIDER EXPRESS LOS LEONES'), ('Lun-Dom 09:00 a 22:00', 'EKONO AV. RECOLETA'), ('Lun-Dom 09:00 a 22:00', 'EKONO EL SALTO'), ('Lun-Dom 09:00 a 22:00', 'EKONO EL TRANQUE'), ('Lun-Dom 09:00 a 22:00', 'LIDER EXPRESS AV. LIRA'), ('Lun-Dom 09:00 a 22:00', 'EKONO AV BRASIL'), ('Lun-Dom 09:00 a 22:00', 'LIDER EXPRESS FROILAN ROA'), ('Lun-Dom 09:00 a 22:00', 'LIDER EXPRESS SANTA ISABEL'), ('Lun-Dom 09:00 a 22:00', 'LIDER EXPRESS GRAN AVENIDA'), ('Lun-Dom 09:00 a 22:00', 'EKONO EL OLIMPO'), ('Lun-Dom 08:30 a 22:00', 'LIDER EXPRESS IRARAZAVAL'), ('Lun-Dom 08:30 a 22:00', 'EKONO VICUÑA MACKENA II'), ('Lun-Dom 08:30 a 22:00', 'LIDER EXPRESS MANQUEHUE SUR'), ('Lun-Dom 08:30 a 22:00', 'LIDER HIPER BUIN BERNARDO OHIGGINS'), ('Lun-Dom 08:30 a 22:00', 'LIDER HIPER PUDAHUEL'), ('Lun-Dom 08:30 a 22:00', 'LIDER EXPRESS JOSÉ D. CAÑAS'), ('Lun-Dom 08:30 a 22:00', 'LIDER HIPER MAIPÚ'), ('Lun-Dom 09:00 a 22:00', 'EKONO SAN PABLO'), ('Lun-Dom 09:00 a 22:00', 'EKONO AV. INDEPENDENCIA'), ('Lun-Dom 09:00 a 22:00', 'LIDER EXPRESS LAGUNA SUR'), ('Lun-Dom 08:30 a 22:00', 'LIDER HIPER PEÑAFLOR'), ('Lun-Dom 09:00 a 21:30', 'SBA CURACAVI'), ('Lun-Dom 09:00 a 22:00 ', 'LIDER EXPRESS CIUDAD DE LOS VALLES')]\n"
     ]
    }
   ],
   "source": [
    "curDF.execute(\"SELECT horario, nom_fantasia from tbip where entidad='Walmart'\")\n",
    "print(curDF.fetchall())\n",
    "connDF.commit()"
   ]
  },
  {
   "cell_type": "code",
   "execution_count": 28,
   "metadata": {},
   "outputs": [
    {
     "name": "stdout",
     "output_type": "stream",
     "text": [
      "(0, 'index', 'INTEGER', 0, None, 0)\n",
      "(1, 'codigo', 'INTEGER', 0, None, 0)\n",
      "(2, 'entidad', 'TEXT', 0, None, 0)\n",
      "(3, 'nom_fantasia', 'TEXT', 0, None, 0)\n",
      "(4, 'direccion', 'TEXT', 0, None, 0)\n",
      "(5, 'comuna', 'TEXT', 0, None, 0)\n",
      "(6, 'horario', 'TEXT', 0, None, 0)\n",
      "(7, 'este', 'INTEGER', 0, None, 0)\n",
      "(8, 'norte', 'INTEGER', 0, None, 0)\n",
      "(9, 'longitud', 'REAL', 0, None, 0)\n",
      "(10, 'latitud', 'REAL', 0, None, 0)\n"
     ]
    }
   ],
   "source": [
    "curDF.execute(\"PRAGMA table_info('tbip')\")\n",
    "for el in curDF.fetchall():\n",
    "    print(el)\n",
    "connDF.commit()"
   ]
  },
  {
   "cell_type": "code",
   "execution_count": 29,
   "metadata": {},
   "outputs": [
    {
     "data": {
      "text/html": [
       "<div>\n",
       "<style scoped>\n",
       "    .dataframe tbody tr th:only-of-type {\n",
       "        vertical-align: middle;\n",
       "    }\n",
       "\n",
       "    .dataframe tbody tr th {\n",
       "        vertical-align: top;\n",
       "    }\n",
       "\n",
       "    .dataframe thead th {\n",
       "        text-align: right;\n",
       "    }\n",
       "</style>\n",
       "<table border=\"1\" class=\"dataframe\">\n",
       "  <thead>\n",
       "    <tr style=\"text-align: right;\">\n",
       "      <th></th>\n",
       "      <th>codigo</th>\n",
       "      <th>entidad</th>\n",
       "      <th>comuna</th>\n",
       "    </tr>\n",
       "  </thead>\n",
       "  <tbody>\n",
       "    <tr>\n",
       "      <th>0</th>\n",
       "      <td>101</td>\n",
       "      <td>Unimarc</td>\n",
       "      <td>ESTACION CENTRAL</td>\n",
       "    </tr>\n",
       "    <tr>\n",
       "      <th>1</th>\n",
       "      <td>213</td>\n",
       "      <td>Walmart</td>\n",
       "      <td>ESTACION CENTRAL</td>\n",
       "    </tr>\n",
       "    <tr>\n",
       "      <th>2</th>\n",
       "      <td>264</td>\n",
       "      <td>Walmart</td>\n",
       "      <td>ESTACION CENTRAL</td>\n",
       "    </tr>\n",
       "    <tr>\n",
       "      <th>3</th>\n",
       "      <td>353</td>\n",
       "      <td>Walmart</td>\n",
       "      <td>ESTACION CENTRAL</td>\n",
       "    </tr>\n",
       "  </tbody>\n",
       "</table>\n",
       "</div>"
      ],
      "text/plain": [
       "   codigo  entidad            comuna\n",
       "0     101  Unimarc  ESTACION CENTRAL\n",
       "1     213  Walmart  ESTACION CENTRAL\n",
       "2     264  Walmart  ESTACION CENTRAL\n",
       "3     353  Walmart  ESTACION CENTRAL"
      ]
     },
     "execution_count": 29,
     "metadata": {},
     "output_type": "execute_result"
    }
   ],
   "source": [
    "pd.read_sql(\"SELECT codigo, entidad, comuna FROM tbip WHERE comuna LIKE '%central'\", connDF)"
   ]
  },
  {
   "cell_type": "code",
   "execution_count": 30,
   "metadata": {},
   "outputs": [],
   "source": [
    "connDF.close()"
   ]
  },
  {
   "cell_type": "markdown",
   "metadata": {},
   "source": [
    "# Dinámica #2"
   ]
  },
  {
   "cell_type": "code",
   "execution_count": 31,
   "metadata": {},
   "outputs": [
    {
     "data": {
      "text/html": [
       "<div>\n",
       "<style scoped>\n",
       "    .dataframe tbody tr th:only-of-type {\n",
       "        vertical-align: middle;\n",
       "    }\n",
       "\n",
       "    .dataframe tbody tr th {\n",
       "        vertical-align: top;\n",
       "    }\n",
       "\n",
       "    .dataframe thead th {\n",
       "        text-align: right;\n",
       "    }\n",
       "</style>\n",
       "<table border=\"1\" class=\"dataframe\">\n",
       "  <thead>\n",
       "    <tr style=\"text-align: right;\">\n",
       "      <th></th>\n",
       "      <th>Any</th>\n",
       "      <th>Codi_districte</th>\n",
       "      <th>Nom_districte</th>\n",
       "      <th>Codi_barri</th>\n",
       "      <th>Nom_barri</th>\n",
       "      <th>Tipus_Vehicles</th>\n",
       "      <th>Desc_distintiu_ambiental</th>\n",
       "      <th>Nombre</th>\n",
       "    </tr>\n",
       "  </thead>\n",
       "  <tbody>\n",
       "    <tr>\n",
       "      <th>0</th>\n",
       "      <td>2019</td>\n",
       "      <td>1</td>\n",
       "      <td>Ciutat Vella</td>\n",
       "      <td>1</td>\n",
       "      <td>el Raval</td>\n",
       "      <td>Turismes</td>\n",
       "      <td>Sense distintiu ambiental</td>\n",
       "      <td>1968</td>\n",
       "    </tr>\n",
       "    <tr>\n",
       "      <th>1</th>\n",
       "      <td>2019</td>\n",
       "      <td>1</td>\n",
       "      <td>Ciutat Vella</td>\n",
       "      <td>1</td>\n",
       "      <td>el Raval</td>\n",
       "      <td>Turismes</td>\n",
       "      <td>Etiqueta 0 – Zero emissions – Blava</td>\n",
       "      <td>17</td>\n",
       "    </tr>\n",
       "    <tr>\n",
       "      <th>2</th>\n",
       "      <td>2019</td>\n",
       "      <td>1</td>\n",
       "      <td>Ciutat Vella</td>\n",
       "      <td>1</td>\n",
       "      <td>el Raval</td>\n",
       "      <td>Turismes</td>\n",
       "      <td>Etiqueta B – Groga</td>\n",
       "      <td>1934</td>\n",
       "    </tr>\n",
       "    <tr>\n",
       "      <th>3</th>\n",
       "      <td>2019</td>\n",
       "      <td>1</td>\n",
       "      <td>Ciutat Vella</td>\n",
       "      <td>1</td>\n",
       "      <td>el Raval</td>\n",
       "      <td>Turismes</td>\n",
       "      <td>Etiqueta C – Verda</td>\n",
       "      <td>1575</td>\n",
       "    </tr>\n",
       "    <tr>\n",
       "      <th>4</th>\n",
       "      <td>2019</td>\n",
       "      <td>1</td>\n",
       "      <td>Ciutat Vella</td>\n",
       "      <td>1</td>\n",
       "      <td>el Raval</td>\n",
       "      <td>Turismes</td>\n",
       "      <td>Etiqueta E – Eco</td>\n",
       "      <td>181</td>\n",
       "    </tr>\n",
       "  </tbody>\n",
       "</table>\n",
       "</div>"
      ],
      "text/plain": [
       "    Any Codi_districte Nom_districte Codi_barri Nom_barri Tipus_Vehicles  \\\n",
       "0  2019              1  Ciutat Vella          1  el Raval       Turismes   \n",
       "1  2019              1  Ciutat Vella          1  el Raval       Turismes   \n",
       "2  2019              1  Ciutat Vella          1  el Raval       Turismes   \n",
       "3  2019              1  Ciutat Vella          1  el Raval       Turismes   \n",
       "4  2019              1  Ciutat Vella          1  el Raval       Turismes   \n",
       "\n",
       "              Desc_distintiu_ambiental  Nombre  \n",
       "0            Sense distintiu ambiental    1968  \n",
       "1  Etiqueta 0 – Zero emissions – Blava      17  \n",
       "2                   Etiqueta B – Groga    1934  \n",
       "3                   Etiqueta C – Verda    1575  \n",
       "4                     Etiqueta E – Eco     181  "
      ]
     },
     "execution_count": 31,
     "metadata": {},
     "output_type": "execute_result"
    }
   ],
   "source": [
    "connect = sqlite3.connect(\"db//vehiculos.db\")\n",
    "df = pd.read_csv('db//2019_padron_vehiculos.csv')\n",
    "df.head()"
   ]
  },
  {
   "cell_type": "code",
   "execution_count": 32,
   "metadata": {},
   "outputs": [],
   "source": [
    "df.to_sql(\"vehiculos\",connect,if_exists=\"replace\")\n",
    "cursor = connect.cursor()"
   ]
  },
  {
   "cell_type": "markdown",
   "metadata": {},
   "source": [
    "1) Haga una consulta SQL seleccionando las columnas Tipo de vehiculo (Tipus_Vehicles), Nombre de barrio (Nom_barri) y Nombre del distrito (Nom_districte)"
   ]
  },
  {
   "cell_type": "code",
   "execution_count": 33,
   "metadata": {},
   "outputs": [
    {
     "name": "stdout",
     "output_type": "stream",
     "text": [
      "[('Turismes', 'el Raval', 'Ciutat Vella'), ('Turismes', 'el Raval', 'Ciutat Vella'), ('Turismes', 'el Raval', 'Ciutat Vella'), ('Turismes', 'el Raval', 'Ciutat Vella'), ('Turismes', 'el Raval', 'Ciutat Vella'), ('Turismes', 'el Raval', 'Ciutat Vella'), ('Motos', 'el Raval', 'Ciutat Vella'), ('Motos', 'el Raval', 'Ciutat Vella'), ('Motos', 'el Raval', 'Ciutat Vella'), ('Motos', 'el Raval', 'Ciutat Vella'), ('Motos', 'el Raval', 'Ciutat Vella'), ('Ciclomotors', 'el Raval', 'Ciutat Vella'), ('Ciclomotors', 'el Raval', 'Ciutat Vella'), ('Ciclomotors', 'el Raval', 'Ciutat Vella'), ('Ciclomotors', 'el Raval', 'Ciutat Vella'), ('Ciclomotors', 'el Raval', 'Ciutat Vella'), ('Furgonetes', 'el Raval', 'Ciutat Vella'), ('Furgonetes', 'el Raval', 'Ciutat Vella'), ('Furgonetes', 'el Raval', 'Ciutat Vella'), ('Furgonetes', 'el Raval', 'Ciutat Vella'), ('Furgonetes', 'el Raval', 'Ciutat Vella'), ('Furgonetes', 'el Raval', 'Ciutat Vella'), ('Camions', 'el Raval', 'Ciutat Vella'), ('Camions', 'el Raval', 'Ciutat Vella'), ('Camions', 'el Raval', 'Ciutat Vella'), ('Camions', 'el Raval', 'Ciutat Vella'), ('Camions', 'el Raval', 'Ciutat Vella'), ('Altres vehicles', 'el Raval', 'Ciutat Vella'), ('Altres vehicles', 'el Raval', 'Ciutat Vella'), ('Altres vehicles', 'el Raval', 'Ciutat Vella'), ('Altres vehicles', 'el Raval', 'Ciutat Vella'), ('Turismes', 'el Barri Gòtic', 'Ciutat Vella'), ('Turismes', 'el Barri Gòtic', 'Ciutat Vella'), ('Turismes', 'el Barri Gòtic', 'Ciutat Vella'), ('Turismes', 'el Barri Gòtic', 'Ciutat Vella'), ('Turismes', 'el Barri Gòtic', 'Ciutat Vella'), ('Turismes', 'el Barri Gòtic', 'Ciutat Vella'), ('Motos', 'el Barri Gòtic', 'Ciutat Vella'), ('Motos', 'el Barri Gòtic', 'Ciutat Vella'), ('Motos', 'el Barri Gòtic', 'Ciutat Vella'), ('Motos', 'el Barri Gòtic', 'Ciutat Vella'), ('Motos', 'el Barri Gòtic', 'Ciutat Vella'), ('Ciclomotors', 'el Barri Gòtic', 'Ciutat Vella'), ('Ciclomotors', 'el Barri Gòtic', 'Ciutat Vella'), ('Ciclomotors', 'el Barri Gòtic', 'Ciutat Vella'), ('Ciclomotors', 'el Barri Gòtic', 'Ciutat Vella'), ('Ciclomotors', 'el Barri Gòtic', 'Ciutat Vella'), ('Furgonetes', 'el Barri Gòtic', 'Ciutat Vella'), ('Furgonetes', 'el Barri Gòtic', 'Ciutat Vella'), ('Furgonetes', 'el Barri Gòtic', 'Ciutat Vella'), ('Furgonetes', 'el Barri Gòtic', 'Ciutat Vella'), ('Furgonetes', 'el Barri Gòtic', 'Ciutat Vella'), ('Furgonetes', 'el Barri Gòtic', 'Ciutat Vella'), ('Camions', 'el Barri Gòtic', 'Ciutat Vella'), ('Camions', 'el Barri Gòtic', 'Ciutat Vella'), ('Camions', 'el Barri Gòtic', 'Ciutat Vella'), ('Camions', 'el Barri Gòtic', 'Ciutat Vella'), ('Camions', 'el Barri Gòtic', 'Ciutat Vella'), ('Camions', 'el Barri Gòtic', 'Ciutat Vella'), ('Altres vehicles', 'el Barri Gòtic', 'Ciutat Vella'), ('Altres vehicles', 'el Barri Gòtic', 'Ciutat Vella'), ('Altres vehicles', 'el Barri Gòtic', 'Ciutat Vella'), ('Altres vehicles', 'el Barri Gòtic', 'Ciutat Vella'), ('Turismes', 'la Barceloneta', 'Ciutat Vella'), ('Turismes', 'la Barceloneta', 'Ciutat Vella'), ('Turismes', 'la Barceloneta', 'Ciutat Vella'), ('Turismes', 'la Barceloneta', 'Ciutat Vella'), ('Turismes', 'la Barceloneta', 'Ciutat Vella'), ('Turismes', 'la Barceloneta', 'Ciutat Vella'), ('Motos', 'la Barceloneta', 'Ciutat Vella'), ('Motos', 'la Barceloneta', 'Ciutat Vella'), ('Motos', 'la Barceloneta', 'Ciutat Vella'), ('Motos', 'la Barceloneta', 'Ciutat Vella'), ('Motos', 'la Barceloneta', 'Ciutat Vella'), ('Ciclomotors', 'la Barceloneta', 'Ciutat Vella'), ('Ciclomotors', 'la Barceloneta', 'Ciutat Vella'), ('Ciclomotors', 'la Barceloneta', 'Ciutat Vella'), ('Ciclomotors', 'la Barceloneta', 'Ciutat Vella'), ('Ciclomotors', 'la Barceloneta', 'Ciutat Vella'), ('Furgonetes', 'la Barceloneta', 'Ciutat Vella'), ('Furgonetes', 'la Barceloneta', 'Ciutat Vella'), ('Furgonetes', 'la Barceloneta', 'Ciutat Vella'), ('Furgonetes', 'la Barceloneta', 'Ciutat Vella'), ('Furgonetes', 'la Barceloneta', 'Ciutat Vella'), ('Furgonetes', 'la Barceloneta', 'Ciutat Vella'), ('Camions', 'la Barceloneta', 'Ciutat Vella'), ('Camions', 'la Barceloneta', 'Ciutat Vella'), ('Camions', 'la Barceloneta', 'Ciutat Vella'), ('Camions', 'la Barceloneta', 'Ciutat Vella'), ('Camions', 'la Barceloneta', 'Ciutat Vella'), ('Altres vehicles', 'la Barceloneta', 'Ciutat Vella'), ('Altres vehicles', 'la Barceloneta', 'Ciutat Vella'), ('Altres vehicles', 'la Barceloneta', 'Ciutat Vella'), ('Altres vehicles', 'la Barceloneta', 'Ciutat Vella'), ('Turismes', 'Sant Pere, Santa Caterina i la Ribera', 'Ciutat Vella'), ('Turismes', 'Sant Pere, Santa Caterina i la Ribera', 'Ciutat Vella'), ('Turismes', 'Sant Pere, Santa Caterina i la Ribera', 'Ciutat Vella'), ('Turismes', 'Sant Pere, Santa Caterina i la Ribera', 'Ciutat Vella'), ('Turismes', 'Sant Pere, Santa Caterina i la Ribera', 'Ciutat Vella'), ('Turismes', 'Sant Pere, Santa Caterina i la Ribera', 'Ciutat Vella'), ('Motos', 'Sant Pere, Santa Caterina i la Ribera', 'Ciutat Vella'), ('Motos', 'Sant Pere, Santa Caterina i la Ribera', 'Ciutat Vella'), ('Motos', 'Sant Pere, Santa Caterina i la Ribera', 'Ciutat Vella'), ('Motos', 'Sant Pere, Santa Caterina i la Ribera', 'Ciutat Vella'), ('Motos', 'Sant Pere, Santa Caterina i la Ribera', 'Ciutat Vella'), ('Ciclomotors', 'Sant Pere, Santa Caterina i la Ribera', 'Ciutat Vella'), ('Ciclomotors', 'Sant Pere, Santa Caterina i la Ribera', 'Ciutat Vella'), ('Ciclomotors', 'Sant Pere, Santa Caterina i la Ribera', 'Ciutat Vella'), ('Ciclomotors', 'Sant Pere, Santa Caterina i la Ribera', 'Ciutat Vella'), ('Ciclomotors', 'Sant Pere, Santa Caterina i la Ribera', 'Ciutat Vella'), ('Furgonetes', 'Sant Pere, Santa Caterina i la Ribera', 'Ciutat Vella'), ('Furgonetes', 'Sant Pere, Santa Caterina i la Ribera', 'Ciutat Vella'), ('Furgonetes', 'Sant Pere, Santa Caterina i la Ribera', 'Ciutat Vella'), ('Furgonetes', 'Sant Pere, Santa Caterina i la Ribera', 'Ciutat Vella'), ('Furgonetes', 'Sant Pere, Santa Caterina i la Ribera', 'Ciutat Vella'), ('Camions', 'Sant Pere, Santa Caterina i la Ribera', 'Ciutat Vella'), ('Camions', 'Sant Pere, Santa Caterina i la Ribera', 'Ciutat Vella'), ('Camions', 'Sant Pere, Santa Caterina i la Ribera', 'Ciutat Vella'), ('Camions', 'Sant Pere, Santa Caterina i la Ribera', 'Ciutat Vella'), ('Altres vehicles', 'Sant Pere, Santa Caterina i la Ribera', 'Ciutat Vella'), ('Altres vehicles', 'Sant Pere, Santa Caterina i la Ribera', 'Ciutat Vella'), ('Altres vehicles', 'Sant Pere, Santa Caterina i la Ribera', 'Ciutat Vella'), ('Altres vehicles', 'Sant Pere, Santa Caterina i la Ribera', 'Ciutat Vella'), ('Turismes', 'el Fort Pienc', 'Eixample'), ('Turismes', 'el Fort Pienc', 'Eixample'), ('Turismes', 'el Fort Pienc', 'Eixample'), ('Turismes', 'el Fort Pienc', 'Eixample'), ('Turismes', 'el Fort Pienc', 'Eixample'), ('Turismes', 'el Fort Pienc', 'Eixample'), ('Motos', 'el Fort Pienc', 'Eixample'), ('Motos', 'el Fort Pienc', 'Eixample'), ('Motos', 'el Fort Pienc', 'Eixample'), ('Motos', 'el Fort Pienc', 'Eixample'), ('Motos', 'el Fort Pienc', 'Eixample'), ('Ciclomotors', 'el Fort Pienc', 'Eixample'), ('Ciclomotors', 'el Fort Pienc', 'Eixample'), ('Ciclomotors', 'el Fort Pienc', 'Eixample'), ('Ciclomotors', 'el Fort Pienc', 'Eixample'), ('Ciclomotors', 'el Fort Pienc', 'Eixample'), ('Furgonetes', 'el Fort Pienc', 'Eixample'), ('Furgonetes', 'el Fort Pienc', 'Eixample'), ('Furgonetes', 'el Fort Pienc', 'Eixample'), ('Furgonetes', 'el Fort Pienc', 'Eixample'), ('Furgonetes', 'el Fort Pienc', 'Eixample'), ('Camions', 'el Fort Pienc', 'Eixample'), ('Camions', 'el Fort Pienc', 'Eixample'), ('Camions', 'el Fort Pienc', 'Eixample'), ('Camions', 'el Fort Pienc', 'Eixample'), ('Camions', 'el Fort Pienc', 'Eixample'), ('Altres vehicles', 'el Fort Pienc', 'Eixample'), ('Altres vehicles', 'el Fort Pienc', 'Eixample'), ('Altres vehicles', 'el Fort Pienc', 'Eixample'), ('Altres vehicles', 'el Fort Pienc', 'Eixample'), ('Turismes', 'la Sagrada Família', 'Eixample'), ('Turismes', 'la Sagrada Família', 'Eixample'), ('Turismes', 'la Sagrada Família', 'Eixample'), ('Turismes', 'la Sagrada Família', 'Eixample'), ('Turismes', 'la Sagrada Família', 'Eixample'), ('Turismes', 'la Sagrada Família', 'Eixample'), ('Motos', 'la Sagrada Família', 'Eixample'), ('Motos', 'la Sagrada Família', 'Eixample'), ('Motos', 'la Sagrada Família', 'Eixample'), ('Motos', 'la Sagrada Família', 'Eixample'), ('Motos', 'la Sagrada Família', 'Eixample'), ('Ciclomotors', 'la Sagrada Família', 'Eixample'), ('Ciclomotors', 'la Sagrada Família', 'Eixample'), ('Ciclomotors', 'la Sagrada Família', 'Eixample'), ('Ciclomotors', 'la Sagrada Família', 'Eixample'), ('Ciclomotors', 'la Sagrada Família', 'Eixample'), ('Furgonetes', 'la Sagrada Família', 'Eixample'), ('Furgonetes', 'la Sagrada Família', 'Eixample'), ('Furgonetes', 'la Sagrada Família', 'Eixample'), ('Furgonetes', 'la Sagrada Família', 'Eixample'), ('Furgonetes', 'la Sagrada Família', 'Eixample'), ('Furgonetes', 'la Sagrada Família', 'Eixample'), ('Camions', 'la Sagrada Família', 'Eixample'), ('Camions', 'la Sagrada Família', 'Eixample'), ('Camions', 'la Sagrada Família', 'Eixample'), ('Camions', 'la Sagrada Família', 'Eixample'), ('Altres vehicles', 'la Sagrada Família', 'Eixample'), ('Altres vehicles', 'la Sagrada Família', 'Eixample'), ('Altres vehicles', 'la Sagrada Família', 'Eixample'), ('Altres vehicles', 'la Sagrada Família', 'Eixample'), ('Altres vehicles', 'la Sagrada Família', 'Eixample'), ('Turismes', \"la Dreta de l'Eixample\", 'Eixample'), ('Turismes', \"la Dreta de l'Eixample\", 'Eixample'), ('Turismes', \"la Dreta de l'Eixample\", 'Eixample'), ('Turismes', \"la Dreta de l'Eixample\", 'Eixample'), ('Turismes', \"la Dreta de l'Eixample\", 'Eixample'), ('Turismes', \"la Dreta de l'Eixample\", 'Eixample'), ('Motos', \"la Dreta de l'Eixample\", 'Eixample'), ('Motos', \"la Dreta de l'Eixample\", 'Eixample'), ('Motos', \"la Dreta de l'Eixample\", 'Eixample'), ('Motos', \"la Dreta de l'Eixample\", 'Eixample'), ('Motos', \"la Dreta de l'Eixample\", 'Eixample'), ('Ciclomotors', \"la Dreta de l'Eixample\", 'Eixample'), ('Ciclomotors', \"la Dreta de l'Eixample\", 'Eixample'), ('Ciclomotors', \"la Dreta de l'Eixample\", 'Eixample'), ('Ciclomotors', \"la Dreta de l'Eixample\", 'Eixample'), ('Ciclomotors', \"la Dreta de l'Eixample\", 'Eixample'), ('Furgonetes', \"la Dreta de l'Eixample\", 'Eixample'), ('Furgonetes', \"la Dreta de l'Eixample\", 'Eixample'), ('Furgonetes', \"la Dreta de l'Eixample\", 'Eixample'), ('Furgonetes', \"la Dreta de l'Eixample\", 'Eixample'), ('Furgonetes', \"la Dreta de l'Eixample\", 'Eixample'), ('Furgonetes', \"la Dreta de l'Eixample\", 'Eixample'), ('Camions', \"la Dreta de l'Eixample\", 'Eixample'), ('Camions', \"la Dreta de l'Eixample\", 'Eixample'), ('Camions', \"la Dreta de l'Eixample\", 'Eixample'), ('Camions', \"la Dreta de l'Eixample\", 'Eixample'), ('Camions', \"la Dreta de l'Eixample\", 'Eixample'), ('Camions', \"la Dreta de l'Eixample\", 'Eixample'), ('Altres vehicles', \"la Dreta de l'Eixample\", 'Eixample'), ('Altres vehicles', \"la Dreta de l'Eixample\", 'Eixample'), ('Altres vehicles', \"la Dreta de l'Eixample\", 'Eixample'), ('Altres vehicles', \"la Dreta de l'Eixample\", 'Eixample'), ('Altres vehicles', \"la Dreta de l'Eixample\", 'Eixample'), ('Altres vehicles', \"la Dreta de l'Eixample\", 'Eixample'), ('Turismes', \"l'Antiga Esquerra de l'Eixample\", 'Eixample'), ('Turismes', \"l'Antiga Esquerra de l'Eixample\", 'Eixample'), ('Turismes', \"l'Antiga Esquerra de l'Eixample\", 'Eixample'), ('Turismes', \"l'Antiga Esquerra de l'Eixample\", 'Eixample'), ('Turismes', \"l'Antiga Esquerra de l'Eixample\", 'Eixample'), ('Turismes', \"l'Antiga Esquerra de l'Eixample\", 'Eixample'), ('Motos', \"l'Antiga Esquerra de l'Eixample\", 'Eixample'), ('Motos', \"l'Antiga Esquerra de l'Eixample\", 'Eixample'), ('Motos', \"l'Antiga Esquerra de l'Eixample\", 'Eixample'), ('Motos', \"l'Antiga Esquerra de l'Eixample\", 'Eixample'), ('Motos', \"l'Antiga Esquerra de l'Eixample\", 'Eixample'), ('Ciclomotors', \"l'Antiga Esquerra de l'Eixample\", 'Eixample'), ('Ciclomotors', \"l'Antiga Esquerra de l'Eixample\", 'Eixample'), ('Ciclomotors', \"l'Antiga Esquerra de l'Eixample\", 'Eixample'), ('Ciclomotors', \"l'Antiga Esquerra de l'Eixample\", 'Eixample'), ('Ciclomotors', \"l'Antiga Esquerra de l'Eixample\", 'Eixample'), ('Furgonetes', \"l'Antiga Esquerra de l'Eixample\", 'Eixample'), ('Furgonetes', \"l'Antiga Esquerra de l'Eixample\", 'Eixample'), ('Furgonetes', \"l'Antiga Esquerra de l'Eixample\", 'Eixample'), ('Furgonetes', \"l'Antiga Esquerra de l'Eixample\", 'Eixample'), ('Furgonetes', \"l'Antiga Esquerra de l'Eixample\", 'Eixample'), ('Furgonetes', \"l'Antiga Esquerra de l'Eixample\", 'Eixample'), ('Camions', \"l'Antiga Esquerra de l'Eixample\", 'Eixample'), ('Camions', \"l'Antiga Esquerra de l'Eixample\", 'Eixample'), ('Camions', \"l'Antiga Esquerra de l'Eixample\", 'Eixample'), ('Camions', \"l'Antiga Esquerra de l'Eixample\", 'Eixample'), ('Altres vehicles', \"l'Antiga Esquerra de l'Eixample\", 'Eixample'), ('Altres vehicles', \"l'Antiga Esquerra de l'Eixample\", 'Eixample'), ('Altres vehicles', \"l'Antiga Esquerra de l'Eixample\", 'Eixample'), ('Altres vehicles', \"l'Antiga Esquerra de l'Eixample\", 'Eixample'), ('Turismes', \"la Nova Esquerra de l'Eixample\", 'Eixample'), ('Turismes', \"la Nova Esquerra de l'Eixample\", 'Eixample'), ('Turismes', \"la Nova Esquerra de l'Eixample\", 'Eixample'), ('Turismes', \"la Nova Esquerra de l'Eixample\", 'Eixample'), ('Turismes', \"la Nova Esquerra de l'Eixample\", 'Eixample'), ('Turismes', \"la Nova Esquerra de l'Eixample\", 'Eixample'), ('Motos', \"la Nova Esquerra de l'Eixample\", 'Eixample'), ('Motos', \"la Nova Esquerra de l'Eixample\", 'Eixample'), ('Motos', \"la Nova Esquerra de l'Eixample\", 'Eixample'), ('Motos', \"la Nova Esquerra de l'Eixample\", 'Eixample'), ('Motos', \"la Nova Esquerra de l'Eixample\", 'Eixample'), ('Ciclomotors', \"la Nova Esquerra de l'Eixample\", 'Eixample'), ('Ciclomotors', \"la Nova Esquerra de l'Eixample\", 'Eixample'), ('Ciclomotors', \"la Nova Esquerra de l'Eixample\", 'Eixample'), ('Ciclomotors', \"la Nova Esquerra de l'Eixample\", 'Eixample'), ('Ciclomotors', \"la Nova Esquerra de l'Eixample\", 'Eixample'), ('Furgonetes', \"la Nova Esquerra de l'Eixample\", 'Eixample'), ('Furgonetes', \"la Nova Esquerra de l'Eixample\", 'Eixample'), ('Furgonetes', \"la Nova Esquerra de l'Eixample\", 'Eixample'), ('Furgonetes', \"la Nova Esquerra de l'Eixample\", 'Eixample'), ('Furgonetes', \"la Nova Esquerra de l'Eixample\", 'Eixample'), ('Furgonetes', \"la Nova Esquerra de l'Eixample\", 'Eixample'), ('Camions', \"la Nova Esquerra de l'Eixample\", 'Eixample'), ('Camions', \"la Nova Esquerra de l'Eixample\", 'Eixample'), ('Camions', \"la Nova Esquerra de l'Eixample\", 'Eixample'), ('Camions', \"la Nova Esquerra de l'Eixample\", 'Eixample'), ('Camions', \"la Nova Esquerra de l'Eixample\", 'Eixample'), ('Altres vehicles', \"la Nova Esquerra de l'Eixample\", 'Eixample'), ('Altres vehicles', \"la Nova Esquerra de l'Eixample\", 'Eixample'), ('Altres vehicles', \"la Nova Esquerra de l'Eixample\", 'Eixample'), ('Altres vehicles', \"la Nova Esquerra de l'Eixample\", 'Eixample'), ('Turismes', 'Sant Antoni', 'Eixample'), ('Turismes', 'Sant Antoni', 'Eixample'), ('Turismes', 'Sant Antoni', 'Eixample'), ('Turismes', 'Sant Antoni', 'Eixample'), ('Turismes', 'Sant Antoni', 'Eixample'), ('Turismes', 'Sant Antoni', 'Eixample'), ('Motos', 'Sant Antoni', 'Eixample'), ('Motos', 'Sant Antoni', 'Eixample'), ('Motos', 'Sant Antoni', 'Eixample'), ('Motos', 'Sant Antoni', 'Eixample'), ('Motos', 'Sant Antoni', 'Eixample'), ('Ciclomotors', 'Sant Antoni', 'Eixample'), ('Ciclomotors', 'Sant Antoni', 'Eixample'), ('Ciclomotors', 'Sant Antoni', 'Eixample'), ('Ciclomotors', 'Sant Antoni', 'Eixample'), ('Ciclomotors', 'Sant Antoni', 'Eixample'), ('Furgonetes', 'Sant Antoni', 'Eixample'), ('Furgonetes', 'Sant Antoni', 'Eixample'), ('Furgonetes', 'Sant Antoni', 'Eixample'), ('Furgonetes', 'Sant Antoni', 'Eixample'), ('Furgonetes', 'Sant Antoni', 'Eixample'), ('Furgonetes', 'Sant Antoni', 'Eixample'), ('Camions', 'Sant Antoni', 'Eixample'), ('Camions', 'Sant Antoni', 'Eixample'), ('Camions', 'Sant Antoni', 'Eixample'), ('Camions', 'Sant Antoni', 'Eixample'), ('Camions', 'Sant Antoni', 'Eixample'), ('Camions', 'Sant Antoni', 'Eixample'), ('Altres vehicles', 'Sant Antoni', 'Eixample'), ('Altres vehicles', 'Sant Antoni', 'Eixample'), ('Altres vehicles', 'Sant Antoni', 'Eixample'), ('Altres vehicles', 'Sant Antoni', 'Eixample'), ('Turismes', 'el Poble Sec - AEI Parc Montjuïc', 'Sants-Montjuïc'), ('Turismes', 'el Poble Sec - AEI Parc Montjuïc', 'Sants-Montjuïc'), ('Turismes', 'el Poble Sec - AEI Parc Montjuïc', 'Sants-Montjuïc'), ('Turismes', 'el Poble Sec - AEI Parc Montjuïc', 'Sants-Montjuïc'), ('Turismes', 'el Poble Sec - AEI Parc Montjuïc', 'Sants-Montjuïc'), ('Turismes', 'el Poble Sec - AEI Parc Montjuïc', 'Sants-Montjuïc'), ('Motos', 'el Poble Sec - AEI Parc Montjuïc', 'Sants-Montjuïc'), ('Motos', 'el Poble Sec - AEI Parc Montjuïc', 'Sants-Montjuïc'), ('Motos', 'el Poble Sec - AEI Parc Montjuïc', 'Sants-Montjuïc'), ('Motos', 'el Poble Sec - AEI Parc Montjuïc', 'Sants-Montjuïc'), ('Motos', 'el Poble Sec - AEI Parc Montjuïc', 'Sants-Montjuïc'), ('Ciclomotors', 'el Poble Sec - AEI Parc Montjuïc', 'Sants-Montjuïc'), ('Ciclomotors', 'el Poble Sec - AEI Parc Montjuïc', 'Sants-Montjuïc'), ('Ciclomotors', 'el Poble Sec - AEI Parc Montjuïc', 'Sants-Montjuïc'), ('Ciclomotors', 'el Poble Sec - AEI Parc Montjuïc', 'Sants-Montjuïc'), ('Ciclomotors', 'el Poble Sec - AEI Parc Montjuïc', 'Sants-Montjuïc'), ('Furgonetes', 'el Poble Sec - AEI Parc Montjuïc', 'Sants-Montjuïc'), ('Furgonetes', 'el Poble Sec - AEI Parc Montjuïc', 'Sants-Montjuïc'), ('Furgonetes', 'el Poble Sec - AEI Parc Montjuïc', 'Sants-Montjuïc'), ('Furgonetes', 'el Poble Sec - AEI Parc Montjuïc', 'Sants-Montjuïc'), ('Furgonetes', 'el Poble Sec - AEI Parc Montjuïc', 'Sants-Montjuïc'), ('Furgonetes', 'el Poble Sec - AEI Parc Montjuïc', 'Sants-Montjuïc'), ('Camions', 'el Poble Sec - AEI Parc Montjuïc', 'Sants-Montjuïc'), ('Camions', 'el Poble Sec - AEI Parc Montjuïc', 'Sants-Montjuïc'), ('Camions', 'el Poble Sec - AEI Parc Montjuïc', 'Sants-Montjuïc'), ('Camions', 'el Poble Sec - AEI Parc Montjuïc', 'Sants-Montjuïc'), ('Camions', 'el Poble Sec - AEI Parc Montjuïc', 'Sants-Montjuïc'), ('Camions', 'el Poble Sec - AEI Parc Montjuïc', 'Sants-Montjuïc'), ('Altres vehicles', 'el Poble Sec - AEI Parc Montjuïc', 'Sants-Montjuïc'), ('Altres vehicles', 'el Poble Sec - AEI Parc Montjuïc', 'Sants-Montjuïc'), ('Altres vehicles', 'el Poble Sec - AEI Parc Montjuïc', 'Sants-Montjuïc'), ('Altres vehicles', 'el Poble Sec - AEI Parc Montjuïc', 'Sants-Montjuïc'), ('Turismes', 'la Marina del Prat Vermell - AEI Zona Franca', 'Sants-Montjuïc'), ('Turismes', 'la Marina del Prat Vermell - AEI Zona Franca', 'Sants-Montjuïc'), ('Turismes', 'la Marina del Prat Vermell - AEI Zona Franca', 'Sants-Montjuïc'), ('Turismes', 'la Marina del Prat Vermell - AEI Zona Franca', 'Sants-Montjuïc'), ('Turismes', 'la Marina del Prat Vermell - AEI Zona Franca', 'Sants-Montjuïc'), ('Turismes', 'la Marina del Prat Vermell - AEI Zona Franca', 'Sants-Montjuïc'), ('Motos', 'la Marina del Prat Vermell - AEI Zona Franca', 'Sants-Montjuïc'), ('Motos', 'la Marina del Prat Vermell - AEI Zona Franca', 'Sants-Montjuïc'), ('Motos', 'la Marina del Prat Vermell - AEI Zona Franca', 'Sants-Montjuïc'), ('Motos', 'la Marina del Prat Vermell - AEI Zona Franca', 'Sants-Montjuïc'), ('Ciclomotors', 'la Marina del Prat Vermell - AEI Zona Franca', 'Sants-Montjuïc'), ('Ciclomotors', 'la Marina del Prat Vermell - AEI Zona Franca', 'Sants-Montjuïc'), ('Ciclomotors', 'la Marina del Prat Vermell - AEI Zona Franca', 'Sants-Montjuïc'), ('Ciclomotors', 'la Marina del Prat Vermell - AEI Zona Franca', 'Sants-Montjuïc'), ('Furgonetes', 'la Marina del Prat Vermell - AEI Zona Franca', 'Sants-Montjuïc'), ('Furgonetes', 'la Marina del Prat Vermell - AEI Zona Franca', 'Sants-Montjuïc'), ('Furgonetes', 'la Marina del Prat Vermell - AEI Zona Franca', 'Sants-Montjuïc'), ('Furgonetes', 'la Marina del Prat Vermell - AEI Zona Franca', 'Sants-Montjuïc'), ('Furgonetes', 'la Marina del Prat Vermell - AEI Zona Franca', 'Sants-Montjuïc'), ('Furgonetes', 'la Marina del Prat Vermell - AEI Zona Franca', 'Sants-Montjuïc'), ('Camions', 'la Marina del Prat Vermell - AEI Zona Franca', 'Sants-Montjuïc'), ('Camions', 'la Marina del Prat Vermell - AEI Zona Franca', 'Sants-Montjuïc'), ('Camions', 'la Marina del Prat Vermell - AEI Zona Franca', 'Sants-Montjuïc'), ('Camions', 'la Marina del Prat Vermell - AEI Zona Franca', 'Sants-Montjuïc'), ('Camions', 'la Marina del Prat Vermell - AEI Zona Franca', 'Sants-Montjuïc'), ('Camions', 'la Marina del Prat Vermell - AEI Zona Franca', 'Sants-Montjuïc'), ('Altres vehicles', 'la Marina del Prat Vermell - AEI Zona Franca', 'Sants-Montjuïc'), ('Altres vehicles', 'la Marina del Prat Vermell - AEI Zona Franca', 'Sants-Montjuïc'), ('Altres vehicles', 'la Marina del Prat Vermell - AEI Zona Franca', 'Sants-Montjuïc'), ('Altres vehicles', 'la Marina del Prat Vermell - AEI Zona Franca', 'Sants-Montjuïc'), ('Altres vehicles', 'la Marina del Prat Vermell - AEI Zona Franca', 'Sants-Montjuïc'), ('Altres vehicles', 'la Marina del Prat Vermell - AEI Zona Franca', 'Sants-Montjuïc'), ('Turismes', 'la Marina de Port', 'Sants-Montjuïc'), ('Turismes', 'la Marina de Port', 'Sants-Montjuïc'), ('Turismes', 'la Marina de Port', 'Sants-Montjuïc'), ('Turismes', 'la Marina de Port', 'Sants-Montjuïc'), ('Turismes', 'la Marina de Port', 'Sants-Montjuïc'), ('Turismes', 'la Marina de Port', 'Sants-Montjuïc'), ('Motos', 'la Marina de Port', 'Sants-Montjuïc'), ('Motos', 'la Marina de Port', 'Sants-Montjuïc'), ('Motos', 'la Marina de Port', 'Sants-Montjuïc'), ('Motos', 'la Marina de Port', 'Sants-Montjuïc'), ('Motos', 'la Marina de Port', 'Sants-Montjuïc'), ('Ciclomotors', 'la Marina de Port', 'Sants-Montjuïc'), ('Ciclomotors', 'la Marina de Port', 'Sants-Montjuïc'), ('Ciclomotors', 'la Marina de Port', 'Sants-Montjuïc'), ('Ciclomotors', 'la Marina de Port', 'Sants-Montjuïc'), ('Ciclomotors', 'la Marina de Port', 'Sants-Montjuïc'), ('Furgonetes', 'la Marina de Port', 'Sants-Montjuïc'), ('Furgonetes', 'la Marina de Port', 'Sants-Montjuïc'), ('Furgonetes', 'la Marina de Port', 'Sants-Montjuïc'), ('Furgonetes', 'la Marina de Port', 'Sants-Montjuïc'), ('Furgonetes', 'la Marina de Port', 'Sants-Montjuïc'), ('Camions', 'la Marina de Port', 'Sants-Montjuïc'), ('Camions', 'la Marina de Port', 'Sants-Montjuïc'), ('Camions', 'la Marina de Port', 'Sants-Montjuïc'), ('Camions', 'la Marina de Port', 'Sants-Montjuïc'), ('Camions', 'la Marina de Port', 'Sants-Montjuïc'), ('Altres vehicles', 'la Marina de Port', 'Sants-Montjuïc'), ('Altres vehicles', 'la Marina de Port', 'Sants-Montjuïc'), ('Altres vehicles', 'la Marina de Port', 'Sants-Montjuïc'), ('Altres vehicles', 'la Marina de Port', 'Sants-Montjuïc'), ('Turismes', 'la Font de la Guatlla', 'Sants-Montjuïc'), ('Turismes', 'la Font de la Guatlla', 'Sants-Montjuïc'), ('Turismes', 'la Font de la Guatlla', 'Sants-Montjuïc'), ('Turismes', 'la Font de la Guatlla', 'Sants-Montjuïc'), ('Turismes', 'la Font de la Guatlla', 'Sants-Montjuïc'), ('Turismes', 'la Font de la Guatlla', 'Sants-Montjuïc'), ('Motos', 'la Font de la Guatlla', 'Sants-Montjuïc'), ('Motos', 'la Font de la Guatlla', 'Sants-Montjuïc'), ('Motos', 'la Font de la Guatlla', 'Sants-Montjuïc'), ('Motos', 'la Font de la Guatlla', 'Sants-Montjuïc'), ('Motos', 'la Font de la Guatlla', 'Sants-Montjuïc'), ('Ciclomotors', 'la Font de la Guatlla', 'Sants-Montjuïc'), ('Ciclomotors', 'la Font de la Guatlla', 'Sants-Montjuïc'), ('Ciclomotors', 'la Font de la Guatlla', 'Sants-Montjuïc'), ('Ciclomotors', 'la Font de la Guatlla', 'Sants-Montjuïc'), ('Furgonetes', 'la Font de la Guatlla', 'Sants-Montjuïc'), ('Furgonetes', 'la Font de la Guatlla', 'Sants-Montjuïc'), ('Furgonetes', 'la Font de la Guatlla', 'Sants-Montjuïc'), ('Furgonetes', 'la Font de la Guatlla', 'Sants-Montjuïc'), ('Camions', 'la Font de la Guatlla', 'Sants-Montjuïc'), ('Camions', 'la Font de la Guatlla', 'Sants-Montjuïc'), ('Camions', 'la Font de la Guatlla', 'Sants-Montjuïc'), ('Camions', 'la Font de la Guatlla', 'Sants-Montjuïc'), ('Altres vehicles', 'la Font de la Guatlla', 'Sants-Montjuïc'), ('Altres vehicles', 'la Font de la Guatlla', 'Sants-Montjuïc'), ('Altres vehicles', 'la Font de la Guatlla', 'Sants-Montjuïc'), ('Altres vehicles', 'la Font de la Guatlla', 'Sants-Montjuïc'), ('Turismes', 'Hostafrancs', 'Sants-Montjuïc'), ('Turismes', 'Hostafrancs', 'Sants-Montjuïc'), ('Turismes', 'Hostafrancs', 'Sants-Montjuïc'), ('Turismes', 'Hostafrancs', 'Sants-Montjuïc'), ('Turismes', 'Hostafrancs', 'Sants-Montjuïc'), ('Turismes', 'Hostafrancs', 'Sants-Montjuïc'), ('Motos', 'Hostafrancs', 'Sants-Montjuïc'), ('Motos', 'Hostafrancs', 'Sants-Montjuïc'), ('Motos', 'Hostafrancs', 'Sants-Montjuïc'), ('Motos', 'Hostafrancs', 'Sants-Montjuïc'), ('Motos', 'Hostafrancs', 'Sants-Montjuïc'), ('Ciclomotors', 'Hostafrancs', 'Sants-Montjuïc'), ('Ciclomotors', 'Hostafrancs', 'Sants-Montjuïc'), ('Ciclomotors', 'Hostafrancs', 'Sants-Montjuïc'), ('Ciclomotors', 'Hostafrancs', 'Sants-Montjuïc'), ('Ciclomotors', 'Hostafrancs', 'Sants-Montjuïc'), ('Furgonetes', 'Hostafrancs', 'Sants-Montjuïc'), ('Furgonetes', 'Hostafrancs', 'Sants-Montjuïc'), ('Furgonetes', 'Hostafrancs', 'Sants-Montjuïc'), ('Furgonetes', 'Hostafrancs', 'Sants-Montjuïc'), ('Furgonetes', 'Hostafrancs', 'Sants-Montjuïc'), ('Camions', 'Hostafrancs', 'Sants-Montjuïc'), ('Camions', 'Hostafrancs', 'Sants-Montjuïc'), ('Camions', 'Hostafrancs', 'Sants-Montjuïc'), ('Camions', 'Hostafrancs', 'Sants-Montjuïc'), ('Altres vehicles', 'Hostafrancs', 'Sants-Montjuïc'), ('Altres vehicles', 'Hostafrancs', 'Sants-Montjuïc'), ('Altres vehicles', 'Hostafrancs', 'Sants-Montjuïc'), ('Altres vehicles', 'Hostafrancs', 'Sants-Montjuïc'), ('Turismes', 'la Bordeta', 'Sants-Montjuïc'), ('Turismes', 'la Bordeta', 'Sants-Montjuïc'), ('Turismes', 'la Bordeta', 'Sants-Montjuïc'), ('Turismes', 'la Bordeta', 'Sants-Montjuïc'), ('Turismes', 'la Bordeta', 'Sants-Montjuïc'), ('Turismes', 'la Bordeta', 'Sants-Montjuïc'), ('Motos', 'la Bordeta', 'Sants-Montjuïc'), ('Motos', 'la Bordeta', 'Sants-Montjuïc'), ('Motos', 'la Bordeta', 'Sants-Montjuïc'), ('Motos', 'la Bordeta', 'Sants-Montjuïc'), ('Motos', 'la Bordeta', 'Sants-Montjuïc'), ('Ciclomotors', 'la Bordeta', 'Sants-Montjuïc'), ('Ciclomotors', 'la Bordeta', 'Sants-Montjuïc'), ('Ciclomotors', 'la Bordeta', 'Sants-Montjuïc'), ('Ciclomotors', 'la Bordeta', 'Sants-Montjuïc'), ('Ciclomotors', 'la Bordeta', 'Sants-Montjuïc'), ('Furgonetes', 'la Bordeta', 'Sants-Montjuïc'), ('Furgonetes', 'la Bordeta', 'Sants-Montjuïc'), ('Furgonetes', 'la Bordeta', 'Sants-Montjuïc'), ('Furgonetes', 'la Bordeta', 'Sants-Montjuïc'), ('Furgonetes', 'la Bordeta', 'Sants-Montjuïc'), ('Furgonetes', 'la Bordeta', 'Sants-Montjuïc'), ('Camions', 'la Bordeta', 'Sants-Montjuïc'), ('Camions', 'la Bordeta', 'Sants-Montjuïc'), ('Camions', 'la Bordeta', 'Sants-Montjuïc'), ('Camions', 'la Bordeta', 'Sants-Montjuïc'), ('Camions', 'la Bordeta', 'Sants-Montjuïc'), ('Altres vehicles', 'la Bordeta', 'Sants-Montjuïc'), ('Altres vehicles', 'la Bordeta', 'Sants-Montjuïc'), ('Altres vehicles', 'la Bordeta', 'Sants-Montjuïc'), ('Turismes', 'Sants - Badal', 'Sants-Montjuïc'), ('Turismes', 'Sants - Badal', 'Sants-Montjuïc'), ('Turismes', 'Sants - Badal', 'Sants-Montjuïc'), ('Turismes', 'Sants - Badal', 'Sants-Montjuïc'), ('Turismes', 'Sants - Badal', 'Sants-Montjuïc'), ('Turismes', 'Sants - Badal', 'Sants-Montjuïc'), ('Motos', 'Sants - Badal', 'Sants-Montjuïc'), ('Motos', 'Sants - Badal', 'Sants-Montjuïc'), ('Motos', 'Sants - Badal', 'Sants-Montjuïc'), ('Motos', 'Sants - Badal', 'Sants-Montjuïc'), ('Motos', 'Sants - Badal', 'Sants-Montjuïc'), ('Ciclomotors', 'Sants - Badal', 'Sants-Montjuïc'), ('Ciclomotors', 'Sants - Badal', 'Sants-Montjuïc'), ('Ciclomotors', 'Sants - Badal', 'Sants-Montjuïc'), ('Ciclomotors', 'Sants - Badal', 'Sants-Montjuïc'), ('Ciclomotors', 'Sants - Badal', 'Sants-Montjuïc'), ('Furgonetes', 'Sants - Badal', 'Sants-Montjuïc'), ('Furgonetes', 'Sants - Badal', 'Sants-Montjuïc'), ('Furgonetes', 'Sants - Badal', 'Sants-Montjuïc'), ('Furgonetes', 'Sants - Badal', 'Sants-Montjuïc'), ('Furgonetes', 'Sants - Badal', 'Sants-Montjuïc'), ('Camions', 'Sants - Badal', 'Sants-Montjuïc'), ('Camions', 'Sants - Badal', 'Sants-Montjuïc'), ('Camions', 'Sants - Badal', 'Sants-Montjuïc'), ('Altres vehicles', 'Sants - Badal', 'Sants-Montjuïc'), ('Altres vehicles', 'Sants - Badal', 'Sants-Montjuïc'), ('Altres vehicles', 'Sants - Badal', 'Sants-Montjuïc'), ('Turismes', 'Sants', 'Sants-Montjuïc'), ('Turismes', 'Sants', 'Sants-Montjuïc'), ('Turismes', 'Sants', 'Sants-Montjuïc'), ('Turismes', 'Sants', 'Sants-Montjuïc'), ('Turismes', 'Sants', 'Sants-Montjuïc'), ('Turismes', 'Sants', 'Sants-Montjuïc'), ('Motos', 'Sants', 'Sants-Montjuïc'), ('Motos', 'Sants', 'Sants-Montjuïc'), ('Motos', 'Sants', 'Sants-Montjuïc'), ('Motos', 'Sants', 'Sants-Montjuïc'), ('Motos', 'Sants', 'Sants-Montjuïc'), ('Ciclomotors', 'Sants', 'Sants-Montjuïc'), ('Ciclomotors', 'Sants', 'Sants-Montjuïc'), ('Ciclomotors', 'Sants', 'Sants-Montjuïc'), ('Ciclomotors', 'Sants', 'Sants-Montjuïc'), ('Ciclomotors', 'Sants', 'Sants-Montjuïc'), ('Furgonetes', 'Sants', 'Sants-Montjuïc'), ('Furgonetes', 'Sants', 'Sants-Montjuïc'), ('Furgonetes', 'Sants', 'Sants-Montjuïc'), ('Furgonetes', 'Sants', 'Sants-Montjuïc'), ('Furgonetes', 'Sants', 'Sants-Montjuïc'), ('Furgonetes', 'Sants', 'Sants-Montjuïc'), ('Camions', 'Sants', 'Sants-Montjuïc'), ('Camions', 'Sants', 'Sants-Montjuïc'), ('Camions', 'Sants', 'Sants-Montjuïc'), ('Camions', 'Sants', 'Sants-Montjuïc'), ('Camions', 'Sants', 'Sants-Montjuïc'), ('Altres vehicles', 'Sants', 'Sants-Montjuïc'), ('Altres vehicles', 'Sants', 'Sants-Montjuïc'), ('Altres vehicles', 'Sants', 'Sants-Montjuïc'), ('Altres vehicles', 'Sants', 'Sants-Montjuïc'), ('Turismes', 'les Corts', 'Les Corts'), ('Turismes', 'les Corts', 'Les Corts'), ('Turismes', 'les Corts', 'Les Corts'), ('Turismes', 'les Corts', 'Les Corts'), ('Turismes', 'les Corts', 'Les Corts'), ('Turismes', 'les Corts', 'Les Corts'), ('Motos', 'les Corts', 'Les Corts'), ('Motos', 'les Corts', 'Les Corts'), ('Motos', 'les Corts', 'Les Corts'), ('Motos', 'les Corts', 'Les Corts'), ('Motos', 'les Corts', 'Les Corts'), ('Ciclomotors', 'les Corts', 'Les Corts'), ('Ciclomotors', 'les Corts', 'Les Corts'), ('Ciclomotors', 'les Corts', 'Les Corts'), ('Ciclomotors', 'les Corts', 'Les Corts'), ('Ciclomotors', 'les Corts', 'Les Corts'), ('Furgonetes', 'les Corts', 'Les Corts'), ('Furgonetes', 'les Corts', 'Les Corts'), ('Furgonetes', 'les Corts', 'Les Corts'), ('Furgonetes', 'les Corts', 'Les Corts'), ('Furgonetes', 'les Corts', 'Les Corts'), ('Furgonetes', 'les Corts', 'Les Corts'), ('Camions', 'les Corts', 'Les Corts'), ('Camions', 'les Corts', 'Les Corts'), ('Camions', 'les Corts', 'Les Corts'), ('Camions', 'les Corts', 'Les Corts'), ('Camions', 'les Corts', 'Les Corts'), ('Altres vehicles', 'les Corts', 'Les Corts'), ('Altres vehicles', 'les Corts', 'Les Corts'), ('Altres vehicles', 'les Corts', 'Les Corts'), ('Altres vehicles', 'les Corts', 'Les Corts'), ('Turismes', 'la Maternitat i Sant Ramon', 'Les Corts'), ('Turismes', 'la Maternitat i Sant Ramon', 'Les Corts'), ('Turismes', 'la Maternitat i Sant Ramon', 'Les Corts'), ('Turismes', 'la Maternitat i Sant Ramon', 'Les Corts'), ('Turismes', 'la Maternitat i Sant Ramon', 'Les Corts'), ('Turismes', 'la Maternitat i Sant Ramon', 'Les Corts'), ('Motos', 'la Maternitat i Sant Ramon', 'Les Corts'), ('Motos', 'la Maternitat i Sant Ramon', 'Les Corts'), ('Motos', 'la Maternitat i Sant Ramon', 'Les Corts'), ('Motos', 'la Maternitat i Sant Ramon', 'Les Corts'), ('Motos', 'la Maternitat i Sant Ramon', 'Les Corts'), ('Ciclomotors', 'la Maternitat i Sant Ramon', 'Les Corts'), ('Ciclomotors', 'la Maternitat i Sant Ramon', 'Les Corts'), ('Ciclomotors', 'la Maternitat i Sant Ramon', 'Les Corts'), ('Ciclomotors', 'la Maternitat i Sant Ramon', 'Les Corts'), ('Ciclomotors', 'la Maternitat i Sant Ramon', 'Les Corts'), ('Furgonetes', 'la Maternitat i Sant Ramon', 'Les Corts'), ('Furgonetes', 'la Maternitat i Sant Ramon', 'Les Corts'), ('Furgonetes', 'la Maternitat i Sant Ramon', 'Les Corts'), ('Furgonetes', 'la Maternitat i Sant Ramon', 'Les Corts'), ('Furgonetes', 'la Maternitat i Sant Ramon', 'Les Corts'), ('Furgonetes', 'la Maternitat i Sant Ramon', 'Les Corts'), ('Camions', 'la Maternitat i Sant Ramon', 'Les Corts'), ('Camions', 'la Maternitat i Sant Ramon', 'Les Corts'), ('Camions', 'la Maternitat i Sant Ramon', 'Les Corts'), ('Camions', 'la Maternitat i Sant Ramon', 'Les Corts'), ('Altres vehicles', 'la Maternitat i Sant Ramon', 'Les Corts'), ('Altres vehicles', 'la Maternitat i Sant Ramon', 'Les Corts'), ('Altres vehicles', 'la Maternitat i Sant Ramon', 'Les Corts'), ('Altres vehicles', 'la Maternitat i Sant Ramon', 'Les Corts'), ('Turismes', 'Pedralbes', 'Les Corts'), ('Turismes', 'Pedralbes', 'Les Corts'), ('Turismes', 'Pedralbes', 'Les Corts'), ('Turismes', 'Pedralbes', 'Les Corts'), ('Turismes', 'Pedralbes', 'Les Corts'), ('Turismes', 'Pedralbes', 'Les Corts'), ('Motos', 'Pedralbes', 'Les Corts'), ('Motos', 'Pedralbes', 'Les Corts'), ('Motos', 'Pedralbes', 'Les Corts'), ('Motos', 'Pedralbes', 'Les Corts'), ('Motos', 'Pedralbes', 'Les Corts'), ('Ciclomotors', 'Pedralbes', 'Les Corts'), ('Ciclomotors', 'Pedralbes', 'Les Corts'), ('Ciclomotors', 'Pedralbes', 'Les Corts'), ('Ciclomotors', 'Pedralbes', 'Les Corts'), ('Ciclomotors', 'Pedralbes', 'Les Corts'), ('Furgonetes', 'Pedralbes', 'Les Corts'), ('Furgonetes', 'Pedralbes', 'Les Corts'), ('Furgonetes', 'Pedralbes', 'Les Corts'), ('Furgonetes', 'Pedralbes', 'Les Corts'), ('Camions', 'Pedralbes', 'Les Corts'), ('Camions', 'Pedralbes', 'Les Corts'), ('Camions', 'Pedralbes', 'Les Corts'), ('Camions', 'Pedralbes', 'Les Corts'), ('Altres vehicles', 'Pedralbes', 'Les Corts'), ('Altres vehicles', 'Pedralbes', 'Les Corts'), ('Altres vehicles', 'Pedralbes', 'Les Corts'), ('Altres vehicles', 'Pedralbes', 'Les Corts'), ('Turismes', 'Vallvidrera, el Tibidabo i les Planes', 'Sarrià-St. Gervasi'), ('Turismes', 'Vallvidrera, el Tibidabo i les Planes', 'Sarrià-St. Gervasi'), ('Turismes', 'Vallvidrera, el Tibidabo i les Planes', 'Sarrià-St. Gervasi'), ('Turismes', 'Vallvidrera, el Tibidabo i les Planes', 'Sarrià-St. Gervasi'), ('Turismes', 'Vallvidrera, el Tibidabo i les Planes', 'Sarrià-St. Gervasi'), ('Turismes', 'Vallvidrera, el Tibidabo i les Planes', 'Sarrià-St. Gervasi'), ('Motos', 'Vallvidrera, el Tibidabo i les Planes', 'Sarrià-St. Gervasi'), ('Motos', 'Vallvidrera, el Tibidabo i les Planes', 'Sarrià-St. Gervasi'), ('Motos', 'Vallvidrera, el Tibidabo i les Planes', 'Sarrià-St. Gervasi'), ('Motos', 'Vallvidrera, el Tibidabo i les Planes', 'Sarrià-St. Gervasi'), ('Motos', 'Vallvidrera, el Tibidabo i les Planes', 'Sarrià-St. Gervasi'), ('Ciclomotors', 'Vallvidrera, el Tibidabo i les Planes', 'Sarrià-St. Gervasi'), ('Ciclomotors', 'Vallvidrera, el Tibidabo i les Planes', 'Sarrià-St. Gervasi'), ('Ciclomotors', 'Vallvidrera, el Tibidabo i les Planes', 'Sarrià-St. Gervasi'), ('Ciclomotors', 'Vallvidrera, el Tibidabo i les Planes', 'Sarrià-St. Gervasi'), ('Ciclomotors', 'Vallvidrera, el Tibidabo i les Planes', 'Sarrià-St. Gervasi'), ('Furgonetes', 'Vallvidrera, el Tibidabo i les Planes', 'Sarrià-St. Gervasi'), ('Furgonetes', 'Vallvidrera, el Tibidabo i les Planes', 'Sarrià-St. Gervasi'), ('Furgonetes', 'Vallvidrera, el Tibidabo i les Planes', 'Sarrià-St. Gervasi'), ('Furgonetes', 'Vallvidrera, el Tibidabo i les Planes', 'Sarrià-St. Gervasi'), ('Camions', 'Vallvidrera, el Tibidabo i les Planes', 'Sarrià-St. Gervasi'), ('Camions', 'Vallvidrera, el Tibidabo i les Planes', 'Sarrià-St. Gervasi'), ('Camions', 'Vallvidrera, el Tibidabo i les Planes', 'Sarrià-St. Gervasi'), ('Camions', 'Vallvidrera, el Tibidabo i les Planes', 'Sarrià-St. Gervasi'), ('Altres vehicles', 'Vallvidrera, el Tibidabo i les Planes', 'Sarrià-St. Gervasi'), ('Altres vehicles', 'Vallvidrera, el Tibidabo i les Planes', 'Sarrià-St. Gervasi'), ('Altres vehicles', 'Vallvidrera, el Tibidabo i les Planes', 'Sarrià-St. Gervasi'), ('Altres vehicles', 'Vallvidrera, el Tibidabo i les Planes', 'Sarrià-St. Gervasi'), ('Turismes', 'Sarrià', 'Sarrià-St. Gervasi'), ('Turismes', 'Sarrià', 'Sarrià-St. Gervasi'), ('Turismes', 'Sarrià', 'Sarrià-St. Gervasi'), ('Turismes', 'Sarrià', 'Sarrià-St. Gervasi'), ('Turismes', 'Sarrià', 'Sarrià-St. Gervasi'), ('Turismes', 'Sarrià', 'Sarrià-St. Gervasi'), ('Motos', 'Sarrià', 'Sarrià-St. Gervasi'), ('Motos', 'Sarrià', 'Sarrià-St. Gervasi'), ('Motos', 'Sarrià', 'Sarrià-St. Gervasi'), ('Motos', 'Sarrià', 'Sarrià-St. Gervasi'), ('Motos', 'Sarrià', 'Sarrià-St. Gervasi'), ('Ciclomotors', 'Sarrià', 'Sarrià-St. Gervasi'), ('Ciclomotors', 'Sarrià', 'Sarrià-St. Gervasi'), ('Ciclomotors', 'Sarrià', 'Sarrià-St. Gervasi'), ('Ciclomotors', 'Sarrià', 'Sarrià-St. Gervasi'), ('Ciclomotors', 'Sarrià', 'Sarrià-St. Gervasi'), ('Furgonetes', 'Sarrià', 'Sarrià-St. Gervasi'), ('Furgonetes', 'Sarrià', 'Sarrià-St. Gervasi'), ('Furgonetes', 'Sarrià', 'Sarrià-St. Gervasi'), ('Furgonetes', 'Sarrià', 'Sarrià-St. Gervasi'), ('Furgonetes', 'Sarrià', 'Sarrià-St. Gervasi'), ('Furgonetes', 'Sarrià', 'Sarrià-St. Gervasi'), ('Camions', 'Sarrià', 'Sarrià-St. Gervasi'), ('Camions', 'Sarrià', 'Sarrià-St. Gervasi'), ('Camions', 'Sarrià', 'Sarrià-St. Gervasi'), ('Altres vehicles', 'Sarrià', 'Sarrià-St. Gervasi'), ('Altres vehicles', 'Sarrià', 'Sarrià-St. Gervasi'), ('Altres vehicles', 'Sarrià', 'Sarrià-St. Gervasi'), ('Altres vehicles', 'Sarrià', 'Sarrià-St. Gervasi'), ('Altres vehicles', 'Sarrià', 'Sarrià-St. Gervasi'), ('Turismes', 'les Tres Torres', 'Sarrià-St. Gervasi'), ('Turismes', 'les Tres Torres', 'Sarrià-St. Gervasi'), ('Turismes', 'les Tres Torres', 'Sarrià-St. Gervasi'), ('Turismes', 'les Tres Torres', 'Sarrià-St. Gervasi'), ('Turismes', 'les Tres Torres', 'Sarrià-St. Gervasi'), ('Turismes', 'les Tres Torres', 'Sarrià-St. Gervasi'), ('Motos', 'les Tres Torres', 'Sarrià-St. Gervasi'), ('Motos', 'les Tres Torres', 'Sarrià-St. Gervasi'), ('Motos', 'les Tres Torres', 'Sarrià-St. Gervasi'), ('Motos', 'les Tres Torres', 'Sarrià-St. Gervasi'), ('Motos', 'les Tres Torres', 'Sarrià-St. Gervasi'), ('Ciclomotors', 'les Tres Torres', 'Sarrià-St. Gervasi'), ('Ciclomotors', 'les Tres Torres', 'Sarrià-St. Gervasi'), ('Ciclomotors', 'les Tres Torres', 'Sarrià-St. Gervasi'), ('Ciclomotors', 'les Tres Torres', 'Sarrià-St. Gervasi'), ('Ciclomotors', 'les Tres Torres', 'Sarrià-St. Gervasi'), ('Furgonetes', 'les Tres Torres', 'Sarrià-St. Gervasi'), ('Furgonetes', 'les Tres Torres', 'Sarrià-St. Gervasi'), ('Furgonetes', 'les Tres Torres', 'Sarrià-St. Gervasi'), ('Furgonetes', 'les Tres Torres', 'Sarrià-St. Gervasi'), ('Furgonetes', 'les Tres Torres', 'Sarrià-St. Gervasi'), ('Furgonetes', 'les Tres Torres', 'Sarrià-St. Gervasi'), ('Camions', 'les Tres Torres', 'Sarrià-St. Gervasi'), ('Camions', 'les Tres Torres', 'Sarrià-St. Gervasi'), ('Camions', 'les Tres Torres', 'Sarrià-St. Gervasi'), ('Camions', 'les Tres Torres', 'Sarrià-St. Gervasi'), ('Camions', 'les Tres Torres', 'Sarrià-St. Gervasi'), ('Altres vehicles', 'les Tres Torres', 'Sarrià-St. Gervasi'), ('Altres vehicles', 'les Tres Torres', 'Sarrià-St. Gervasi'), ('Altres vehicles', 'les Tres Torres', 'Sarrià-St. Gervasi'), ('Altres vehicles', 'les Tres Torres', 'Sarrià-St. Gervasi'), ('Turismes', 'Sant Gervasi - la Bonanova', 'Sarrià-St. Gervasi'), ('Turismes', 'Sant Gervasi - la Bonanova', 'Sarrià-St. Gervasi'), ('Turismes', 'Sant Gervasi - la Bonanova', 'Sarrià-St. Gervasi'), ('Turismes', 'Sant Gervasi - la Bonanova', 'Sarrià-St. Gervasi'), ('Turismes', 'Sant Gervasi - la Bonanova', 'Sarrià-St. Gervasi'), ('Turismes', 'Sant Gervasi - la Bonanova', 'Sarrià-St. Gervasi'), ('Motos', 'Sant Gervasi - la Bonanova', 'Sarrià-St. Gervasi'), ('Motos', 'Sant Gervasi - la Bonanova', 'Sarrià-St. Gervasi'), ('Motos', 'Sant Gervasi - la Bonanova', 'Sarrià-St. Gervasi'), ('Motos', 'Sant Gervasi - la Bonanova', 'Sarrià-St. Gervasi'), ('Motos', 'Sant Gervasi - la Bonanova', 'Sarrià-St. Gervasi'), ('Ciclomotors', 'Sant Gervasi - la Bonanova', 'Sarrià-St. Gervasi'), ('Ciclomotors', 'Sant Gervasi - la Bonanova', 'Sarrià-St. Gervasi'), ('Ciclomotors', 'Sant Gervasi - la Bonanova', 'Sarrià-St. Gervasi'), ('Ciclomotors', 'Sant Gervasi - la Bonanova', 'Sarrià-St. Gervasi'), ('Ciclomotors', 'Sant Gervasi - la Bonanova', 'Sarrià-St. Gervasi'), ('Furgonetes', 'Sant Gervasi - la Bonanova', 'Sarrià-St. Gervasi'), ('Furgonetes', 'Sant Gervasi - la Bonanova', 'Sarrià-St. Gervasi'), ('Furgonetes', 'Sant Gervasi - la Bonanova', 'Sarrià-St. Gervasi'), ('Furgonetes', 'Sant Gervasi - la Bonanova', 'Sarrià-St. Gervasi'), ('Furgonetes', 'Sant Gervasi - la Bonanova', 'Sarrià-St. Gervasi'), ('Furgonetes', 'Sant Gervasi - la Bonanova', 'Sarrià-St. Gervasi'), ('Camions', 'Sant Gervasi - la Bonanova', 'Sarrià-St. Gervasi'), ('Camions', 'Sant Gervasi - la Bonanova', 'Sarrià-St. Gervasi'), ('Camions', 'Sant Gervasi - la Bonanova', 'Sarrià-St. Gervasi'), ('Camions', 'Sant Gervasi - la Bonanova', 'Sarrià-St. Gervasi'), ('Altres vehicles', 'Sant Gervasi - la Bonanova', 'Sarrià-St. Gervasi'), ('Altres vehicles', 'Sant Gervasi - la Bonanova', 'Sarrià-St. Gervasi'), ('Altres vehicles', 'Sant Gervasi - la Bonanova', 'Sarrià-St. Gervasi'), ('Altres vehicles', 'Sant Gervasi - la Bonanova', 'Sarrià-St. Gervasi'), ('Turismes', 'Sant Gervasi - Galvany', 'Sarrià-St. Gervasi'), ('Turismes', 'Sant Gervasi - Galvany', 'Sarrià-St. Gervasi'), ('Turismes', 'Sant Gervasi - Galvany', 'Sarrià-St. Gervasi'), ('Turismes', 'Sant Gervasi - Galvany', 'Sarrià-St. Gervasi'), ('Turismes', 'Sant Gervasi - Galvany', 'Sarrià-St. Gervasi'), ('Turismes', 'Sant Gervasi - Galvany', 'Sarrià-St. Gervasi'), ('Motos', 'Sant Gervasi - Galvany', 'Sarrià-St. Gervasi'), ('Motos', 'Sant Gervasi - Galvany', 'Sarrià-St. Gervasi'), ('Motos', 'Sant Gervasi - Galvany', 'Sarrià-St. Gervasi'), ('Motos', 'Sant Gervasi - Galvany', 'Sarrià-St. Gervasi'), ('Motos', 'Sant Gervasi - Galvany', 'Sarrià-St. Gervasi'), ('Ciclomotors', 'Sant Gervasi - Galvany', 'Sarrià-St. Gervasi'), ('Ciclomotors', 'Sant Gervasi - Galvany', 'Sarrià-St. Gervasi'), ('Ciclomotors', 'Sant Gervasi - Galvany', 'Sarrià-St. Gervasi'), ('Ciclomotors', 'Sant Gervasi - Galvany', 'Sarrià-St. Gervasi'), ('Ciclomotors', 'Sant Gervasi - Galvany', 'Sarrià-St. Gervasi'), ('Furgonetes', 'Sant Gervasi - Galvany', 'Sarrià-St. Gervasi'), ('Furgonetes', 'Sant Gervasi - Galvany', 'Sarrià-St. Gervasi'), ('Furgonetes', 'Sant Gervasi - Galvany', 'Sarrià-St. Gervasi'), ('Furgonetes', 'Sant Gervasi - Galvany', 'Sarrià-St. Gervasi'), ('Furgonetes', 'Sant Gervasi - Galvany', 'Sarrià-St. Gervasi'), ('Furgonetes', 'Sant Gervasi - Galvany', 'Sarrià-St. Gervasi'), ('Camions', 'Sant Gervasi - Galvany', 'Sarrià-St. Gervasi'), ('Camions', 'Sant Gervasi - Galvany', 'Sarrià-St. Gervasi'), ('Camions', 'Sant Gervasi - Galvany', 'Sarrià-St. Gervasi'), ('Camions', 'Sant Gervasi - Galvany', 'Sarrià-St. Gervasi'), ('Camions', 'Sant Gervasi - Galvany', 'Sarrià-St. Gervasi'), ('Altres vehicles', 'Sant Gervasi - Galvany', 'Sarrià-St. Gervasi'), ('Altres vehicles', 'Sant Gervasi - Galvany', 'Sarrià-St. Gervasi'), ('Altres vehicles', 'Sant Gervasi - Galvany', 'Sarrià-St. Gervasi'), ('Altres vehicles', 'Sant Gervasi - Galvany', 'Sarrià-St. Gervasi'), ('Turismes', 'el Putxet i el Farró', 'Sarrià-St. Gervasi'), ('Turismes', 'el Putxet i el Farró', 'Sarrià-St. Gervasi'), ('Turismes', 'el Putxet i el Farró', 'Sarrià-St. Gervasi'), ('Turismes', 'el Putxet i el Farró', 'Sarrià-St. Gervasi'), ('Turismes', 'el Putxet i el Farró', 'Sarrià-St. Gervasi'), ('Turismes', 'el Putxet i el Farró', 'Sarrià-St. Gervasi'), ('Motos', 'el Putxet i el Farró', 'Sarrià-St. Gervasi'), ('Motos', 'el Putxet i el Farró', 'Sarrià-St. Gervasi'), ('Motos', 'el Putxet i el Farró', 'Sarrià-St. Gervasi'), ('Motos', 'el Putxet i el Farró', 'Sarrià-St. Gervasi'), ('Motos', 'el Putxet i el Farró', 'Sarrià-St. Gervasi'), ('Ciclomotors', 'el Putxet i el Farró', 'Sarrià-St. Gervasi'), ('Ciclomotors', 'el Putxet i el Farró', 'Sarrià-St. Gervasi'), ('Ciclomotors', 'el Putxet i el Farró', 'Sarrià-St. Gervasi'), ('Ciclomotors', 'el Putxet i el Farró', 'Sarrià-St. Gervasi'), ('Ciclomotors', 'el Putxet i el Farró', 'Sarrià-St. Gervasi'), ('Furgonetes', 'el Putxet i el Farró', 'Sarrià-St. Gervasi'), ('Furgonetes', 'el Putxet i el Farró', 'Sarrià-St. Gervasi'), ('Furgonetes', 'el Putxet i el Farró', 'Sarrià-St. Gervasi'), ('Furgonetes', 'el Putxet i el Farró', 'Sarrià-St. Gervasi'), ('Furgonetes', 'el Putxet i el Farró', 'Sarrià-St. Gervasi'), ('Camions', 'el Putxet i el Farró', 'Sarrià-St. Gervasi'), ('Camions', 'el Putxet i el Farró', 'Sarrià-St. Gervasi'), ('Camions', 'el Putxet i el Farró', 'Sarrià-St. Gervasi'), ('Camions', 'el Putxet i el Farró', 'Sarrià-St. Gervasi'), ('Altres vehicles', 'el Putxet i el Farró', 'Sarrià-St. Gervasi'), ('Altres vehicles', 'el Putxet i el Farró', 'Sarrià-St. Gervasi'), ('Altres vehicles', 'el Putxet i el Farró', 'Sarrià-St. Gervasi'), ('Altres vehicles', 'el Putxet i el Farró', 'Sarrià-St. Gervasi'), ('Turismes', 'Vallcarca i els Penitents', 'Gràcia'), ('Turismes', 'Vallcarca i els Penitents', 'Gràcia'), ('Turismes', 'Vallcarca i els Penitents', 'Gràcia'), ('Turismes', 'Vallcarca i els Penitents', 'Gràcia'), ('Turismes', 'Vallcarca i els Penitents', 'Gràcia'), ('Turismes', 'Vallcarca i els Penitents', 'Gràcia'), ('Motos', 'Vallcarca i els Penitents', 'Gràcia'), ('Motos', 'Vallcarca i els Penitents', 'Gràcia'), ('Motos', 'Vallcarca i els Penitents', 'Gràcia'), ('Motos', 'Vallcarca i els Penitents', 'Gràcia'), ('Motos', 'Vallcarca i els Penitents', 'Gràcia'), ('Ciclomotors', 'Vallcarca i els Penitents', 'Gràcia'), ('Ciclomotors', 'Vallcarca i els Penitents', 'Gràcia'), ('Ciclomotors', 'Vallcarca i els Penitents', 'Gràcia'), ('Ciclomotors', 'Vallcarca i els Penitents', 'Gràcia'), ('Ciclomotors', 'Vallcarca i els Penitents', 'Gràcia'), ('Furgonetes', 'Vallcarca i els Penitents', 'Gràcia'), ('Furgonetes', 'Vallcarca i els Penitents', 'Gràcia'), ('Furgonetes', 'Vallcarca i els Penitents', 'Gràcia'), ('Furgonetes', 'Vallcarca i els Penitents', 'Gràcia'), ('Furgonetes', 'Vallcarca i els Penitents', 'Gràcia'), ('Camions', 'Vallcarca i els Penitents', 'Gràcia'), ('Camions', 'Vallcarca i els Penitents', 'Gràcia'), ('Camions', 'Vallcarca i els Penitents', 'Gràcia'), ('Altres vehicles', 'Vallcarca i els Penitents', 'Gràcia'), ('Altres vehicles', 'Vallcarca i els Penitents', 'Gràcia'), ('Altres vehicles', 'Vallcarca i els Penitents', 'Gràcia'), ('Altres vehicles', 'Vallcarca i els Penitents', 'Gràcia'), ('Turismes', 'el Coll', 'Gràcia'), ('Turismes', 'el Coll', 'Gràcia'), ('Turismes', 'el Coll', 'Gràcia'), ('Turismes', 'el Coll', 'Gràcia'), ('Turismes', 'el Coll', 'Gràcia'), ('Turismes', 'el Coll', 'Gràcia'), ('Motos', 'el Coll', 'Gràcia'), ('Motos', 'el Coll', 'Gràcia'), ('Motos', 'el Coll', 'Gràcia'), ('Motos', 'el Coll', 'Gràcia'), ('Motos', 'el Coll', 'Gràcia'), ('Ciclomotors', 'el Coll', 'Gràcia'), ('Ciclomotors', 'el Coll', 'Gràcia'), ('Ciclomotors', 'el Coll', 'Gràcia'), ('Ciclomotors', 'el Coll', 'Gràcia'), ('Ciclomotors', 'el Coll', 'Gràcia'), ('Furgonetes', 'el Coll', 'Gràcia'), ('Furgonetes', 'el Coll', 'Gràcia'), ('Furgonetes', 'el Coll', 'Gràcia'), ('Camions', 'el Coll', 'Gràcia'), ('Camions', 'el Coll', 'Gràcia'), ('Camions', 'el Coll', 'Gràcia'), ('Altres vehicles', 'el Coll', 'Gràcia'), ('Altres vehicles', 'el Coll', 'Gràcia'), ('Altres vehicles', 'el Coll', 'Gràcia'), ('Turismes', 'la Salut', 'Gràcia'), ('Turismes', 'la Salut', 'Gràcia'), ('Turismes', 'la Salut', 'Gràcia'), ('Turismes', 'la Salut', 'Gràcia'), ('Turismes', 'la Salut', 'Gràcia'), ('Turismes', 'la Salut', 'Gràcia'), ('Motos', 'la Salut', 'Gràcia'), ('Motos', 'la Salut', 'Gràcia'), ('Motos', 'la Salut', 'Gràcia'), ('Motos', 'la Salut', 'Gràcia'), ('Motos', 'la Salut', 'Gràcia'), ('Ciclomotors', 'la Salut', 'Gràcia'), ('Ciclomotors', 'la Salut', 'Gràcia'), ('Ciclomotors', 'la Salut', 'Gràcia'), ('Ciclomotors', 'la Salut', 'Gràcia'), ('Ciclomotors', 'la Salut', 'Gràcia'), ('Furgonetes', 'la Salut', 'Gràcia'), ('Furgonetes', 'la Salut', 'Gràcia'), ('Furgonetes', 'la Salut', 'Gràcia'), ('Furgonetes', 'la Salut', 'Gràcia'), ('Furgonetes', 'la Salut', 'Gràcia'), ('Camions', 'la Salut', 'Gràcia'), ('Camions', 'la Salut', 'Gràcia'), ('Camions', 'la Salut', 'Gràcia'), ('Camions', 'la Salut', 'Gràcia'), ('Altres vehicles', 'la Salut', 'Gràcia'), ('Altres vehicles', 'la Salut', 'Gràcia'), ('Altres vehicles', 'la Salut', 'Gràcia'), ('Altres vehicles', 'la Salut', 'Gràcia'), ('Turismes', 'la Vila de Gràcia', 'Gràcia'), ('Turismes', 'la Vila de Gràcia', 'Gràcia'), ('Turismes', 'la Vila de Gràcia', 'Gràcia'), ('Turismes', 'la Vila de Gràcia', 'Gràcia'), ('Turismes', 'la Vila de Gràcia', 'Gràcia'), ('Turismes', 'la Vila de Gràcia', 'Gràcia'), ('Motos', 'la Vila de Gràcia', 'Gràcia'), ('Motos', 'la Vila de Gràcia', 'Gràcia'), ('Motos', 'la Vila de Gràcia', 'Gràcia'), ('Motos', 'la Vila de Gràcia', 'Gràcia'), ('Motos', 'la Vila de Gràcia', 'Gràcia'), ('Ciclomotors', 'la Vila de Gràcia', 'Gràcia'), ('Ciclomotors', 'la Vila de Gràcia', 'Gràcia'), ('Ciclomotors', 'la Vila de Gràcia', 'Gràcia'), ('Ciclomotors', 'la Vila de Gràcia', 'Gràcia'), ('Ciclomotors', 'la Vila de Gràcia', 'Gràcia'), ('Furgonetes', 'la Vila de Gràcia', 'Gràcia'), ('Furgonetes', 'la Vila de Gràcia', 'Gràcia'), ('Furgonetes', 'la Vila de Gràcia', 'Gràcia'), ('Furgonetes', 'la Vila de Gràcia', 'Gràcia'), ('Furgonetes', 'la Vila de Gràcia', 'Gràcia'), ('Furgonetes', 'la Vila de Gràcia', 'Gràcia'), ('Camions', 'la Vila de Gràcia', 'Gràcia'), ('Camions', 'la Vila de Gràcia', 'Gràcia'), ('Camions', 'la Vila de Gràcia', 'Gràcia'), ('Camions', 'la Vila de Gràcia', 'Gràcia'), ('Camions', 'la Vila de Gràcia', 'Gràcia'), ('Camions', 'la Vila de Gràcia', 'Gràcia'), ('Altres vehicles', 'la Vila de Gràcia', 'Gràcia'), ('Altres vehicles', 'la Vila de Gràcia', 'Gràcia'), ('Altres vehicles', 'la Vila de Gràcia', 'Gràcia'), ('Altres vehicles', 'la Vila de Gràcia', 'Gràcia'), ('Turismes', \"el Camp d'en Grassot i Gràcia Nova\", 'Gràcia'), ('Turismes', \"el Camp d'en Grassot i Gràcia Nova\", 'Gràcia'), ('Turismes', \"el Camp d'en Grassot i Gràcia Nova\", 'Gràcia'), ('Turismes', \"el Camp d'en Grassot i Gràcia Nova\", 'Gràcia'), ('Turismes', \"el Camp d'en Grassot i Gràcia Nova\", 'Gràcia'), ('Turismes', \"el Camp d'en Grassot i Gràcia Nova\", 'Gràcia'), ('Motos', \"el Camp d'en Grassot i Gràcia Nova\", 'Gràcia'), ('Motos', \"el Camp d'en Grassot i Gràcia Nova\", 'Gràcia'), ('Motos', \"el Camp d'en Grassot i Gràcia Nova\", 'Gràcia'), ('Motos', \"el Camp d'en Grassot i Gràcia Nova\", 'Gràcia'), ('Motos', \"el Camp d'en Grassot i Gràcia Nova\", 'Gràcia'), ('Ciclomotors', \"el Camp d'en Grassot i Gràcia Nova\", 'Gràcia'), ('Ciclomotors', \"el Camp d'en Grassot i Gràcia Nova\", 'Gràcia'), ('Ciclomotors', \"el Camp d'en Grassot i Gràcia Nova\", 'Gràcia'), ('Ciclomotors', \"el Camp d'en Grassot i Gràcia Nova\", 'Gràcia'), ('Ciclomotors', \"el Camp d'en Grassot i Gràcia Nova\", 'Gràcia'), ('Furgonetes', \"el Camp d'en Grassot i Gràcia Nova\", 'Gràcia'), ('Furgonetes', \"el Camp d'en Grassot i Gràcia Nova\", 'Gràcia'), ('Furgonetes', \"el Camp d'en Grassot i Gràcia Nova\", 'Gràcia'), ('Furgonetes', \"el Camp d'en Grassot i Gràcia Nova\", 'Gràcia'), ('Furgonetes', \"el Camp d'en Grassot i Gràcia Nova\", 'Gràcia'), ('Camions', \"el Camp d'en Grassot i Gràcia Nova\", 'Gràcia'), ('Camions', \"el Camp d'en Grassot i Gràcia Nova\", 'Gràcia'), ('Camions', \"el Camp d'en Grassot i Gràcia Nova\", 'Gràcia'), ('Camions', \"el Camp d'en Grassot i Gràcia Nova\", 'Gràcia'), ('Altres vehicles', \"el Camp d'en Grassot i Gràcia Nova\", 'Gràcia'), ('Altres vehicles', \"el Camp d'en Grassot i Gràcia Nova\", 'Gràcia'), ('Altres vehicles', \"el Camp d'en Grassot i Gràcia Nova\", 'Gràcia'), ('Altres vehicles', \"el Camp d'en Grassot i Gràcia Nova\", 'Gràcia'), ('Turismes', 'el Baix Guinardó', 'Horta-Guinardó'), ('Turismes', 'el Baix Guinardó', 'Horta-Guinardó'), ('Turismes', 'el Baix Guinardó', 'Horta-Guinardó'), ('Turismes', 'el Baix Guinardó', 'Horta-Guinardó'), ('Turismes', 'el Baix Guinardó', 'Horta-Guinardó'), ('Turismes', 'el Baix Guinardó', 'Horta-Guinardó'), ('Motos', 'el Baix Guinardó', 'Horta-Guinardó'), ('Motos', 'el Baix Guinardó', 'Horta-Guinardó'), ('Motos', 'el Baix Guinardó', 'Horta-Guinardó'), ('Motos', 'el Baix Guinardó', 'Horta-Guinardó'), ('Motos', 'el Baix Guinardó', 'Horta-Guinardó'), ('Ciclomotors', 'el Baix Guinardó', 'Horta-Guinardó'), ('Ciclomotors', 'el Baix Guinardó', 'Horta-Guinardó'), ('Ciclomotors', 'el Baix Guinardó', 'Horta-Guinardó'), ('Ciclomotors', 'el Baix Guinardó', 'Horta-Guinardó'), ('Ciclomotors', 'el Baix Guinardó', 'Horta-Guinardó'), ('Furgonetes', 'el Baix Guinardó', 'Horta-Guinardó'), ('Furgonetes', 'el Baix Guinardó', 'Horta-Guinardó'), ('Furgonetes', 'el Baix Guinardó', 'Horta-Guinardó'), ('Furgonetes', 'el Baix Guinardó', 'Horta-Guinardó'), ('Furgonetes', 'el Baix Guinardó', 'Horta-Guinardó'), ('Furgonetes', 'el Baix Guinardó', 'Horta-Guinardó'), ('Camions', 'el Baix Guinardó', 'Horta-Guinardó'), ('Camions', 'el Baix Guinardó', 'Horta-Guinardó'), ('Camions', 'el Baix Guinardó', 'Horta-Guinardó'), ('Camions', 'el Baix Guinardó', 'Horta-Guinardó'), ('Altres vehicles', 'el Baix Guinardó', 'Horta-Guinardó'), ('Altres vehicles', 'el Baix Guinardó', 'Horta-Guinardó'), ('Altres vehicles', 'el Baix Guinardó', 'Horta-Guinardó'), ('Altres vehicles', 'el Baix Guinardó', 'Horta-Guinardó'), ('Turismes', 'Can Baró', 'Horta-Guinardó'), ('Turismes', 'Can Baró', 'Horta-Guinardó'), ('Turismes', 'Can Baró', 'Horta-Guinardó'), ('Turismes', 'Can Baró', 'Horta-Guinardó'), ('Turismes', 'Can Baró', 'Horta-Guinardó'), ('Turismes', 'Can Baró', 'Horta-Guinardó'), ('Motos', 'Can Baró', 'Horta-Guinardó'), ('Motos', 'Can Baró', 'Horta-Guinardó'), ('Motos', 'Can Baró', 'Horta-Guinardó'), ('Motos', 'Can Baró', 'Horta-Guinardó'), ('Motos', 'Can Baró', 'Horta-Guinardó'), ('Ciclomotors', 'Can Baró', 'Horta-Guinardó'), ('Ciclomotors', 'Can Baró', 'Horta-Guinardó'), ('Ciclomotors', 'Can Baró', 'Horta-Guinardó'), ('Ciclomotors', 'Can Baró', 'Horta-Guinardó'), ('Furgonetes', 'Can Baró', 'Horta-Guinardó'), ('Furgonetes', 'Can Baró', 'Horta-Guinardó'), ('Furgonetes', 'Can Baró', 'Horta-Guinardó'), ('Furgonetes', 'Can Baró', 'Horta-Guinardó'), ('Furgonetes', 'Can Baró', 'Horta-Guinardó'), ('Furgonetes', 'Can Baró', 'Horta-Guinardó'), ('Camions', 'Can Baró', 'Horta-Guinardó'), ('Camions', 'Can Baró', 'Horta-Guinardó'), ('Camions', 'Can Baró', 'Horta-Guinardó'), ('Altres vehicles', 'Can Baró', 'Horta-Guinardó'), ('Altres vehicles', 'Can Baró', 'Horta-Guinardó'), ('Altres vehicles', 'Can Baró', 'Horta-Guinardó'), ('Altres vehicles', 'Can Baró', 'Horta-Guinardó'), ('Turismes', 'el Guinardó', 'Horta-Guinardó'), ('Turismes', 'el Guinardó', 'Horta-Guinardó'), ('Turismes', 'el Guinardó', 'Horta-Guinardó'), ('Turismes', 'el Guinardó', 'Horta-Guinardó'), ('Turismes', 'el Guinardó', 'Horta-Guinardó'), ('Turismes', 'el Guinardó', 'Horta-Guinardó'), ('Motos', 'el Guinardó', 'Horta-Guinardó'), ('Motos', 'el Guinardó', 'Horta-Guinardó'), ('Motos', 'el Guinardó', 'Horta-Guinardó'), ('Motos', 'el Guinardó', 'Horta-Guinardó'), ('Motos', 'el Guinardó', 'Horta-Guinardó'), ('Ciclomotors', 'el Guinardó', 'Horta-Guinardó'), ('Ciclomotors', 'el Guinardó', 'Horta-Guinardó'), ('Ciclomotors', 'el Guinardó', 'Horta-Guinardó'), ('Ciclomotors', 'el Guinardó', 'Horta-Guinardó'), ('Ciclomotors', 'el Guinardó', 'Horta-Guinardó'), ('Furgonetes', 'el Guinardó', 'Horta-Guinardó'), ('Furgonetes', 'el Guinardó', 'Horta-Guinardó'), ('Furgonetes', 'el Guinardó', 'Horta-Guinardó'), ('Furgonetes', 'el Guinardó', 'Horta-Guinardó'), ('Furgonetes', 'el Guinardó', 'Horta-Guinardó'), ('Furgonetes', 'el Guinardó', 'Horta-Guinardó'), ('Camions', 'el Guinardó', 'Horta-Guinardó'), ('Camions', 'el Guinardó', 'Horta-Guinardó'), ('Camions', 'el Guinardó', 'Horta-Guinardó'), ('Camions', 'el Guinardó', 'Horta-Guinardó'), ('Camions', 'el Guinardó', 'Horta-Guinardó'), ('Camions', 'el Guinardó', 'Horta-Guinardó'), ('Altres vehicles', 'el Guinardó', 'Horta-Guinardó'), ('Altres vehicles', 'el Guinardó', 'Horta-Guinardó'), ('Altres vehicles', 'el Guinardó', 'Horta-Guinardó'), ('Altres vehicles', 'el Guinardó', 'Horta-Guinardó'), ('Turismes', \"la Font d'en Fargues\", 'Horta-Guinardó'), ('Turismes', \"la Font d'en Fargues\", 'Horta-Guinardó'), ('Turismes', \"la Font d'en Fargues\", 'Horta-Guinardó'), ('Turismes', \"la Font d'en Fargues\", 'Horta-Guinardó'), ('Turismes', \"la Font d'en Fargues\", 'Horta-Guinardó'), ('Turismes', \"la Font d'en Fargues\", 'Horta-Guinardó'), ('Motos', \"la Font d'en Fargues\", 'Horta-Guinardó'), ('Motos', \"la Font d'en Fargues\", 'Horta-Guinardó'), ('Motos', \"la Font d'en Fargues\", 'Horta-Guinardó'), ('Motos', \"la Font d'en Fargues\", 'Horta-Guinardó'), ('Motos', \"la Font d'en Fargues\", 'Horta-Guinardó'), ('Ciclomotors', \"la Font d'en Fargues\", 'Horta-Guinardó'), ('Ciclomotors', \"la Font d'en Fargues\", 'Horta-Guinardó'), ('Ciclomotors', \"la Font d'en Fargues\", 'Horta-Guinardó'), ('Ciclomotors', \"la Font d'en Fargues\", 'Horta-Guinardó'), ('Furgonetes', \"la Font d'en Fargues\", 'Horta-Guinardó'), ('Furgonetes', \"la Font d'en Fargues\", 'Horta-Guinardó'), ('Furgonetes', \"la Font d'en Fargues\", 'Horta-Guinardó'), ('Camions', \"la Font d'en Fargues\", 'Horta-Guinardó'), ('Camions', \"la Font d'en Fargues\", 'Horta-Guinardó'), ('Camions', \"la Font d'en Fargues\", 'Horta-Guinardó'), ('Camions', \"la Font d'en Fargues\", 'Horta-Guinardó'), ('Camions', \"la Font d'en Fargues\", 'Horta-Guinardó'), ('Altres vehicles', \"la Font d'en Fargues\", 'Horta-Guinardó'), ('Altres vehicles', \"la Font d'en Fargues\", 'Horta-Guinardó'), ('Altres vehicles', \"la Font d'en Fargues\", 'Horta-Guinardó'), ('Altres vehicles', \"la Font d'en Fargues\", 'Horta-Guinardó'), ('Turismes', 'el Carmel', 'Horta-Guinardó'), ('Turismes', 'el Carmel', 'Horta-Guinardó'), ('Turismes', 'el Carmel', 'Horta-Guinardó'), ('Turismes', 'el Carmel', 'Horta-Guinardó'), ('Turismes', 'el Carmel', 'Horta-Guinardó'), ('Turismes', 'el Carmel', 'Horta-Guinardó'), ('Motos', 'el Carmel', 'Horta-Guinardó'), ('Motos', 'el Carmel', 'Horta-Guinardó'), ('Motos', 'el Carmel', 'Horta-Guinardó'), ('Motos', 'el Carmel', 'Horta-Guinardó'), ('Motos', 'el Carmel', 'Horta-Guinardó'), ('Ciclomotors', 'el Carmel', 'Horta-Guinardó'), ('Ciclomotors', 'el Carmel', 'Horta-Guinardó'), ('Ciclomotors', 'el Carmel', 'Horta-Guinardó'), ('Ciclomotors', 'el Carmel', 'Horta-Guinardó'), ('Ciclomotors', 'el Carmel', 'Horta-Guinardó'), ('Furgonetes', 'el Carmel', 'Horta-Guinardó'), ('Furgonetes', 'el Carmel', 'Horta-Guinardó'), ('Furgonetes', 'el Carmel', 'Horta-Guinardó'), ('Furgonetes', 'el Carmel', 'Horta-Guinardó'), ('Furgonetes', 'el Carmel', 'Horta-Guinardó'), ('Furgonetes', 'el Carmel', 'Horta-Guinardó'), ('Camions', 'el Carmel', 'Horta-Guinardó'), ('Camions', 'el Carmel', 'Horta-Guinardó'), ('Camions', 'el Carmel', 'Horta-Guinardó'), ('Camions', 'el Carmel', 'Horta-Guinardó'), ('Camions', 'el Carmel', 'Horta-Guinardó'), ('Altres vehicles', 'el Carmel', 'Horta-Guinardó'), ('Altres vehicles', 'el Carmel', 'Horta-Guinardó'), ('Altres vehicles', 'el Carmel', 'Horta-Guinardó'), ('Altres vehicles', 'el Carmel', 'Horta-Guinardó'), ('Turismes', 'la Teixonera', 'Horta-Guinardó'), ('Turismes', 'la Teixonera', 'Horta-Guinardó'), ('Turismes', 'la Teixonera', 'Horta-Guinardó'), ('Turismes', 'la Teixonera', 'Horta-Guinardó'), ('Turismes', 'la Teixonera', 'Horta-Guinardó'), ('Turismes', 'la Teixonera', 'Horta-Guinardó'), ('Motos', 'la Teixonera', 'Horta-Guinardó'), ('Motos', 'la Teixonera', 'Horta-Guinardó'), ('Motos', 'la Teixonera', 'Horta-Guinardó'), ('Motos', 'la Teixonera', 'Horta-Guinardó'), ('Motos', 'la Teixonera', 'Horta-Guinardó'), ('Ciclomotors', 'la Teixonera', 'Horta-Guinardó'), ('Ciclomotors', 'la Teixonera', 'Horta-Guinardó'), ('Ciclomotors', 'la Teixonera', 'Horta-Guinardó'), ('Ciclomotors', 'la Teixonera', 'Horta-Guinardó'), ('Furgonetes', 'la Teixonera', 'Horta-Guinardó'), ('Furgonetes', 'la Teixonera', 'Horta-Guinardó'), ('Furgonetes', 'la Teixonera', 'Horta-Guinardó'), ('Furgonetes', 'la Teixonera', 'Horta-Guinardó'), ('Furgonetes', 'la Teixonera', 'Horta-Guinardó'), ('Camions', 'la Teixonera', 'Horta-Guinardó'), ('Camions', 'la Teixonera', 'Horta-Guinardó'), ('Camions', 'la Teixonera', 'Horta-Guinardó'), ('Camions', 'la Teixonera', 'Horta-Guinardó'), ('Altres vehicles', 'la Teixonera', 'Horta-Guinardó'), ('Altres vehicles', 'la Teixonera', 'Horta-Guinardó'), ('Altres vehicles', 'la Teixonera', 'Horta-Guinardó'), ('Turismes', 'Sant Genís dels Agudells', 'Horta-Guinardó'), ('Turismes', 'Sant Genís dels Agudells', 'Horta-Guinardó'), ('Turismes', 'Sant Genís dels Agudells', 'Horta-Guinardó'), ('Turismes', 'Sant Genís dels Agudells', 'Horta-Guinardó'), ('Turismes', 'Sant Genís dels Agudells', 'Horta-Guinardó'), ('Turismes', 'Sant Genís dels Agudells', 'Horta-Guinardó'), ('Motos', 'Sant Genís dels Agudells', 'Horta-Guinardó'), ('Motos', 'Sant Genís dels Agudells', 'Horta-Guinardó'), ('Motos', 'Sant Genís dels Agudells', 'Horta-Guinardó'), ('Motos', 'Sant Genís dels Agudells', 'Horta-Guinardó'), ('Motos', 'Sant Genís dels Agudells', 'Horta-Guinardó'), ('Ciclomotors', 'Sant Genís dels Agudells', 'Horta-Guinardó'), ('Ciclomotors', 'Sant Genís dels Agudells', 'Horta-Guinardó'), ('Ciclomotors', 'Sant Genís dels Agudells', 'Horta-Guinardó'), ('Furgonetes', 'Sant Genís dels Agudells', 'Horta-Guinardó'), ('Furgonetes', 'Sant Genís dels Agudells', 'Horta-Guinardó'), ('Furgonetes', 'Sant Genís dels Agudells', 'Horta-Guinardó'), ('Furgonetes', 'Sant Genís dels Agudells', 'Horta-Guinardó'), ('Furgonetes', 'Sant Genís dels Agudells', 'Horta-Guinardó'), ('Camions', 'Sant Genís dels Agudells', 'Horta-Guinardó'), ('Camions', 'Sant Genís dels Agudells', 'Horta-Guinardó'), ('Camions', 'Sant Genís dels Agudells', 'Horta-Guinardó'), ('Altres vehicles', 'Sant Genís dels Agudells', 'Horta-Guinardó'), ('Altres vehicles', 'Sant Genís dels Agudells', 'Horta-Guinardó'), ('Altres vehicles', 'Sant Genís dels Agudells', 'Horta-Guinardó'), ('Turismes', 'Montbau', 'Horta-Guinardó'), ('Turismes', 'Montbau', 'Horta-Guinardó'), ('Turismes', 'Montbau', 'Horta-Guinardó'), ('Turismes', 'Montbau', 'Horta-Guinardó'), ('Turismes', 'Montbau', 'Horta-Guinardó'), ('Motos', 'Montbau', 'Horta-Guinardó'), ('Motos', 'Montbau', 'Horta-Guinardó'), ('Motos', 'Montbau', 'Horta-Guinardó'), ('Motos', 'Montbau', 'Horta-Guinardó'), ('Motos', 'Montbau', 'Horta-Guinardó'), ('Ciclomotors', 'Montbau', 'Horta-Guinardó'), ('Ciclomotors', 'Montbau', 'Horta-Guinardó'), ('Ciclomotors', 'Montbau', 'Horta-Guinardó'), ('Furgonetes', 'Montbau', 'Horta-Guinardó'), ('Furgonetes', 'Montbau', 'Horta-Guinardó'), ('Furgonetes', 'Montbau', 'Horta-Guinardó'), ('Furgonetes', 'Montbau', 'Horta-Guinardó'), ('Camions', 'Montbau', 'Horta-Guinardó'), ('Camions', 'Montbau', 'Horta-Guinardó'), ('Camions', 'Montbau', 'Horta-Guinardó'), ('Altres vehicles', 'Montbau', 'Horta-Guinardó'), ('Altres vehicles', 'Montbau', 'Horta-Guinardó'), ('Altres vehicles', 'Montbau', 'Horta-Guinardó'), ('Altres vehicles', 'Montbau', 'Horta-Guinardó'), ('Turismes', \"la Vall d'Hebron\", 'Horta-Guinardó'), ('Turismes', \"la Vall d'Hebron\", 'Horta-Guinardó'), ('Turismes', \"la Vall d'Hebron\", 'Horta-Guinardó'), ('Turismes', \"la Vall d'Hebron\", 'Horta-Guinardó'), ('Turismes', \"la Vall d'Hebron\", 'Horta-Guinardó'), ('Turismes', \"la Vall d'Hebron\", 'Horta-Guinardó'), ('Motos', \"la Vall d'Hebron\", 'Horta-Guinardó'), ('Motos', \"la Vall d'Hebron\", 'Horta-Guinardó'), ('Motos', \"la Vall d'Hebron\", 'Horta-Guinardó'), ('Motos', \"la Vall d'Hebron\", 'Horta-Guinardó'), ('Ciclomotors', \"la Vall d'Hebron\", 'Horta-Guinardó'), ('Ciclomotors', \"la Vall d'Hebron\", 'Horta-Guinardó'), ('Ciclomotors', \"la Vall d'Hebron\", 'Horta-Guinardó'), ('Ciclomotors', \"la Vall d'Hebron\", 'Horta-Guinardó'), ('Furgonetes', \"la Vall d'Hebron\", 'Horta-Guinardó'), ('Furgonetes', \"la Vall d'Hebron\", 'Horta-Guinardó'), ('Furgonetes', \"la Vall d'Hebron\", 'Horta-Guinardó'), ('Furgonetes', \"la Vall d'Hebron\", 'Horta-Guinardó'), ('Camions', \"la Vall d'Hebron\", 'Horta-Guinardó'), ('Camions', \"la Vall d'Hebron\", 'Horta-Guinardó'), ('Camions', \"la Vall d'Hebron\", 'Horta-Guinardó'), ('Altres vehicles', \"la Vall d'Hebron\", 'Horta-Guinardó'), ('Altres vehicles', \"la Vall d'Hebron\", 'Horta-Guinardó'), ('Altres vehicles', \"la Vall d'Hebron\", 'Horta-Guinardó'), ('Altres vehicles', \"la Vall d'Hebron\", 'Horta-Guinardó'), ('Turismes', 'la Clota', 'Horta-Guinardó'), ('Turismes', 'la Clota', 'Horta-Guinardó'), ('Turismes', 'la Clota', 'Horta-Guinardó'), ('Turismes', 'la Clota', 'Horta-Guinardó'), ('Motos', 'la Clota', 'Horta-Guinardó'), ('Motos', 'la Clota', 'Horta-Guinardó'), ('Motos', 'la Clota', 'Horta-Guinardó'), ('Motos', 'la Clota', 'Horta-Guinardó'), ('Ciclomotors', 'la Clota', 'Horta-Guinardó'), ('Ciclomotors', 'la Clota', 'Horta-Guinardó'), ('Furgonetes', 'la Clota', 'Horta-Guinardó'), ('Furgonetes', 'la Clota', 'Horta-Guinardó'), ('Furgonetes', 'la Clota', 'Horta-Guinardó'), ('Furgonetes', 'la Clota', 'Horta-Guinardó'), ('Camions', 'la Clota', 'Horta-Guinardó'), ('Camions', 'la Clota', 'Horta-Guinardó'), ('Altres vehicles', 'la Clota', 'Horta-Guinardó'), ('Turismes', 'Horta', 'Horta-Guinardó'), ('Turismes', 'Horta', 'Horta-Guinardó'), ('Turismes', 'Horta', 'Horta-Guinardó'), ('Turismes', 'Horta', 'Horta-Guinardó'), ('Turismes', 'Horta', 'Horta-Guinardó'), ('Turismes', 'Horta', 'Horta-Guinardó'), ('Motos', 'Horta', 'Horta-Guinardó'), ('Motos', 'Horta', 'Horta-Guinardó'), ('Motos', 'Horta', 'Horta-Guinardó'), ('Motos', 'Horta', 'Horta-Guinardó'), ('Motos', 'Horta', 'Horta-Guinardó'), ('Ciclomotors', 'Horta', 'Horta-Guinardó'), ('Ciclomotors', 'Horta', 'Horta-Guinardó'), ('Ciclomotors', 'Horta', 'Horta-Guinardó'), ('Ciclomotors', 'Horta', 'Horta-Guinardó'), ('Furgonetes', 'Horta', 'Horta-Guinardó'), ('Furgonetes', 'Horta', 'Horta-Guinardó'), ('Furgonetes', 'Horta', 'Horta-Guinardó'), ('Furgonetes', 'Horta', 'Horta-Guinardó'), ('Furgonetes', 'Horta', 'Horta-Guinardó'), ('Camions', 'Horta', 'Horta-Guinardó'), ('Camions', 'Horta', 'Horta-Guinardó'), ('Camions', 'Horta', 'Horta-Guinardó'), ('Camions', 'Horta', 'Horta-Guinardó'), ('Altres vehicles', 'Horta', 'Horta-Guinardó'), ('Altres vehicles', 'Horta', 'Horta-Guinardó'), ('Altres vehicles', 'Horta', 'Horta-Guinardó'), ('Altres vehicles', 'Horta', 'Horta-Guinardó'), ('Turismes', 'Vilapicina i la Torre Llobeta', 'Nou Barris'), ('Turismes', 'Vilapicina i la Torre Llobeta', 'Nou Barris'), ('Turismes', 'Vilapicina i la Torre Llobeta', 'Nou Barris'), ('Turismes', 'Vilapicina i la Torre Llobeta', 'Nou Barris'), ('Turismes', 'Vilapicina i la Torre Llobeta', 'Nou Barris'), ('Turismes', 'Vilapicina i la Torre Llobeta', 'Nou Barris'), ('Motos', 'Vilapicina i la Torre Llobeta', 'Nou Barris'), ('Motos', 'Vilapicina i la Torre Llobeta', 'Nou Barris'), ('Motos', 'Vilapicina i la Torre Llobeta', 'Nou Barris'), ('Motos', 'Vilapicina i la Torre Llobeta', 'Nou Barris'), ('Motos', 'Vilapicina i la Torre Llobeta', 'Nou Barris'), ('Ciclomotors', 'Vilapicina i la Torre Llobeta', 'Nou Barris'), ('Ciclomotors', 'Vilapicina i la Torre Llobeta', 'Nou Barris'), ('Ciclomotors', 'Vilapicina i la Torre Llobeta', 'Nou Barris'), ('Ciclomotors', 'Vilapicina i la Torre Llobeta', 'Nou Barris'), ('Ciclomotors', 'Vilapicina i la Torre Llobeta', 'Nou Barris'), ('Furgonetes', 'Vilapicina i la Torre Llobeta', 'Nou Barris'), ('Furgonetes', 'Vilapicina i la Torre Llobeta', 'Nou Barris'), ('Furgonetes', 'Vilapicina i la Torre Llobeta', 'Nou Barris'), ('Furgonetes', 'Vilapicina i la Torre Llobeta', 'Nou Barris'), ('Furgonetes', 'Vilapicina i la Torre Llobeta', 'Nou Barris'), ('Camions', 'Vilapicina i la Torre Llobeta', 'Nou Barris'), ('Camions', 'Vilapicina i la Torre Llobeta', 'Nou Barris'), ('Camions', 'Vilapicina i la Torre Llobeta', 'Nou Barris'), ('Camions', 'Vilapicina i la Torre Llobeta', 'Nou Barris'), ('Altres vehicles', 'Vilapicina i la Torre Llobeta', 'Nou Barris'), ('Altres vehicles', 'Vilapicina i la Torre Llobeta', 'Nou Barris'), ('Altres vehicles', 'Vilapicina i la Torre Llobeta', 'Nou Barris'), ('Altres vehicles', 'Vilapicina i la Torre Llobeta', 'Nou Barris'), ('Turismes', 'Porta', 'Nou Barris'), ('Turismes', 'Porta', 'Nou Barris'), ('Turismes', 'Porta', 'Nou Barris'), ('Turismes', 'Porta', 'Nou Barris'), ('Turismes', 'Porta', 'Nou Barris'), ('Turismes', 'Porta', 'Nou Barris'), ('Motos', 'Porta', 'Nou Barris'), ('Motos', 'Porta', 'Nou Barris'), ('Motos', 'Porta', 'Nou Barris'), ('Motos', 'Porta', 'Nou Barris'), ('Ciclomotors', 'Porta', 'Nou Barris'), ('Ciclomotors', 'Porta', 'Nou Barris'), ('Ciclomotors', 'Porta', 'Nou Barris'), ('Ciclomotors', 'Porta', 'Nou Barris'), ('Furgonetes', 'Porta', 'Nou Barris'), ('Furgonetes', 'Porta', 'Nou Barris'), ('Furgonetes', 'Porta', 'Nou Barris'), ('Furgonetes', 'Porta', 'Nou Barris'), ('Furgonetes', 'Porta', 'Nou Barris'), ('Camions', 'Porta', 'Nou Barris'), ('Camions', 'Porta', 'Nou Barris'), ('Camions', 'Porta', 'Nou Barris'), ('Camions', 'Porta', 'Nou Barris'), ('Camions', 'Porta', 'Nou Barris'), ('Altres vehicles', 'Porta', 'Nou Barris'), ('Altres vehicles', 'Porta', 'Nou Barris'), ('Altres vehicles', 'Porta', 'Nou Barris'), ('Altres vehicles', 'Porta', 'Nou Barris'), ('Turismes', 'el Turó de la Peira', 'Nou Barris'), ('Turismes', 'el Turó de la Peira', 'Nou Barris'), ('Turismes', 'el Turó de la Peira', 'Nou Barris'), ('Turismes', 'el Turó de la Peira', 'Nou Barris'), ('Turismes', 'el Turó de la Peira', 'Nou Barris'), ('Turismes', 'el Turó de la Peira', 'Nou Barris'), ('Motos', 'el Turó de la Peira', 'Nou Barris'), ('Motos', 'el Turó de la Peira', 'Nou Barris'), ('Motos', 'el Turó de la Peira', 'Nou Barris'), ('Motos', 'el Turó de la Peira', 'Nou Barris'), ('Motos', 'el Turó de la Peira', 'Nou Barris'), ('Ciclomotors', 'el Turó de la Peira', 'Nou Barris'), ('Ciclomotors', 'el Turó de la Peira', 'Nou Barris'), ('Ciclomotors', 'el Turó de la Peira', 'Nou Barris'), ('Ciclomotors', 'el Turó de la Peira', 'Nou Barris'), ('Furgonetes', 'el Turó de la Peira', 'Nou Barris'), ('Furgonetes', 'el Turó de la Peira', 'Nou Barris'), ('Furgonetes', 'el Turó de la Peira', 'Nou Barris'), ('Furgonetes', 'el Turó de la Peira', 'Nou Barris'), ('Camions', 'el Turó de la Peira', 'Nou Barris'), ('Camions', 'el Turó de la Peira', 'Nou Barris'), ('Camions', 'el Turó de la Peira', 'Nou Barris'), ('Altres vehicles', 'el Turó de la Peira', 'Nou Barris'), ('Altres vehicles', 'el Turó de la Peira', 'Nou Barris'), ('Altres vehicles', 'el Turó de la Peira', 'Nou Barris'), ('Turismes', 'Can Peguera', 'Nou Barris'), ('Turismes', 'Can Peguera', 'Nou Barris'), ('Turismes', 'Can Peguera', 'Nou Barris'), ('Turismes', 'Can Peguera', 'Nou Barris'), ('Turismes', 'Can Peguera', 'Nou Barris'), ('Turismes', 'Can Peguera', 'Nou Barris'), ('Motos', 'Can Peguera', 'Nou Barris'), ('Motos', 'Can Peguera', 'Nou Barris'), ('Motos', 'Can Peguera', 'Nou Barris'), ('Ciclomotors', 'Can Peguera', 'Nou Barris'), ('Ciclomotors', 'Can Peguera', 'Nou Barris'), ('Ciclomotors', 'Can Peguera', 'Nou Barris'), ('Ciclomotors', 'Can Peguera', 'Nou Barris'), ('Furgonetes', 'Can Peguera', 'Nou Barris'), ('Furgonetes', 'Can Peguera', 'Nou Barris'), ('Furgonetes', 'Can Peguera', 'Nou Barris'), ('Camions', 'Can Peguera', 'Nou Barris'), ('Camions', 'Can Peguera', 'Nou Barris'), ('Camions', 'Can Peguera', 'Nou Barris'), ('Altres vehicles', 'Can Peguera', 'Nou Barris'), ('Altres vehicles', 'Can Peguera', 'Nou Barris'), ('Altres vehicles', 'Can Peguera', 'Nou Barris'), ('Turismes', 'la Guineueta', 'Nou Barris'), ('Turismes', 'la Guineueta', 'Nou Barris'), ('Turismes', 'la Guineueta', 'Nou Barris'), ('Turismes', 'la Guineueta', 'Nou Barris'), ('Turismes', 'la Guineueta', 'Nou Barris'), ('Turismes', 'la Guineueta', 'Nou Barris'), ('Motos', 'la Guineueta', 'Nou Barris'), ('Motos', 'la Guineueta', 'Nou Barris'), ('Motos', 'la Guineueta', 'Nou Barris'), ('Motos', 'la Guineueta', 'Nou Barris'), ('Motos', 'la Guineueta', 'Nou Barris'), ('Ciclomotors', 'la Guineueta', 'Nou Barris'), ('Ciclomotors', 'la Guineueta', 'Nou Barris'), ('Ciclomotors', 'la Guineueta', 'Nou Barris'), ('Furgonetes', 'la Guineueta', 'Nou Barris'), ('Furgonetes', 'la Guineueta', 'Nou Barris'), ('Furgonetes', 'la Guineueta', 'Nou Barris'), ('Furgonetes', 'la Guineueta', 'Nou Barris'), ('Furgonetes', 'la Guineueta', 'Nou Barris'), ('Camions', 'la Guineueta', 'Nou Barris'), ('Camions', 'la Guineueta', 'Nou Barris'), ('Camions', 'la Guineueta', 'Nou Barris'), ('Camions', 'la Guineueta', 'Nou Barris'), ('Altres vehicles', 'la Guineueta', 'Nou Barris'), ('Altres vehicles', 'la Guineueta', 'Nou Barris'), ('Altres vehicles', 'la Guineueta', 'Nou Barris'), ('Turismes', 'Canyelles', 'Nou Barris'), ('Turismes', 'Canyelles', 'Nou Barris'), ('Turismes', 'Canyelles', 'Nou Barris'), ('Turismes', 'Canyelles', 'Nou Barris'), ('Turismes', 'Canyelles', 'Nou Barris'), ('Turismes', 'Canyelles', 'Nou Barris'), ('Motos', 'Canyelles', 'Nou Barris'), ('Motos', 'Canyelles', 'Nou Barris'), ('Motos', 'Canyelles', 'Nou Barris'), ('Motos', 'Canyelles', 'Nou Barris'), ('Ciclomotors', 'Canyelles', 'Nou Barris'), ('Ciclomotors', 'Canyelles', 'Nou Barris'), ('Ciclomotors', 'Canyelles', 'Nou Barris'), ('Ciclomotors', 'Canyelles', 'Nou Barris'), ('Furgonetes', 'Canyelles', 'Nou Barris'), ('Furgonetes', 'Canyelles', 'Nou Barris'), ('Furgonetes', 'Canyelles', 'Nou Barris'), ('Furgonetes', 'Canyelles', 'Nou Barris'), ('Camions', 'Canyelles', 'Nou Barris'), ('Camions', 'Canyelles', 'Nou Barris'), ('Camions', 'Canyelles', 'Nou Barris'), ('Altres vehicles', 'Canyelles', 'Nou Barris'), ('Altres vehicles', 'Canyelles', 'Nou Barris'), ('Altres vehicles', 'Canyelles', 'Nou Barris'), ('Altres vehicles', 'Canyelles', 'Nou Barris'), ('Turismes', 'les Roquetes', 'Nou Barris'), ('Turismes', 'les Roquetes', 'Nou Barris'), ('Turismes', 'les Roquetes', 'Nou Barris'), ('Turismes', 'les Roquetes', 'Nou Barris'), ('Turismes', 'les Roquetes', 'Nou Barris'), ('Turismes', 'les Roquetes', 'Nou Barris'), ('Motos', 'les Roquetes', 'Nou Barris'), ('Motos', 'les Roquetes', 'Nou Barris'), ('Motos', 'les Roquetes', 'Nou Barris'), ('Motos', 'les Roquetes', 'Nou Barris'), ('Ciclomotors', 'les Roquetes', 'Nou Barris'), ('Ciclomotors', 'les Roquetes', 'Nou Barris'), ('Ciclomotors', 'les Roquetes', 'Nou Barris'), ('Ciclomotors', 'les Roquetes', 'Nou Barris'), ('Ciclomotors', 'les Roquetes', 'Nou Barris'), ('Furgonetes', 'les Roquetes', 'Nou Barris'), ('Furgonetes', 'les Roquetes', 'Nou Barris'), ('Furgonetes', 'les Roquetes', 'Nou Barris'), ('Furgonetes', 'les Roquetes', 'Nou Barris'), ('Furgonetes', 'les Roquetes', 'Nou Barris'), ('Camions', 'les Roquetes', 'Nou Barris'), ('Camions', 'les Roquetes', 'Nou Barris'), ('Camions', 'les Roquetes', 'Nou Barris'), ('Camions', 'les Roquetes', 'Nou Barris'), ('Altres vehicles', 'les Roquetes', 'Nou Barris'), ('Altres vehicles', 'les Roquetes', 'Nou Barris'), ('Altres vehicles', 'les Roquetes', 'Nou Barris'), ('Turismes', 'Verdun', 'Nou Barris'), ('Turismes', 'Verdun', 'Nou Barris'), ('Turismes', 'Verdun', 'Nou Barris'), ('Turismes', 'Verdun', 'Nou Barris'), ('Turismes', 'Verdun', 'Nou Barris'), ('Turismes', 'Verdun', 'Nou Barris'), ('Motos', 'Verdun', 'Nou Barris'), ('Motos', 'Verdun', 'Nou Barris'), ('Motos', 'Verdun', 'Nou Barris'), ('Motos', 'Verdun', 'Nou Barris'), ('Motos', 'Verdun', 'Nou Barris'), ('Ciclomotors', 'Verdun', 'Nou Barris'), ('Ciclomotors', 'Verdun', 'Nou Barris'), ('Ciclomotors', 'Verdun', 'Nou Barris'), ('Furgonetes', 'Verdun', 'Nou Barris'), ('Furgonetes', 'Verdun', 'Nou Barris'), ('Furgonetes', 'Verdun', 'Nou Barris'), ('Furgonetes', 'Verdun', 'Nou Barris'), ('Camions', 'Verdun', 'Nou Barris'), ('Camions', 'Verdun', 'Nou Barris'), ('Camions', 'Verdun', 'Nou Barris'), ('Camions', 'Verdun', 'Nou Barris'), ('Altres vehicles', 'Verdun', 'Nou Barris'), ('Altres vehicles', 'Verdun', 'Nou Barris'), ('Altres vehicles', 'Verdun', 'Nou Barris'), ('Altres vehicles', 'Verdun', 'Nou Barris'), ('Turismes', 'la Prosperitat', 'Nou Barris'), ('Turismes', 'la Prosperitat', 'Nou Barris'), ('Turismes', 'la Prosperitat', 'Nou Barris'), ('Turismes', 'la Prosperitat', 'Nou Barris'), ('Turismes', 'la Prosperitat', 'Nou Barris'), ('Turismes', 'la Prosperitat', 'Nou Barris'), ('Motos', 'la Prosperitat', 'Nou Barris'), ('Motos', 'la Prosperitat', 'Nou Barris'), ('Motos', 'la Prosperitat', 'Nou Barris'), ('Motos', 'la Prosperitat', 'Nou Barris'), ('Motos', 'la Prosperitat', 'Nou Barris'), ('Ciclomotors', 'la Prosperitat', 'Nou Barris'), ('Ciclomotors', 'la Prosperitat', 'Nou Barris'), ('Ciclomotors', 'la Prosperitat', 'Nou Barris'), ('Ciclomotors', 'la Prosperitat', 'Nou Barris'), ('Ciclomotors', 'la Prosperitat', 'Nou Barris'), ('Furgonetes', 'la Prosperitat', 'Nou Barris'), ('Furgonetes', 'la Prosperitat', 'Nou Barris'), ('Furgonetes', 'la Prosperitat', 'Nou Barris'), ('Furgonetes', 'la Prosperitat', 'Nou Barris'), ('Furgonetes', 'la Prosperitat', 'Nou Barris'), ('Camions', 'la Prosperitat', 'Nou Barris'), ('Camions', 'la Prosperitat', 'Nou Barris'), ('Camions', 'la Prosperitat', 'Nou Barris'), ('Camions', 'la Prosperitat', 'Nou Barris'), ('Camions', 'la Prosperitat', 'Nou Barris'), ('Altres vehicles', 'la Prosperitat', 'Nou Barris'), ('Altres vehicles', 'la Prosperitat', 'Nou Barris'), ('Altres vehicles', 'la Prosperitat', 'Nou Barris'), ('Altres vehicles', 'la Prosperitat', 'Nou Barris'), ('Turismes', 'la Trinitat Nova', 'Nou Barris'), ('Turismes', 'la Trinitat Nova', 'Nou Barris'), ('Turismes', 'la Trinitat Nova', 'Nou Barris'), ('Turismes', 'la Trinitat Nova', 'Nou Barris'), ('Turismes', 'la Trinitat Nova', 'Nou Barris'), ('Turismes', 'la Trinitat Nova', 'Nou Barris'), ('Motos', 'la Trinitat Nova', 'Nou Barris'), ('Motos', 'la Trinitat Nova', 'Nou Barris'), ('Motos', 'la Trinitat Nova', 'Nou Barris'), ('Motos', 'la Trinitat Nova', 'Nou Barris'), ('Motos', 'la Trinitat Nova', 'Nou Barris'), ('Ciclomotors', 'la Trinitat Nova', 'Nou Barris'), ('Ciclomotors', 'la Trinitat Nova', 'Nou Barris'), ('Ciclomotors', 'la Trinitat Nova', 'Nou Barris'), ('Furgonetes', 'la Trinitat Nova', 'Nou Barris'), ('Furgonetes', 'la Trinitat Nova', 'Nou Barris'), ('Furgonetes', 'la Trinitat Nova', 'Nou Barris'), ('Furgonetes', 'la Trinitat Nova', 'Nou Barris'), ('Furgonetes', 'la Trinitat Nova', 'Nou Barris'), ('Camions', 'la Trinitat Nova', 'Nou Barris'), ('Camions', 'la Trinitat Nova', 'Nou Barris'), ('Camions', 'la Trinitat Nova', 'Nou Barris'), ('Altres vehicles', 'la Trinitat Nova', 'Nou Barris'), ('Altres vehicles', 'la Trinitat Nova', 'Nou Barris'), ('Altres vehicles', 'la Trinitat Nova', 'Nou Barris'), ('Turismes', 'Torre Baró', 'Nou Barris'), ('Turismes', 'Torre Baró', 'Nou Barris'), ('Turismes', 'Torre Baró', 'Nou Barris'), ('Turismes', 'Torre Baró', 'Nou Barris'), ('Turismes', 'Torre Baró', 'Nou Barris'), ('Turismes', 'Torre Baró', 'Nou Barris'), ('Motos', 'Torre Baró', 'Nou Barris'), ('Motos', 'Torre Baró', 'Nou Barris'), ('Motos', 'Torre Baró', 'Nou Barris'), ('Motos', 'Torre Baró', 'Nou Barris'), ('Ciclomotors', 'Torre Baró', 'Nou Barris'), ('Ciclomotors', 'Torre Baró', 'Nou Barris'), ('Ciclomotors', 'Torre Baró', 'Nou Barris'), ('Ciclomotors', 'Torre Baró', 'Nou Barris'), ('Furgonetes', 'Torre Baró', 'Nou Barris'), ('Furgonetes', 'Torre Baró', 'Nou Barris'), ('Furgonetes', 'Torre Baró', 'Nou Barris'), ('Furgonetes', 'Torre Baró', 'Nou Barris'), ('Camions', 'Torre Baró', 'Nou Barris'), ('Camions', 'Torre Baró', 'Nou Barris'), ('Camions', 'Torre Baró', 'Nou Barris'), ('Altres vehicles', 'Torre Baró', 'Nou Barris'), ('Turismes', 'Ciutat Meridiana', 'Nou Barris'), ('Turismes', 'Ciutat Meridiana', 'Nou Barris'), ('Turismes', 'Ciutat Meridiana', 'Nou Barris'), ('Turismes', 'Ciutat Meridiana', 'Nou Barris'), ('Turismes', 'Ciutat Meridiana', 'Nou Barris'), ('Motos', 'Ciutat Meridiana', 'Nou Barris'), ('Motos', 'Ciutat Meridiana', 'Nou Barris'), ('Motos', 'Ciutat Meridiana', 'Nou Barris'), ('Motos', 'Ciutat Meridiana', 'Nou Barris'), ('Motos', 'Ciutat Meridiana', 'Nou Barris'), ('Ciclomotors', 'Ciutat Meridiana', 'Nou Barris'), ('Ciclomotors', 'Ciutat Meridiana', 'Nou Barris'), ('Ciclomotors', 'Ciutat Meridiana', 'Nou Barris'), ('Ciclomotors', 'Ciutat Meridiana', 'Nou Barris'), ('Furgonetes', 'Ciutat Meridiana', 'Nou Barris'), ('Furgonetes', 'Ciutat Meridiana', 'Nou Barris'), ('Furgonetes', 'Ciutat Meridiana', 'Nou Barris'), ('Furgonetes', 'Ciutat Meridiana', 'Nou Barris'), ('Camions', 'Ciutat Meridiana', 'Nou Barris'), ('Camions', 'Ciutat Meridiana', 'Nou Barris'), ('Camions', 'Ciutat Meridiana', 'Nou Barris'), ('Camions', 'Ciutat Meridiana', 'Nou Barris'), ('Altres vehicles', 'Ciutat Meridiana', 'Nou Barris'), ('Altres vehicles', 'Ciutat Meridiana', 'Nou Barris'), ('Altres vehicles', 'Ciutat Meridiana', 'Nou Barris'), ('Altres vehicles', 'Ciutat Meridiana', 'Nou Barris'), ('Turismes', 'Vallbona', 'Nou Barris'), ('Turismes', 'Vallbona', 'Nou Barris'), ('Turismes', 'Vallbona', 'Nou Barris'), ('Turismes', 'Vallbona', 'Nou Barris'), ('Turismes', 'Vallbona', 'Nou Barris'), ('Motos', 'Vallbona', 'Nou Barris'), ('Motos', 'Vallbona', 'Nou Barris'), ('Motos', 'Vallbona', 'Nou Barris'), ('Motos', 'Vallbona', 'Nou Barris'), ('Motos', 'Vallbona', 'Nou Barris'), ('Ciclomotors', 'Vallbona', 'Nou Barris'), ('Ciclomotors', 'Vallbona', 'Nou Barris'), ('Ciclomotors', 'Vallbona', 'Nou Barris'), ('Ciclomotors', 'Vallbona', 'Nou Barris'), ('Ciclomotors', 'Vallbona', 'Nou Barris'), ('Furgonetes', 'Vallbona', 'Nou Barris'), ('Furgonetes', 'Vallbona', 'Nou Barris'), ('Furgonetes', 'Vallbona', 'Nou Barris'), ('Furgonetes', 'Vallbona', 'Nou Barris'), ('Camions', 'Vallbona', 'Nou Barris'), ('Camions', 'Vallbona', 'Nou Barris'), ('Camions', 'Vallbona', 'Nou Barris'), ('Altres vehicles', 'Vallbona', 'Nou Barris'), ('Altres vehicles', 'Vallbona', 'Nou Barris'), ('Turismes', 'la Trinitat Vella', 'Sant Andreu'), ('Turismes', 'la Trinitat Vella', 'Sant Andreu'), ('Turismes', 'la Trinitat Vella', 'Sant Andreu'), ('Turismes', 'la Trinitat Vella', 'Sant Andreu'), ('Turismes', 'la Trinitat Vella', 'Sant Andreu'), ('Turismes', 'la Trinitat Vella', 'Sant Andreu'), ('Motos', 'la Trinitat Vella', 'Sant Andreu'), ('Motos', 'la Trinitat Vella', 'Sant Andreu'), ('Motos', 'la Trinitat Vella', 'Sant Andreu'), ('Motos', 'la Trinitat Vella', 'Sant Andreu'), ('Ciclomotors', 'la Trinitat Vella', 'Sant Andreu'), ('Ciclomotors', 'la Trinitat Vella', 'Sant Andreu'), ('Ciclomotors', 'la Trinitat Vella', 'Sant Andreu'), ('Ciclomotors', 'la Trinitat Vella', 'Sant Andreu'), ('Furgonetes', 'la Trinitat Vella', 'Sant Andreu'), ('Furgonetes', 'la Trinitat Vella', 'Sant Andreu'), ('Furgonetes', 'la Trinitat Vella', 'Sant Andreu'), ('Furgonetes', 'la Trinitat Vella', 'Sant Andreu'), ('Furgonetes', 'la Trinitat Vella', 'Sant Andreu'), ('Camions', 'la Trinitat Vella', 'Sant Andreu'), ('Camions', 'la Trinitat Vella', 'Sant Andreu'), ('Camions', 'la Trinitat Vella', 'Sant Andreu'), ('Altres vehicles', 'la Trinitat Vella', 'Sant Andreu'), ('Altres vehicles', 'la Trinitat Vella', 'Sant Andreu'), ('Altres vehicles', 'la Trinitat Vella', 'Sant Andreu'), ('Turismes', 'Baró de Viver', 'Sant Andreu'), ('Turismes', 'Baró de Viver', 'Sant Andreu'), ('Turismes', 'Baró de Viver', 'Sant Andreu'), ('Turismes', 'Baró de Viver', 'Sant Andreu'), ('Turismes', 'Baró de Viver', 'Sant Andreu'), ('Motos', 'Baró de Viver', 'Sant Andreu'), ('Motos', 'Baró de Viver', 'Sant Andreu'), ('Motos', 'Baró de Viver', 'Sant Andreu'), ('Motos', 'Baró de Viver', 'Sant Andreu'), ('Ciclomotors', 'Baró de Viver', 'Sant Andreu'), ('Ciclomotors', 'Baró de Viver', 'Sant Andreu'), ('Ciclomotors', 'Baró de Viver', 'Sant Andreu'), ('Furgonetes', 'Baró de Viver', 'Sant Andreu'), ('Furgonetes', 'Baró de Viver', 'Sant Andreu'), ('Furgonetes', 'Baró de Viver', 'Sant Andreu'), ('Camions', 'Baró de Viver', 'Sant Andreu'), ('Camions', 'Baró de Viver', 'Sant Andreu'), ('Altres vehicles', 'Baró de Viver', 'Sant Andreu'), ('Altres vehicles', 'Baró de Viver', 'Sant Andreu'), ('Turismes', 'el Bon Pastor', 'Sant Andreu'), ('Turismes', 'el Bon Pastor', 'Sant Andreu'), ('Turismes', 'el Bon Pastor', 'Sant Andreu'), ('Turismes', 'el Bon Pastor', 'Sant Andreu'), ('Turismes', 'el Bon Pastor', 'Sant Andreu'), ('Turismes', 'el Bon Pastor', 'Sant Andreu'), ('Motos', 'el Bon Pastor', 'Sant Andreu'), ('Motos', 'el Bon Pastor', 'Sant Andreu'), ('Motos', 'el Bon Pastor', 'Sant Andreu'), ('Motos', 'el Bon Pastor', 'Sant Andreu'), ('Motos', 'el Bon Pastor', 'Sant Andreu'), ('Ciclomotors', 'el Bon Pastor', 'Sant Andreu'), ('Ciclomotors', 'el Bon Pastor', 'Sant Andreu'), ('Ciclomotors', 'el Bon Pastor', 'Sant Andreu'), ('Ciclomotors', 'el Bon Pastor', 'Sant Andreu'), ('Ciclomotors', 'el Bon Pastor', 'Sant Andreu'), ('Furgonetes', 'el Bon Pastor', 'Sant Andreu'), ('Furgonetes', 'el Bon Pastor', 'Sant Andreu'), ('Furgonetes', 'el Bon Pastor', 'Sant Andreu'), ('Furgonetes', 'el Bon Pastor', 'Sant Andreu'), ('Furgonetes', 'el Bon Pastor', 'Sant Andreu'), ('Furgonetes', 'el Bon Pastor', 'Sant Andreu'), ('Camions', 'el Bon Pastor', 'Sant Andreu'), ('Camions', 'el Bon Pastor', 'Sant Andreu'), ('Camions', 'el Bon Pastor', 'Sant Andreu'), ('Camions', 'el Bon Pastor', 'Sant Andreu'), ('Camions', 'el Bon Pastor', 'Sant Andreu'), ('Camions', 'el Bon Pastor', 'Sant Andreu'), ('Altres vehicles', 'el Bon Pastor', 'Sant Andreu'), ('Altres vehicles', 'el Bon Pastor', 'Sant Andreu'), ('Altres vehicles', 'el Bon Pastor', 'Sant Andreu'), ('Altres vehicles', 'el Bon Pastor', 'Sant Andreu'), ('Altres vehicles', 'el Bon Pastor', 'Sant Andreu'), ('Turismes', 'Sant Andreu', 'Sant Andreu'), ('Turismes', 'Sant Andreu', 'Sant Andreu'), ('Turismes', 'Sant Andreu', 'Sant Andreu'), ('Turismes', 'Sant Andreu', 'Sant Andreu'), ('Turismes', 'Sant Andreu', 'Sant Andreu'), ('Turismes', 'Sant Andreu', 'Sant Andreu'), ('Motos', 'Sant Andreu', 'Sant Andreu'), ('Motos', 'Sant Andreu', 'Sant Andreu'), ('Motos', 'Sant Andreu', 'Sant Andreu'), ('Motos', 'Sant Andreu', 'Sant Andreu'), ('Motos', 'Sant Andreu', 'Sant Andreu'), ('Ciclomotors', 'Sant Andreu', 'Sant Andreu'), ('Ciclomotors', 'Sant Andreu', 'Sant Andreu'), ('Ciclomotors', 'Sant Andreu', 'Sant Andreu'), ('Ciclomotors', 'Sant Andreu', 'Sant Andreu'), ('Ciclomotors', 'Sant Andreu', 'Sant Andreu'), ('Furgonetes', 'Sant Andreu', 'Sant Andreu'), ('Furgonetes', 'Sant Andreu', 'Sant Andreu'), ('Furgonetes', 'Sant Andreu', 'Sant Andreu'), ('Furgonetes', 'Sant Andreu', 'Sant Andreu'), ('Furgonetes', 'Sant Andreu', 'Sant Andreu'), ('Furgonetes', 'Sant Andreu', 'Sant Andreu'), ('Camions', 'Sant Andreu', 'Sant Andreu'), ('Camions', 'Sant Andreu', 'Sant Andreu'), ('Camions', 'Sant Andreu', 'Sant Andreu'), ('Camions', 'Sant Andreu', 'Sant Andreu'), ('Camions', 'Sant Andreu', 'Sant Andreu'), ('Altres vehicles', 'Sant Andreu', 'Sant Andreu'), ('Altres vehicles', 'Sant Andreu', 'Sant Andreu'), ('Altres vehicles', 'Sant Andreu', 'Sant Andreu'), ('Altres vehicles', 'Sant Andreu', 'Sant Andreu'), ('Altres vehicles', 'Sant Andreu', 'Sant Andreu'), ('Turismes', 'la Sagrera', 'Sant Andreu'), ('Turismes', 'la Sagrera', 'Sant Andreu'), ('Turismes', 'la Sagrera', 'Sant Andreu'), ('Turismes', 'la Sagrera', 'Sant Andreu'), ('Turismes', 'la Sagrera', 'Sant Andreu'), ('Turismes', 'la Sagrera', 'Sant Andreu'), ('Motos', 'la Sagrera', 'Sant Andreu'), ('Motos', 'la Sagrera', 'Sant Andreu'), ('Motos', 'la Sagrera', 'Sant Andreu'), ('Motos', 'la Sagrera', 'Sant Andreu'), ('Motos', 'la Sagrera', 'Sant Andreu'), ('Ciclomotors', 'la Sagrera', 'Sant Andreu'), ('Ciclomotors', 'la Sagrera', 'Sant Andreu'), ('Ciclomotors', 'la Sagrera', 'Sant Andreu'), ('Ciclomotors', 'la Sagrera', 'Sant Andreu'), ('Ciclomotors', 'la Sagrera', 'Sant Andreu'), ('Furgonetes', 'la Sagrera', 'Sant Andreu'), ('Furgonetes', 'la Sagrera', 'Sant Andreu'), ('Furgonetes', 'la Sagrera', 'Sant Andreu'), ('Furgonetes', 'la Sagrera', 'Sant Andreu'), ('Furgonetes', 'la Sagrera', 'Sant Andreu'), ('Camions', 'la Sagrera', 'Sant Andreu'), ('Camions', 'la Sagrera', 'Sant Andreu'), ('Camions', 'la Sagrera', 'Sant Andreu'), ('Camions', 'la Sagrera', 'Sant Andreu'), ('Altres vehicles', 'la Sagrera', 'Sant Andreu'), ('Altres vehicles', 'la Sagrera', 'Sant Andreu'), ('Altres vehicles', 'la Sagrera', 'Sant Andreu'), ('Altres vehicles', 'la Sagrera', 'Sant Andreu'), ('Turismes', 'el Congrés i els Indians', 'Sant Andreu'), ('Turismes', 'el Congrés i els Indians', 'Sant Andreu'), ('Turismes', 'el Congrés i els Indians', 'Sant Andreu'), ('Turismes', 'el Congrés i els Indians', 'Sant Andreu'), ('Turismes', 'el Congrés i els Indians', 'Sant Andreu'), ('Turismes', 'el Congrés i els Indians', 'Sant Andreu'), ('Motos', 'el Congrés i els Indians', 'Sant Andreu'), ('Motos', 'el Congrés i els Indians', 'Sant Andreu'), ('Motos', 'el Congrés i els Indians', 'Sant Andreu'), ('Motos', 'el Congrés i els Indians', 'Sant Andreu'), ('Motos', 'el Congrés i els Indians', 'Sant Andreu'), ('Ciclomotors', 'el Congrés i els Indians', 'Sant Andreu'), ('Ciclomotors', 'el Congrés i els Indians', 'Sant Andreu'), ('Ciclomotors', 'el Congrés i els Indians', 'Sant Andreu'), ('Ciclomotors', 'el Congrés i els Indians', 'Sant Andreu'), ('Ciclomotors', 'el Congrés i els Indians', 'Sant Andreu'), ('Furgonetes', 'el Congrés i els Indians', 'Sant Andreu'), ('Furgonetes', 'el Congrés i els Indians', 'Sant Andreu'), ('Furgonetes', 'el Congrés i els Indians', 'Sant Andreu'), ('Furgonetes', 'el Congrés i els Indians', 'Sant Andreu'), ('Furgonetes', 'el Congrés i els Indians', 'Sant Andreu'), ('Furgonetes', 'el Congrés i els Indians', 'Sant Andreu'), ('Camions', 'el Congrés i els Indians', 'Sant Andreu'), ('Camions', 'el Congrés i els Indians', 'Sant Andreu'), ('Camions', 'el Congrés i els Indians', 'Sant Andreu'), ('Altres vehicles', 'el Congrés i els Indians', 'Sant Andreu'), ('Altres vehicles', 'el Congrés i els Indians', 'Sant Andreu'), ('Altres vehicles', 'el Congrés i els Indians', 'Sant Andreu'), ('Turismes', 'Navas', 'Sant Andreu'), ('Turismes', 'Navas', 'Sant Andreu'), ('Turismes', 'Navas', 'Sant Andreu'), ('Turismes', 'Navas', 'Sant Andreu'), ('Turismes', 'Navas', 'Sant Andreu'), ('Turismes', 'Navas', 'Sant Andreu'), ('Motos', 'Navas', 'Sant Andreu'), ('Motos', 'Navas', 'Sant Andreu'), ('Motos', 'Navas', 'Sant Andreu'), ('Motos', 'Navas', 'Sant Andreu'), ('Motos', 'Navas', 'Sant Andreu'), ('Ciclomotors', 'Navas', 'Sant Andreu'), ('Ciclomotors', 'Navas', 'Sant Andreu'), ('Ciclomotors', 'Navas', 'Sant Andreu'), ('Ciclomotors', 'Navas', 'Sant Andreu'), ('Ciclomotors', 'Navas', 'Sant Andreu'), ('Furgonetes', 'Navas', 'Sant Andreu'), ('Furgonetes', 'Navas', 'Sant Andreu'), ('Furgonetes', 'Navas', 'Sant Andreu'), ('Furgonetes', 'Navas', 'Sant Andreu'), ('Furgonetes', 'Navas', 'Sant Andreu'), ('Camions', 'Navas', 'Sant Andreu'), ('Camions', 'Navas', 'Sant Andreu'), ('Camions', 'Navas', 'Sant Andreu'), ('Camions', 'Navas', 'Sant Andreu'), ('Altres vehicles', 'Navas', 'Sant Andreu'), ('Altres vehicles', 'Navas', 'Sant Andreu'), ('Altres vehicles', 'Navas', 'Sant Andreu'), ('Altres vehicles', 'Navas', 'Sant Andreu'), ('Turismes', \"el Camp de l'Arpa del Clot\", 'Sant Martí'), ('Turismes', \"el Camp de l'Arpa del Clot\", 'Sant Martí'), ('Turismes', \"el Camp de l'Arpa del Clot\", 'Sant Martí'), ('Turismes', \"el Camp de l'Arpa del Clot\", 'Sant Martí'), ('Turismes', \"el Camp de l'Arpa del Clot\", 'Sant Martí'), ('Turismes', \"el Camp de l'Arpa del Clot\", 'Sant Martí'), ('Motos', \"el Camp de l'Arpa del Clot\", 'Sant Martí'), ('Motos', \"el Camp de l'Arpa del Clot\", 'Sant Martí'), ('Motos', \"el Camp de l'Arpa del Clot\", 'Sant Martí'), ('Motos', \"el Camp de l'Arpa del Clot\", 'Sant Martí'), ('Motos', \"el Camp de l'Arpa del Clot\", 'Sant Martí'), ('Ciclomotors', \"el Camp de l'Arpa del Clot\", 'Sant Martí'), ('Ciclomotors', \"el Camp de l'Arpa del Clot\", 'Sant Martí'), ('Ciclomotors', \"el Camp de l'Arpa del Clot\", 'Sant Martí'), ('Ciclomotors', \"el Camp de l'Arpa del Clot\", 'Sant Martí'), ('Ciclomotors', \"el Camp de l'Arpa del Clot\", 'Sant Martí'), ('Furgonetes', \"el Camp de l'Arpa del Clot\", 'Sant Martí'), ('Furgonetes', \"el Camp de l'Arpa del Clot\", 'Sant Martí'), ('Furgonetes', \"el Camp de l'Arpa del Clot\", 'Sant Martí'), ('Furgonetes', \"el Camp de l'Arpa del Clot\", 'Sant Martí'), ('Camions', \"el Camp de l'Arpa del Clot\", 'Sant Martí'), ('Camions', \"el Camp de l'Arpa del Clot\", 'Sant Martí'), ('Camions', \"el Camp de l'Arpa del Clot\", 'Sant Martí'), ('Camions', \"el Camp de l'Arpa del Clot\", 'Sant Martí'), ('Altres vehicles', \"el Camp de l'Arpa del Clot\", 'Sant Martí'), ('Altres vehicles', \"el Camp de l'Arpa del Clot\", 'Sant Martí'), ('Altres vehicles', \"el Camp de l'Arpa del Clot\", 'Sant Martí'), ('Altres vehicles', \"el Camp de l'Arpa del Clot\", 'Sant Martí'), ('Turismes', 'el Clot', 'Sant Martí'), ('Turismes', 'el Clot', 'Sant Martí'), ('Turismes', 'el Clot', 'Sant Martí'), ('Turismes', 'el Clot', 'Sant Martí'), ('Turismes', 'el Clot', 'Sant Martí'), ('Turismes', 'el Clot', 'Sant Martí'), ('Motos', 'el Clot', 'Sant Martí'), ('Motos', 'el Clot', 'Sant Martí'), ('Motos', 'el Clot', 'Sant Martí'), ('Motos', 'el Clot', 'Sant Martí'), ('Motos', 'el Clot', 'Sant Martí'), ('Ciclomotors', 'el Clot', 'Sant Martí'), ('Ciclomotors', 'el Clot', 'Sant Martí'), ('Ciclomotors', 'el Clot', 'Sant Martí'), ('Ciclomotors', 'el Clot', 'Sant Martí'), ('Furgonetes', 'el Clot', 'Sant Martí'), ('Furgonetes', 'el Clot', 'Sant Martí'), ('Furgonetes', 'el Clot', 'Sant Martí'), ('Furgonetes', 'el Clot', 'Sant Martí'), ('Furgonetes', 'el Clot', 'Sant Martí'), ('Camions', 'el Clot', 'Sant Martí'), ('Camions', 'el Clot', 'Sant Martí'), ('Camions', 'el Clot', 'Sant Martí'), ('Camions', 'el Clot', 'Sant Martí'), ('Altres vehicles', 'el Clot', 'Sant Martí'), ('Altres vehicles', 'el Clot', 'Sant Martí'), ('Altres vehicles', 'el Clot', 'Sant Martí'), ('Altres vehicles', 'el Clot', 'Sant Martí'), ('Turismes', 'el Parc i la Llacuna del Poblenou', 'Sant Martí'), ('Turismes', 'el Parc i la Llacuna del Poblenou', 'Sant Martí'), ('Turismes', 'el Parc i la Llacuna del Poblenou', 'Sant Martí'), ('Turismes', 'el Parc i la Llacuna del Poblenou', 'Sant Martí'), ('Turismes', 'el Parc i la Llacuna del Poblenou', 'Sant Martí'), ('Turismes', 'el Parc i la Llacuna del Poblenou', 'Sant Martí'), ('Motos', 'el Parc i la Llacuna del Poblenou', 'Sant Martí'), ('Motos', 'el Parc i la Llacuna del Poblenou', 'Sant Martí'), ('Motos', 'el Parc i la Llacuna del Poblenou', 'Sant Martí'), ('Motos', 'el Parc i la Llacuna del Poblenou', 'Sant Martí'), ('Motos', 'el Parc i la Llacuna del Poblenou', 'Sant Martí'), ('Ciclomotors', 'el Parc i la Llacuna del Poblenou', 'Sant Martí'), ('Ciclomotors', 'el Parc i la Llacuna del Poblenou', 'Sant Martí'), ('Ciclomotors', 'el Parc i la Llacuna del Poblenou', 'Sant Martí'), ('Ciclomotors', 'el Parc i la Llacuna del Poblenou', 'Sant Martí'), ('Ciclomotors', 'el Parc i la Llacuna del Poblenou', 'Sant Martí'), ('Furgonetes', 'el Parc i la Llacuna del Poblenou', 'Sant Martí'), ('Furgonetes', 'el Parc i la Llacuna del Poblenou', 'Sant Martí'), ('Furgonetes', 'el Parc i la Llacuna del Poblenou', 'Sant Martí'), ('Furgonetes', 'el Parc i la Llacuna del Poblenou', 'Sant Martí'), ('Furgonetes', 'el Parc i la Llacuna del Poblenou', 'Sant Martí'), ('Furgonetes', 'el Parc i la Llacuna del Poblenou', 'Sant Martí'), ('Camions', 'el Parc i la Llacuna del Poblenou', 'Sant Martí'), ('Camions', 'el Parc i la Llacuna del Poblenou', 'Sant Martí'), ('Camions', 'el Parc i la Llacuna del Poblenou', 'Sant Martí'), ('Camions', 'el Parc i la Llacuna del Poblenou', 'Sant Martí'), ('Camions', 'el Parc i la Llacuna del Poblenou', 'Sant Martí'), ('Camions', 'el Parc i la Llacuna del Poblenou', 'Sant Martí'), ('Altres vehicles', 'el Parc i la Llacuna del Poblenou', 'Sant Martí'), ('Altres vehicles', 'el Parc i la Llacuna del Poblenou', 'Sant Martí'), ('Altres vehicles', 'el Parc i la Llacuna del Poblenou', 'Sant Martí'), ('Altres vehicles', 'el Parc i la Llacuna del Poblenou', 'Sant Martí'), ('Altres vehicles', 'el Parc i la Llacuna del Poblenou', 'Sant Martí'), ('Turismes', 'la Vila Olímpica del Poblenou', 'Sant Martí'), ('Turismes', 'la Vila Olímpica del Poblenou', 'Sant Martí'), ('Turismes', 'la Vila Olímpica del Poblenou', 'Sant Martí'), ('Turismes', 'la Vila Olímpica del Poblenou', 'Sant Martí'), ('Turismes', 'la Vila Olímpica del Poblenou', 'Sant Martí'), ('Turismes', 'la Vila Olímpica del Poblenou', 'Sant Martí'), ('Motos', 'la Vila Olímpica del Poblenou', 'Sant Martí'), ('Motos', 'la Vila Olímpica del Poblenou', 'Sant Martí'), ('Motos', 'la Vila Olímpica del Poblenou', 'Sant Martí'), ('Motos', 'la Vila Olímpica del Poblenou', 'Sant Martí'), ('Motos', 'la Vila Olímpica del Poblenou', 'Sant Martí'), ('Ciclomotors', 'la Vila Olímpica del Poblenou', 'Sant Martí'), ('Ciclomotors', 'la Vila Olímpica del Poblenou', 'Sant Martí'), ('Ciclomotors', 'la Vila Olímpica del Poblenou', 'Sant Martí'), ('Ciclomotors', 'la Vila Olímpica del Poblenou', 'Sant Martí'), ('Ciclomotors', 'la Vila Olímpica del Poblenou', 'Sant Martí'), ('Furgonetes', 'la Vila Olímpica del Poblenou', 'Sant Martí'), ('Furgonetes', 'la Vila Olímpica del Poblenou', 'Sant Martí'), ('Furgonetes', 'la Vila Olímpica del Poblenou', 'Sant Martí'), ('Furgonetes', 'la Vila Olímpica del Poblenou', 'Sant Martí'), ('Furgonetes', 'la Vila Olímpica del Poblenou', 'Sant Martí'), ('Camions', 'la Vila Olímpica del Poblenou', 'Sant Martí'), ('Camions', 'la Vila Olímpica del Poblenou', 'Sant Martí'), ('Camions', 'la Vila Olímpica del Poblenou', 'Sant Martí'), ('Camions', 'la Vila Olímpica del Poblenou', 'Sant Martí'), ('Altres vehicles', 'la Vila Olímpica del Poblenou', 'Sant Martí'), ('Altres vehicles', 'la Vila Olímpica del Poblenou', 'Sant Martí'), ('Altres vehicles', 'la Vila Olímpica del Poblenou', 'Sant Martí'), ('Turismes', 'el Poblenou', 'Sant Martí'), ('Turismes', 'el Poblenou', 'Sant Martí'), ('Turismes', 'el Poblenou', 'Sant Martí'), ('Turismes', 'el Poblenou', 'Sant Martí'), ('Turismes', 'el Poblenou', 'Sant Martí'), ('Turismes', 'el Poblenou', 'Sant Martí'), ('Motos', 'el Poblenou', 'Sant Martí'), ('Motos', 'el Poblenou', 'Sant Martí'), ('Motos', 'el Poblenou', 'Sant Martí'), ('Motos', 'el Poblenou', 'Sant Martí'), ('Motos', 'el Poblenou', 'Sant Martí'), ('Ciclomotors', 'el Poblenou', 'Sant Martí'), ('Ciclomotors', 'el Poblenou', 'Sant Martí'), ('Ciclomotors', 'el Poblenou', 'Sant Martí'), ('Ciclomotors', 'el Poblenou', 'Sant Martí'), ('Ciclomotors', 'el Poblenou', 'Sant Martí'), ('Furgonetes', 'el Poblenou', 'Sant Martí'), ('Furgonetes', 'el Poblenou', 'Sant Martí'), ('Furgonetes', 'el Poblenou', 'Sant Martí'), ('Furgonetes', 'el Poblenou', 'Sant Martí'), ('Furgonetes', 'el Poblenou', 'Sant Martí'), ('Furgonetes', 'el Poblenou', 'Sant Martí'), ('Camions', 'el Poblenou', 'Sant Martí'), ('Camions', 'el Poblenou', 'Sant Martí'), ('Camions', 'el Poblenou', 'Sant Martí'), ('Camions', 'el Poblenou', 'Sant Martí'), ('Camions', 'el Poblenou', 'Sant Martí'), ('Altres vehicles', 'el Poblenou', 'Sant Martí'), ('Altres vehicles', 'el Poblenou', 'Sant Martí'), ('Altres vehicles', 'el Poblenou', 'Sant Martí'), ('Altres vehicles', 'el Poblenou', 'Sant Martí'), ('Turismes', 'Diagonal Mar i el Front Marítim del Poblenou', 'Sant Martí'), ('Turismes', 'Diagonal Mar i el Front Marítim del Poblenou', 'Sant Martí'), ('Turismes', 'Diagonal Mar i el Front Marítim del Poblenou', 'Sant Martí'), ('Turismes', 'Diagonal Mar i el Front Marítim del Poblenou', 'Sant Martí'), ('Turismes', 'Diagonal Mar i el Front Marítim del Poblenou', 'Sant Martí'), ('Turismes', 'Diagonal Mar i el Front Marítim del Poblenou', 'Sant Martí'), ('Motos', 'Diagonal Mar i el Front Marítim del Poblenou', 'Sant Martí'), ('Motos', 'Diagonal Mar i el Front Marítim del Poblenou', 'Sant Martí'), ('Motos', 'Diagonal Mar i el Front Marítim del Poblenou', 'Sant Martí'), ('Motos', 'Diagonal Mar i el Front Marítim del Poblenou', 'Sant Martí'), ('Motos', 'Diagonal Mar i el Front Marítim del Poblenou', 'Sant Martí'), ('Ciclomotors', 'Diagonal Mar i el Front Marítim del Poblenou', 'Sant Martí'), ('Ciclomotors', 'Diagonal Mar i el Front Marítim del Poblenou', 'Sant Martí'), ('Ciclomotors', 'Diagonal Mar i el Front Marítim del Poblenou', 'Sant Martí'), ('Ciclomotors', 'Diagonal Mar i el Front Marítim del Poblenou', 'Sant Martí'), ('Furgonetes', 'Diagonal Mar i el Front Marítim del Poblenou', 'Sant Martí'), ('Furgonetes', 'Diagonal Mar i el Front Marítim del Poblenou', 'Sant Martí'), ('Furgonetes', 'Diagonal Mar i el Front Marítim del Poblenou', 'Sant Martí'), ('Furgonetes', 'Diagonal Mar i el Front Marítim del Poblenou', 'Sant Martí'), ('Camions', 'Diagonal Mar i el Front Marítim del Poblenou', 'Sant Martí'), ('Camions', 'Diagonal Mar i el Front Marítim del Poblenou', 'Sant Martí'), ('Camions', 'Diagonal Mar i el Front Marítim del Poblenou', 'Sant Martí'), ('Camions', 'Diagonal Mar i el Front Marítim del Poblenou', 'Sant Martí'), ('Altres vehicles', 'Diagonal Mar i el Front Marítim del Poblenou', 'Sant Martí'), ('Altres vehicles', 'Diagonal Mar i el Front Marítim del Poblenou', 'Sant Martí'), ('Altres vehicles', 'Diagonal Mar i el Front Marítim del Poblenou', 'Sant Martí'), ('Altres vehicles', 'Diagonal Mar i el Front Marítim del Poblenou', 'Sant Martí'), ('Turismes', 'el Besòs i el Maresme', 'Sant Martí'), ('Turismes', 'el Besòs i el Maresme', 'Sant Martí'), ('Turismes', 'el Besòs i el Maresme', 'Sant Martí'), ('Turismes', 'el Besòs i el Maresme', 'Sant Martí'), ('Turismes', 'el Besòs i el Maresme', 'Sant Martí'), ('Turismes', 'el Besòs i el Maresme', 'Sant Martí'), ('Motos', 'el Besòs i el Maresme', 'Sant Martí'), ('Motos', 'el Besòs i el Maresme', 'Sant Martí'), ('Motos', 'el Besòs i el Maresme', 'Sant Martí'), ('Motos', 'el Besòs i el Maresme', 'Sant Martí'), ('Ciclomotors', 'el Besòs i el Maresme', 'Sant Martí'), ('Ciclomotors', 'el Besòs i el Maresme', 'Sant Martí'), ('Ciclomotors', 'el Besòs i el Maresme', 'Sant Martí'), ('Ciclomotors', 'el Besòs i el Maresme', 'Sant Martí'), ('Furgonetes', 'el Besòs i el Maresme', 'Sant Martí'), ('Furgonetes', 'el Besòs i el Maresme', 'Sant Martí'), ('Furgonetes', 'el Besòs i el Maresme', 'Sant Martí'), ('Furgonetes', 'el Besòs i el Maresme', 'Sant Martí'), ('Furgonetes', 'el Besòs i el Maresme', 'Sant Martí'), ('Camions', 'el Besòs i el Maresme', 'Sant Martí'), ('Camions', 'el Besòs i el Maresme', 'Sant Martí'), ('Camions', 'el Besòs i el Maresme', 'Sant Martí'), ('Camions', 'el Besòs i el Maresme', 'Sant Martí'), ('Altres vehicles', 'el Besòs i el Maresme', 'Sant Martí'), ('Altres vehicles', 'el Besòs i el Maresme', 'Sant Martí'), ('Altres vehicles', 'el Besòs i el Maresme', 'Sant Martí'), ('Altres vehicles', 'el Besòs i el Maresme', 'Sant Martí'), ('Turismes', 'Provençals del Poblenou', 'Sant Martí'), ('Turismes', 'Provençals del Poblenou', 'Sant Martí'), ('Turismes', 'Provençals del Poblenou', 'Sant Martí'), ('Turismes', 'Provençals del Poblenou', 'Sant Martí'), ('Turismes', 'Provençals del Poblenou', 'Sant Martí'), ('Turismes', 'Provençals del Poblenou', 'Sant Martí'), ('Motos', 'Provençals del Poblenou', 'Sant Martí'), ('Motos', 'Provençals del Poblenou', 'Sant Martí'), ('Motos', 'Provençals del Poblenou', 'Sant Martí'), ('Motos', 'Provençals del Poblenou', 'Sant Martí'), ('Motos', 'Provençals del Poblenou', 'Sant Martí'), ('Ciclomotors', 'Provençals del Poblenou', 'Sant Martí'), ('Ciclomotors', 'Provençals del Poblenou', 'Sant Martí'), ('Ciclomotors', 'Provençals del Poblenou', 'Sant Martí'), ('Ciclomotors', 'Provençals del Poblenou', 'Sant Martí'), ('Ciclomotors', 'Provençals del Poblenou', 'Sant Martí'), ('Furgonetes', 'Provençals del Poblenou', 'Sant Martí'), ('Furgonetes', 'Provençals del Poblenou', 'Sant Martí'), ('Furgonetes', 'Provençals del Poblenou', 'Sant Martí'), ('Furgonetes', 'Provençals del Poblenou', 'Sant Martí'), ('Furgonetes', 'Provençals del Poblenou', 'Sant Martí'), ('Furgonetes', 'Provençals del Poblenou', 'Sant Martí'), ('Camions', 'Provençals del Poblenou', 'Sant Martí'), ('Camions', 'Provençals del Poblenou', 'Sant Martí'), ('Camions', 'Provençals del Poblenou', 'Sant Martí'), ('Camions', 'Provençals del Poblenou', 'Sant Martí'), ('Camions', 'Provençals del Poblenou', 'Sant Martí'), ('Camions', 'Provençals del Poblenou', 'Sant Martí'), ('Altres vehicles', 'Provençals del Poblenou', 'Sant Martí'), ('Altres vehicles', 'Provençals del Poblenou', 'Sant Martí'), ('Altres vehicles', 'Provençals del Poblenou', 'Sant Martí'), ('Altres vehicles', 'Provençals del Poblenou', 'Sant Martí'), ('Turismes', 'Sant Martí de Provençals', 'Sant Martí'), ('Turismes', 'Sant Martí de Provençals', 'Sant Martí'), ('Turismes', 'Sant Martí de Provençals', 'Sant Martí'), ('Turismes', 'Sant Martí de Provençals', 'Sant Martí'), ('Turismes', 'Sant Martí de Provençals', 'Sant Martí'), ('Turismes', 'Sant Martí de Provençals', 'Sant Martí'), ('Motos', 'Sant Martí de Provençals', 'Sant Martí'), ('Motos', 'Sant Martí de Provençals', 'Sant Martí'), ('Motos', 'Sant Martí de Provençals', 'Sant Martí'), ('Motos', 'Sant Martí de Provençals', 'Sant Martí'), ('Motos', 'Sant Martí de Provençals', 'Sant Martí'), ('Ciclomotors', 'Sant Martí de Provençals', 'Sant Martí'), ('Ciclomotors', 'Sant Martí de Provençals', 'Sant Martí'), ('Ciclomotors', 'Sant Martí de Provençals', 'Sant Martí'), ('Ciclomotors', 'Sant Martí de Provençals', 'Sant Martí'), ('Ciclomotors', 'Sant Martí de Provençals', 'Sant Martí'), ('Furgonetes', 'Sant Martí de Provençals', 'Sant Martí'), ('Furgonetes', 'Sant Martí de Provençals', 'Sant Martí'), ('Furgonetes', 'Sant Martí de Provençals', 'Sant Martí'), ('Furgonetes', 'Sant Martí de Provençals', 'Sant Martí'), ('Furgonetes', 'Sant Martí de Provençals', 'Sant Martí'), ('Furgonetes', 'Sant Martí de Provençals', 'Sant Martí'), ('Camions', 'Sant Martí de Provençals', 'Sant Martí'), ('Camions', 'Sant Martí de Provençals', 'Sant Martí'), ('Camions', 'Sant Martí de Provençals', 'Sant Martí'), ('Camions', 'Sant Martí de Provençals', 'Sant Martí'), ('Altres vehicles', 'Sant Martí de Provençals', 'Sant Martí'), ('Altres vehicles', 'Sant Martí de Provençals', 'Sant Martí'), ('Altres vehicles', 'Sant Martí de Provençals', 'Sant Martí'), ('Altres vehicles', 'Sant Martí de Provençals', 'Sant Martí'), ('Turismes', 'la Verneda i la Pau', 'Sant Martí'), ('Turismes', 'la Verneda i la Pau', 'Sant Martí'), ('Turismes', 'la Verneda i la Pau', 'Sant Martí'), ('Turismes', 'la Verneda i la Pau', 'Sant Martí'), ('Turismes', 'la Verneda i la Pau', 'Sant Martí'), ('Turismes', 'la Verneda i la Pau', 'Sant Martí'), ('Motos', 'la Verneda i la Pau', 'Sant Martí'), ('Motos', 'la Verneda i la Pau', 'Sant Martí'), ('Motos', 'la Verneda i la Pau', 'Sant Martí'), ('Motos', 'la Verneda i la Pau', 'Sant Martí'), ('Motos', 'la Verneda i la Pau', 'Sant Martí'), ('Ciclomotors', 'la Verneda i la Pau', 'Sant Martí'), ('Ciclomotors', 'la Verneda i la Pau', 'Sant Martí'), ('Ciclomotors', 'la Verneda i la Pau', 'Sant Martí'), ('Ciclomotors', 'la Verneda i la Pau', 'Sant Martí'), ('Ciclomotors', 'la Verneda i la Pau', 'Sant Martí'), ('Furgonetes', 'la Verneda i la Pau', 'Sant Martí'), ('Furgonetes', 'la Verneda i la Pau', 'Sant Martí'), ('Furgonetes', 'la Verneda i la Pau', 'Sant Martí'), ('Furgonetes', 'la Verneda i la Pau', 'Sant Martí'), ('Furgonetes', 'la Verneda i la Pau', 'Sant Martí'), ('Camions', 'la Verneda i la Pau', 'Sant Martí'), ('Camions', 'la Verneda i la Pau', 'Sant Martí'), ('Camions', 'la Verneda i la Pau', 'Sant Martí'), ('Camions', 'la Verneda i la Pau', 'Sant Martí'), ('Altres vehicles', 'la Verneda i la Pau', 'Sant Martí'), ('Altres vehicles', 'la Verneda i la Pau', 'Sant Martí'), ('Altres vehicles', 'la Verneda i la Pau', 'Sant Martí'), ('Altres vehicles', 'la Verneda i la Pau', 'Sant Martí'), ('Turismes', 'No consta', 'No consta'), ('Turismes', 'No consta', 'No consta'), ('Turismes', 'No consta', 'No consta'), ('Turismes', 'No consta', 'No consta'), ('Turismes', 'No consta', 'No consta'), ('Turismes', 'No consta', 'No consta'), ('Motos', 'No consta', 'No consta'), ('Motos', 'No consta', 'No consta'), ('Motos', 'No consta', 'No consta'), ('Motos', 'No consta', 'No consta'), ('Motos', 'No consta', 'No consta'), ('Ciclomotors', 'No consta', 'No consta'), ('Ciclomotors', 'No consta', 'No consta'), ('Ciclomotors', 'No consta', 'No consta'), ('Furgonetes', 'No consta', 'No consta'), ('Furgonetes', 'No consta', 'No consta'), ('Furgonetes', 'No consta', 'No consta'), ('Camions', 'No consta', 'No consta'), ('Camions', 'No consta', 'No consta'), ('Altres vehicles', 'No consta', 'No consta')]\n"
     ]
    }
   ],
   "source": [
    "cursor.execute(\"SELECT Tipus_Vehicles, Nom_barri, Nom_districte FROM vehiculos\")\n",
    "print(cursor.fetchall())\n",
    "connect.commit()"
   ]
  },
  {
   "cell_type": "markdown",
   "metadata": {},
   "source": [
    "Haga una consulta SQL seleccionando las mismas columnas, pero haciendo un filtro simple: Filtrando por nombre de distrito \"Ciutat Vella\""
   ]
  },
  {
   "cell_type": "code",
   "execution_count": 35,
   "metadata": {},
   "outputs": [
    {
     "name": "stdout",
     "output_type": "stream",
     "text": [
      "[('Turismes', 'el Raval', 'Ciutat Vella'), ('Turismes', 'el Raval', 'Ciutat Vella'), ('Turismes', 'el Raval', 'Ciutat Vella'), ('Turismes', 'el Raval', 'Ciutat Vella'), ('Turismes', 'el Raval', 'Ciutat Vella'), ('Turismes', 'el Raval', 'Ciutat Vella'), ('Motos', 'el Raval', 'Ciutat Vella'), ('Motos', 'el Raval', 'Ciutat Vella'), ('Motos', 'el Raval', 'Ciutat Vella'), ('Motos', 'el Raval', 'Ciutat Vella'), ('Motos', 'el Raval', 'Ciutat Vella'), ('Ciclomotors', 'el Raval', 'Ciutat Vella'), ('Ciclomotors', 'el Raval', 'Ciutat Vella'), ('Ciclomotors', 'el Raval', 'Ciutat Vella'), ('Ciclomotors', 'el Raval', 'Ciutat Vella'), ('Ciclomotors', 'el Raval', 'Ciutat Vella'), ('Furgonetes', 'el Raval', 'Ciutat Vella'), ('Furgonetes', 'el Raval', 'Ciutat Vella'), ('Furgonetes', 'el Raval', 'Ciutat Vella'), ('Furgonetes', 'el Raval', 'Ciutat Vella'), ('Furgonetes', 'el Raval', 'Ciutat Vella'), ('Furgonetes', 'el Raval', 'Ciutat Vella'), ('Camions', 'el Raval', 'Ciutat Vella'), ('Camions', 'el Raval', 'Ciutat Vella'), ('Camions', 'el Raval', 'Ciutat Vella'), ('Camions', 'el Raval', 'Ciutat Vella'), ('Camions', 'el Raval', 'Ciutat Vella'), ('Altres vehicles', 'el Raval', 'Ciutat Vella'), ('Altres vehicles', 'el Raval', 'Ciutat Vella'), ('Altres vehicles', 'el Raval', 'Ciutat Vella'), ('Altres vehicles', 'el Raval', 'Ciutat Vella'), ('Turismes', 'el Barri Gòtic', 'Ciutat Vella'), ('Turismes', 'el Barri Gòtic', 'Ciutat Vella'), ('Turismes', 'el Barri Gòtic', 'Ciutat Vella'), ('Turismes', 'el Barri Gòtic', 'Ciutat Vella'), ('Turismes', 'el Barri Gòtic', 'Ciutat Vella'), ('Turismes', 'el Barri Gòtic', 'Ciutat Vella'), ('Motos', 'el Barri Gòtic', 'Ciutat Vella'), ('Motos', 'el Barri Gòtic', 'Ciutat Vella'), ('Motos', 'el Barri Gòtic', 'Ciutat Vella'), ('Motos', 'el Barri Gòtic', 'Ciutat Vella'), ('Motos', 'el Barri Gòtic', 'Ciutat Vella'), ('Ciclomotors', 'el Barri Gòtic', 'Ciutat Vella'), ('Ciclomotors', 'el Barri Gòtic', 'Ciutat Vella'), ('Ciclomotors', 'el Barri Gòtic', 'Ciutat Vella'), ('Ciclomotors', 'el Barri Gòtic', 'Ciutat Vella'), ('Ciclomotors', 'el Barri Gòtic', 'Ciutat Vella'), ('Furgonetes', 'el Barri Gòtic', 'Ciutat Vella'), ('Furgonetes', 'el Barri Gòtic', 'Ciutat Vella'), ('Furgonetes', 'el Barri Gòtic', 'Ciutat Vella'), ('Furgonetes', 'el Barri Gòtic', 'Ciutat Vella'), ('Furgonetes', 'el Barri Gòtic', 'Ciutat Vella'), ('Furgonetes', 'el Barri Gòtic', 'Ciutat Vella'), ('Camions', 'el Barri Gòtic', 'Ciutat Vella'), ('Camions', 'el Barri Gòtic', 'Ciutat Vella'), ('Camions', 'el Barri Gòtic', 'Ciutat Vella'), ('Camions', 'el Barri Gòtic', 'Ciutat Vella'), ('Camions', 'el Barri Gòtic', 'Ciutat Vella'), ('Camions', 'el Barri Gòtic', 'Ciutat Vella'), ('Altres vehicles', 'el Barri Gòtic', 'Ciutat Vella'), ('Altres vehicles', 'el Barri Gòtic', 'Ciutat Vella'), ('Altres vehicles', 'el Barri Gòtic', 'Ciutat Vella'), ('Altres vehicles', 'el Barri Gòtic', 'Ciutat Vella'), ('Turismes', 'la Barceloneta', 'Ciutat Vella'), ('Turismes', 'la Barceloneta', 'Ciutat Vella'), ('Turismes', 'la Barceloneta', 'Ciutat Vella'), ('Turismes', 'la Barceloneta', 'Ciutat Vella'), ('Turismes', 'la Barceloneta', 'Ciutat Vella'), ('Turismes', 'la Barceloneta', 'Ciutat Vella'), ('Motos', 'la Barceloneta', 'Ciutat Vella'), ('Motos', 'la Barceloneta', 'Ciutat Vella'), ('Motos', 'la Barceloneta', 'Ciutat Vella'), ('Motos', 'la Barceloneta', 'Ciutat Vella'), ('Motos', 'la Barceloneta', 'Ciutat Vella'), ('Ciclomotors', 'la Barceloneta', 'Ciutat Vella'), ('Ciclomotors', 'la Barceloneta', 'Ciutat Vella'), ('Ciclomotors', 'la Barceloneta', 'Ciutat Vella'), ('Ciclomotors', 'la Barceloneta', 'Ciutat Vella'), ('Ciclomotors', 'la Barceloneta', 'Ciutat Vella'), ('Furgonetes', 'la Barceloneta', 'Ciutat Vella'), ('Furgonetes', 'la Barceloneta', 'Ciutat Vella'), ('Furgonetes', 'la Barceloneta', 'Ciutat Vella'), ('Furgonetes', 'la Barceloneta', 'Ciutat Vella'), ('Furgonetes', 'la Barceloneta', 'Ciutat Vella'), ('Furgonetes', 'la Barceloneta', 'Ciutat Vella'), ('Camions', 'la Barceloneta', 'Ciutat Vella'), ('Camions', 'la Barceloneta', 'Ciutat Vella'), ('Camions', 'la Barceloneta', 'Ciutat Vella'), ('Camions', 'la Barceloneta', 'Ciutat Vella'), ('Camions', 'la Barceloneta', 'Ciutat Vella'), ('Altres vehicles', 'la Barceloneta', 'Ciutat Vella'), ('Altres vehicles', 'la Barceloneta', 'Ciutat Vella'), ('Altres vehicles', 'la Barceloneta', 'Ciutat Vella'), ('Altres vehicles', 'la Barceloneta', 'Ciutat Vella'), ('Turismes', 'Sant Pere, Santa Caterina i la Ribera', 'Ciutat Vella'), ('Turismes', 'Sant Pere, Santa Caterina i la Ribera', 'Ciutat Vella'), ('Turismes', 'Sant Pere, Santa Caterina i la Ribera', 'Ciutat Vella'), ('Turismes', 'Sant Pere, Santa Caterina i la Ribera', 'Ciutat Vella'), ('Turismes', 'Sant Pere, Santa Caterina i la Ribera', 'Ciutat Vella'), ('Turismes', 'Sant Pere, Santa Caterina i la Ribera', 'Ciutat Vella'), ('Motos', 'Sant Pere, Santa Caterina i la Ribera', 'Ciutat Vella'), ('Motos', 'Sant Pere, Santa Caterina i la Ribera', 'Ciutat Vella'), ('Motos', 'Sant Pere, Santa Caterina i la Ribera', 'Ciutat Vella'), ('Motos', 'Sant Pere, Santa Caterina i la Ribera', 'Ciutat Vella'), ('Motos', 'Sant Pere, Santa Caterina i la Ribera', 'Ciutat Vella'), ('Ciclomotors', 'Sant Pere, Santa Caterina i la Ribera', 'Ciutat Vella'), ('Ciclomotors', 'Sant Pere, Santa Caterina i la Ribera', 'Ciutat Vella'), ('Ciclomotors', 'Sant Pere, Santa Caterina i la Ribera', 'Ciutat Vella'), ('Ciclomotors', 'Sant Pere, Santa Caterina i la Ribera', 'Ciutat Vella'), ('Ciclomotors', 'Sant Pere, Santa Caterina i la Ribera', 'Ciutat Vella'), ('Furgonetes', 'Sant Pere, Santa Caterina i la Ribera', 'Ciutat Vella'), ('Furgonetes', 'Sant Pere, Santa Caterina i la Ribera', 'Ciutat Vella'), ('Furgonetes', 'Sant Pere, Santa Caterina i la Ribera', 'Ciutat Vella'), ('Furgonetes', 'Sant Pere, Santa Caterina i la Ribera', 'Ciutat Vella'), ('Furgonetes', 'Sant Pere, Santa Caterina i la Ribera', 'Ciutat Vella'), ('Camions', 'Sant Pere, Santa Caterina i la Ribera', 'Ciutat Vella'), ('Camions', 'Sant Pere, Santa Caterina i la Ribera', 'Ciutat Vella'), ('Camions', 'Sant Pere, Santa Caterina i la Ribera', 'Ciutat Vella'), ('Camions', 'Sant Pere, Santa Caterina i la Ribera', 'Ciutat Vella'), ('Altres vehicles', 'Sant Pere, Santa Caterina i la Ribera', 'Ciutat Vella'), ('Altres vehicles', 'Sant Pere, Santa Caterina i la Ribera', 'Ciutat Vella'), ('Altres vehicles', 'Sant Pere, Santa Caterina i la Ribera', 'Ciutat Vella'), ('Altres vehicles', 'Sant Pere, Santa Caterina i la Ribera', 'Ciutat Vella')]\n"
     ]
    }
   ],
   "source": [
    "cursor.execute(\"SELECT Tipus_Vehicles, Nom_barri, Nom_districte FROM vehiculos where Nom_districte like '%Ciutat Vella%'\")\n",
    "print(cursor.fetchall())\n",
    "connect.commit()"
   ]
  },
  {
   "cell_type": "markdown",
   "metadata": {},
   "source": [
    "Haga una consulta SQL seleccionando las mismas columnas, pero haciendo un filtro simple: Filtrando por Tipo de vehiculo \"Furgonetas\" (Furgonetes)"
   ]
  },
  {
   "cell_type": "code",
   "execution_count": 36,
   "metadata": {},
   "outputs": [
    {
     "data": {
      "text/plain": [
       "array(['Turismes', 'Motos', 'Ciclomotors', 'Furgonetes', 'Camions',\n",
       "       'Altres vehicles'], dtype=object)"
      ]
     },
     "execution_count": 36,
     "metadata": {},
     "output_type": "execute_result"
    }
   ],
   "source": [
    "df.Tipus_Vehicles.unique()"
   ]
  },
  {
   "cell_type": "code",
   "execution_count": 37,
   "metadata": {},
   "outputs": [
    {
     "name": "stdout",
     "output_type": "stream",
     "text": [
      "[('Furgonetes', 'el Raval', 'Ciutat Vella'), ('Furgonetes', 'el Raval', 'Ciutat Vella'), ('Furgonetes', 'el Raval', 'Ciutat Vella'), ('Furgonetes', 'el Raval', 'Ciutat Vella'), ('Furgonetes', 'el Raval', 'Ciutat Vella'), ('Furgonetes', 'el Raval', 'Ciutat Vella'), ('Furgonetes', 'el Barri Gòtic', 'Ciutat Vella'), ('Furgonetes', 'el Barri Gòtic', 'Ciutat Vella'), ('Furgonetes', 'el Barri Gòtic', 'Ciutat Vella'), ('Furgonetes', 'el Barri Gòtic', 'Ciutat Vella'), ('Furgonetes', 'el Barri Gòtic', 'Ciutat Vella'), ('Furgonetes', 'el Barri Gòtic', 'Ciutat Vella'), ('Furgonetes', 'la Barceloneta', 'Ciutat Vella'), ('Furgonetes', 'la Barceloneta', 'Ciutat Vella'), ('Furgonetes', 'la Barceloneta', 'Ciutat Vella'), ('Furgonetes', 'la Barceloneta', 'Ciutat Vella'), ('Furgonetes', 'la Barceloneta', 'Ciutat Vella'), ('Furgonetes', 'la Barceloneta', 'Ciutat Vella'), ('Furgonetes', 'Sant Pere, Santa Caterina i la Ribera', 'Ciutat Vella'), ('Furgonetes', 'Sant Pere, Santa Caterina i la Ribera', 'Ciutat Vella'), ('Furgonetes', 'Sant Pere, Santa Caterina i la Ribera', 'Ciutat Vella'), ('Furgonetes', 'Sant Pere, Santa Caterina i la Ribera', 'Ciutat Vella'), ('Furgonetes', 'Sant Pere, Santa Caterina i la Ribera', 'Ciutat Vella'), ('Furgonetes', 'el Fort Pienc', 'Eixample'), ('Furgonetes', 'el Fort Pienc', 'Eixample'), ('Furgonetes', 'el Fort Pienc', 'Eixample'), ('Furgonetes', 'el Fort Pienc', 'Eixample'), ('Furgonetes', 'el Fort Pienc', 'Eixample'), ('Furgonetes', 'la Sagrada Família', 'Eixample'), ('Furgonetes', 'la Sagrada Família', 'Eixample'), ('Furgonetes', 'la Sagrada Família', 'Eixample'), ('Furgonetes', 'la Sagrada Família', 'Eixample'), ('Furgonetes', 'la Sagrada Família', 'Eixample'), ('Furgonetes', 'la Sagrada Família', 'Eixample'), ('Furgonetes', \"la Dreta de l'Eixample\", 'Eixample'), ('Furgonetes', \"la Dreta de l'Eixample\", 'Eixample'), ('Furgonetes', \"la Dreta de l'Eixample\", 'Eixample'), ('Furgonetes', \"la Dreta de l'Eixample\", 'Eixample'), ('Furgonetes', \"la Dreta de l'Eixample\", 'Eixample'), ('Furgonetes', \"la Dreta de l'Eixample\", 'Eixample'), ('Furgonetes', \"l'Antiga Esquerra de l'Eixample\", 'Eixample'), ('Furgonetes', \"l'Antiga Esquerra de l'Eixample\", 'Eixample'), ('Furgonetes', \"l'Antiga Esquerra de l'Eixample\", 'Eixample'), ('Furgonetes', \"l'Antiga Esquerra de l'Eixample\", 'Eixample'), ('Furgonetes', \"l'Antiga Esquerra de l'Eixample\", 'Eixample'), ('Furgonetes', \"l'Antiga Esquerra de l'Eixample\", 'Eixample'), ('Furgonetes', \"la Nova Esquerra de l'Eixample\", 'Eixample'), ('Furgonetes', \"la Nova Esquerra de l'Eixample\", 'Eixample'), ('Furgonetes', \"la Nova Esquerra de l'Eixample\", 'Eixample'), ('Furgonetes', \"la Nova Esquerra de l'Eixample\", 'Eixample'), ('Furgonetes', \"la Nova Esquerra de l'Eixample\", 'Eixample'), ('Furgonetes', \"la Nova Esquerra de l'Eixample\", 'Eixample'), ('Furgonetes', 'Sant Antoni', 'Eixample'), ('Furgonetes', 'Sant Antoni', 'Eixample'), ('Furgonetes', 'Sant Antoni', 'Eixample'), ('Furgonetes', 'Sant Antoni', 'Eixample'), ('Furgonetes', 'Sant Antoni', 'Eixample'), ('Furgonetes', 'Sant Antoni', 'Eixample'), ('Furgonetes', 'el Poble Sec - AEI Parc Montjuïc', 'Sants-Montjuïc'), ('Furgonetes', 'el Poble Sec - AEI Parc Montjuïc', 'Sants-Montjuïc'), ('Furgonetes', 'el Poble Sec - AEI Parc Montjuïc', 'Sants-Montjuïc'), ('Furgonetes', 'el Poble Sec - AEI Parc Montjuïc', 'Sants-Montjuïc'), ('Furgonetes', 'el Poble Sec - AEI Parc Montjuïc', 'Sants-Montjuïc'), ('Furgonetes', 'el Poble Sec - AEI Parc Montjuïc', 'Sants-Montjuïc'), ('Furgonetes', 'la Marina del Prat Vermell - AEI Zona Franca', 'Sants-Montjuïc'), ('Furgonetes', 'la Marina del Prat Vermell - AEI Zona Franca', 'Sants-Montjuïc'), ('Furgonetes', 'la Marina del Prat Vermell - AEI Zona Franca', 'Sants-Montjuïc'), ('Furgonetes', 'la Marina del Prat Vermell - AEI Zona Franca', 'Sants-Montjuïc'), ('Furgonetes', 'la Marina del Prat Vermell - AEI Zona Franca', 'Sants-Montjuïc'), ('Furgonetes', 'la Marina del Prat Vermell - AEI Zona Franca', 'Sants-Montjuïc'), ('Furgonetes', 'la Marina de Port', 'Sants-Montjuïc'), ('Furgonetes', 'la Marina de Port', 'Sants-Montjuïc'), ('Furgonetes', 'la Marina de Port', 'Sants-Montjuïc'), ('Furgonetes', 'la Marina de Port', 'Sants-Montjuïc'), ('Furgonetes', 'la Marina de Port', 'Sants-Montjuïc'), ('Furgonetes', 'la Font de la Guatlla', 'Sants-Montjuïc'), ('Furgonetes', 'la Font de la Guatlla', 'Sants-Montjuïc'), ('Furgonetes', 'la Font de la Guatlla', 'Sants-Montjuïc'), ('Furgonetes', 'la Font de la Guatlla', 'Sants-Montjuïc'), ('Furgonetes', 'Hostafrancs', 'Sants-Montjuïc'), ('Furgonetes', 'Hostafrancs', 'Sants-Montjuïc'), ('Furgonetes', 'Hostafrancs', 'Sants-Montjuïc'), ('Furgonetes', 'Hostafrancs', 'Sants-Montjuïc'), ('Furgonetes', 'Hostafrancs', 'Sants-Montjuïc'), ('Furgonetes', 'la Bordeta', 'Sants-Montjuïc'), ('Furgonetes', 'la Bordeta', 'Sants-Montjuïc'), ('Furgonetes', 'la Bordeta', 'Sants-Montjuïc'), ('Furgonetes', 'la Bordeta', 'Sants-Montjuïc'), ('Furgonetes', 'la Bordeta', 'Sants-Montjuïc'), ('Furgonetes', 'la Bordeta', 'Sants-Montjuïc'), ('Furgonetes', 'Sants - Badal', 'Sants-Montjuïc'), ('Furgonetes', 'Sants - Badal', 'Sants-Montjuïc'), ('Furgonetes', 'Sants - Badal', 'Sants-Montjuïc'), ('Furgonetes', 'Sants - Badal', 'Sants-Montjuïc'), ('Furgonetes', 'Sants - Badal', 'Sants-Montjuïc'), ('Furgonetes', 'Sants', 'Sants-Montjuïc'), ('Furgonetes', 'Sants', 'Sants-Montjuïc'), ('Furgonetes', 'Sants', 'Sants-Montjuïc'), ('Furgonetes', 'Sants', 'Sants-Montjuïc'), ('Furgonetes', 'Sants', 'Sants-Montjuïc'), ('Furgonetes', 'Sants', 'Sants-Montjuïc'), ('Furgonetes', 'les Corts', 'Les Corts'), ('Furgonetes', 'les Corts', 'Les Corts'), ('Furgonetes', 'les Corts', 'Les Corts'), ('Furgonetes', 'les Corts', 'Les Corts'), ('Furgonetes', 'les Corts', 'Les Corts'), ('Furgonetes', 'les Corts', 'Les Corts'), ('Furgonetes', 'la Maternitat i Sant Ramon', 'Les Corts'), ('Furgonetes', 'la Maternitat i Sant Ramon', 'Les Corts'), ('Furgonetes', 'la Maternitat i Sant Ramon', 'Les Corts'), ('Furgonetes', 'la Maternitat i Sant Ramon', 'Les Corts'), ('Furgonetes', 'la Maternitat i Sant Ramon', 'Les Corts'), ('Furgonetes', 'la Maternitat i Sant Ramon', 'Les Corts'), ('Furgonetes', 'Pedralbes', 'Les Corts'), ('Furgonetes', 'Pedralbes', 'Les Corts'), ('Furgonetes', 'Pedralbes', 'Les Corts'), ('Furgonetes', 'Pedralbes', 'Les Corts'), ('Furgonetes', 'Vallvidrera, el Tibidabo i les Planes', 'Sarrià-St. Gervasi'), ('Furgonetes', 'Vallvidrera, el Tibidabo i les Planes', 'Sarrià-St. Gervasi'), ('Furgonetes', 'Vallvidrera, el Tibidabo i les Planes', 'Sarrià-St. Gervasi'), ('Furgonetes', 'Vallvidrera, el Tibidabo i les Planes', 'Sarrià-St. Gervasi'), ('Furgonetes', 'Sarrià', 'Sarrià-St. Gervasi'), ('Furgonetes', 'Sarrià', 'Sarrià-St. Gervasi'), ('Furgonetes', 'Sarrià', 'Sarrià-St. Gervasi'), ('Furgonetes', 'Sarrià', 'Sarrià-St. Gervasi'), ('Furgonetes', 'Sarrià', 'Sarrià-St. Gervasi'), ('Furgonetes', 'Sarrià', 'Sarrià-St. Gervasi'), ('Furgonetes', 'les Tres Torres', 'Sarrià-St. Gervasi'), ('Furgonetes', 'les Tres Torres', 'Sarrià-St. Gervasi'), ('Furgonetes', 'les Tres Torres', 'Sarrià-St. Gervasi'), ('Furgonetes', 'les Tres Torres', 'Sarrià-St. Gervasi'), ('Furgonetes', 'les Tres Torres', 'Sarrià-St. Gervasi'), ('Furgonetes', 'les Tres Torres', 'Sarrià-St. Gervasi'), ('Furgonetes', 'Sant Gervasi - la Bonanova', 'Sarrià-St. Gervasi'), ('Furgonetes', 'Sant Gervasi - la Bonanova', 'Sarrià-St. Gervasi'), ('Furgonetes', 'Sant Gervasi - la Bonanova', 'Sarrià-St. Gervasi'), ('Furgonetes', 'Sant Gervasi - la Bonanova', 'Sarrià-St. Gervasi'), ('Furgonetes', 'Sant Gervasi - la Bonanova', 'Sarrià-St. Gervasi'), ('Furgonetes', 'Sant Gervasi - la Bonanova', 'Sarrià-St. Gervasi'), ('Furgonetes', 'Sant Gervasi - Galvany', 'Sarrià-St. Gervasi'), ('Furgonetes', 'Sant Gervasi - Galvany', 'Sarrià-St. Gervasi'), ('Furgonetes', 'Sant Gervasi - Galvany', 'Sarrià-St. Gervasi'), ('Furgonetes', 'Sant Gervasi - Galvany', 'Sarrià-St. Gervasi'), ('Furgonetes', 'Sant Gervasi - Galvany', 'Sarrià-St. Gervasi'), ('Furgonetes', 'Sant Gervasi - Galvany', 'Sarrià-St. Gervasi'), ('Furgonetes', 'el Putxet i el Farró', 'Sarrià-St. Gervasi'), ('Furgonetes', 'el Putxet i el Farró', 'Sarrià-St. Gervasi'), ('Furgonetes', 'el Putxet i el Farró', 'Sarrià-St. Gervasi'), ('Furgonetes', 'el Putxet i el Farró', 'Sarrià-St. Gervasi'), ('Furgonetes', 'el Putxet i el Farró', 'Sarrià-St. Gervasi'), ('Furgonetes', 'Vallcarca i els Penitents', 'Gràcia'), ('Furgonetes', 'Vallcarca i els Penitents', 'Gràcia'), ('Furgonetes', 'Vallcarca i els Penitents', 'Gràcia'), ('Furgonetes', 'Vallcarca i els Penitents', 'Gràcia'), ('Furgonetes', 'Vallcarca i els Penitents', 'Gràcia'), ('Furgonetes', 'el Coll', 'Gràcia'), ('Furgonetes', 'el Coll', 'Gràcia'), ('Furgonetes', 'el Coll', 'Gràcia'), ('Furgonetes', 'la Salut', 'Gràcia'), ('Furgonetes', 'la Salut', 'Gràcia'), ('Furgonetes', 'la Salut', 'Gràcia'), ('Furgonetes', 'la Salut', 'Gràcia'), ('Furgonetes', 'la Salut', 'Gràcia'), ('Furgonetes', 'la Vila de Gràcia', 'Gràcia'), ('Furgonetes', 'la Vila de Gràcia', 'Gràcia'), ('Furgonetes', 'la Vila de Gràcia', 'Gràcia'), ('Furgonetes', 'la Vila de Gràcia', 'Gràcia'), ('Furgonetes', 'la Vila de Gràcia', 'Gràcia'), ('Furgonetes', 'la Vila de Gràcia', 'Gràcia'), ('Furgonetes', \"el Camp d'en Grassot i Gràcia Nova\", 'Gràcia'), ('Furgonetes', \"el Camp d'en Grassot i Gràcia Nova\", 'Gràcia'), ('Furgonetes', \"el Camp d'en Grassot i Gràcia Nova\", 'Gràcia'), ('Furgonetes', \"el Camp d'en Grassot i Gràcia Nova\", 'Gràcia'), ('Furgonetes', \"el Camp d'en Grassot i Gràcia Nova\", 'Gràcia'), ('Furgonetes', 'el Baix Guinardó', 'Horta-Guinardó'), ('Furgonetes', 'el Baix Guinardó', 'Horta-Guinardó'), ('Furgonetes', 'el Baix Guinardó', 'Horta-Guinardó'), ('Furgonetes', 'el Baix Guinardó', 'Horta-Guinardó'), ('Furgonetes', 'el Baix Guinardó', 'Horta-Guinardó'), ('Furgonetes', 'el Baix Guinardó', 'Horta-Guinardó'), ('Furgonetes', 'Can Baró', 'Horta-Guinardó'), ('Furgonetes', 'Can Baró', 'Horta-Guinardó'), ('Furgonetes', 'Can Baró', 'Horta-Guinardó'), ('Furgonetes', 'Can Baró', 'Horta-Guinardó'), ('Furgonetes', 'Can Baró', 'Horta-Guinardó'), ('Furgonetes', 'Can Baró', 'Horta-Guinardó'), ('Furgonetes', 'el Guinardó', 'Horta-Guinardó'), ('Furgonetes', 'el Guinardó', 'Horta-Guinardó'), ('Furgonetes', 'el Guinardó', 'Horta-Guinardó'), ('Furgonetes', 'el Guinardó', 'Horta-Guinardó'), ('Furgonetes', 'el Guinardó', 'Horta-Guinardó'), ('Furgonetes', 'el Guinardó', 'Horta-Guinardó'), ('Furgonetes', \"la Font d'en Fargues\", 'Horta-Guinardó'), ('Furgonetes', \"la Font d'en Fargues\", 'Horta-Guinardó'), ('Furgonetes', \"la Font d'en Fargues\", 'Horta-Guinardó'), ('Furgonetes', 'el Carmel', 'Horta-Guinardó'), ('Furgonetes', 'el Carmel', 'Horta-Guinardó'), ('Furgonetes', 'el Carmel', 'Horta-Guinardó'), ('Furgonetes', 'el Carmel', 'Horta-Guinardó'), ('Furgonetes', 'el Carmel', 'Horta-Guinardó'), ('Furgonetes', 'el Carmel', 'Horta-Guinardó'), ('Furgonetes', 'la Teixonera', 'Horta-Guinardó'), ('Furgonetes', 'la Teixonera', 'Horta-Guinardó'), ('Furgonetes', 'la Teixonera', 'Horta-Guinardó'), ('Furgonetes', 'la Teixonera', 'Horta-Guinardó'), ('Furgonetes', 'la Teixonera', 'Horta-Guinardó'), ('Furgonetes', 'Sant Genís dels Agudells', 'Horta-Guinardó'), ('Furgonetes', 'Sant Genís dels Agudells', 'Horta-Guinardó'), ('Furgonetes', 'Sant Genís dels Agudells', 'Horta-Guinardó'), ('Furgonetes', 'Sant Genís dels Agudells', 'Horta-Guinardó'), ('Furgonetes', 'Sant Genís dels Agudells', 'Horta-Guinardó'), ('Furgonetes', 'Montbau', 'Horta-Guinardó'), ('Furgonetes', 'Montbau', 'Horta-Guinardó'), ('Furgonetes', 'Montbau', 'Horta-Guinardó'), ('Furgonetes', 'Montbau', 'Horta-Guinardó'), ('Furgonetes', \"la Vall d'Hebron\", 'Horta-Guinardó'), ('Furgonetes', \"la Vall d'Hebron\", 'Horta-Guinardó'), ('Furgonetes', \"la Vall d'Hebron\", 'Horta-Guinardó'), ('Furgonetes', \"la Vall d'Hebron\", 'Horta-Guinardó'), ('Furgonetes', 'la Clota', 'Horta-Guinardó'), ('Furgonetes', 'la Clota', 'Horta-Guinardó'), ('Furgonetes', 'la Clota', 'Horta-Guinardó'), ('Furgonetes', 'la Clota', 'Horta-Guinardó'), ('Furgonetes', 'Horta', 'Horta-Guinardó'), ('Furgonetes', 'Horta', 'Horta-Guinardó'), ('Furgonetes', 'Horta', 'Horta-Guinardó'), ('Furgonetes', 'Horta', 'Horta-Guinardó'), ('Furgonetes', 'Horta', 'Horta-Guinardó'), ('Furgonetes', 'Vilapicina i la Torre Llobeta', 'Nou Barris'), ('Furgonetes', 'Vilapicina i la Torre Llobeta', 'Nou Barris'), ('Furgonetes', 'Vilapicina i la Torre Llobeta', 'Nou Barris'), ('Furgonetes', 'Vilapicina i la Torre Llobeta', 'Nou Barris'), ('Furgonetes', 'Vilapicina i la Torre Llobeta', 'Nou Barris'), ('Furgonetes', 'Porta', 'Nou Barris'), ('Furgonetes', 'Porta', 'Nou Barris'), ('Furgonetes', 'Porta', 'Nou Barris'), ('Furgonetes', 'Porta', 'Nou Barris'), ('Furgonetes', 'Porta', 'Nou Barris'), ('Furgonetes', 'el Turó de la Peira', 'Nou Barris'), ('Furgonetes', 'el Turó de la Peira', 'Nou Barris'), ('Furgonetes', 'el Turó de la Peira', 'Nou Barris'), ('Furgonetes', 'el Turó de la Peira', 'Nou Barris'), ('Furgonetes', 'Can Peguera', 'Nou Barris'), ('Furgonetes', 'Can Peguera', 'Nou Barris'), ('Furgonetes', 'Can Peguera', 'Nou Barris'), ('Furgonetes', 'la Guineueta', 'Nou Barris'), ('Furgonetes', 'la Guineueta', 'Nou Barris'), ('Furgonetes', 'la Guineueta', 'Nou Barris'), ('Furgonetes', 'la Guineueta', 'Nou Barris'), ('Furgonetes', 'la Guineueta', 'Nou Barris'), ('Furgonetes', 'Canyelles', 'Nou Barris'), ('Furgonetes', 'Canyelles', 'Nou Barris'), ('Furgonetes', 'Canyelles', 'Nou Barris'), ('Furgonetes', 'Canyelles', 'Nou Barris'), ('Furgonetes', 'les Roquetes', 'Nou Barris'), ('Furgonetes', 'les Roquetes', 'Nou Barris'), ('Furgonetes', 'les Roquetes', 'Nou Barris'), ('Furgonetes', 'les Roquetes', 'Nou Barris'), ('Furgonetes', 'les Roquetes', 'Nou Barris'), ('Furgonetes', 'Verdun', 'Nou Barris'), ('Furgonetes', 'Verdun', 'Nou Barris'), ('Furgonetes', 'Verdun', 'Nou Barris'), ('Furgonetes', 'Verdun', 'Nou Barris'), ('Furgonetes', 'la Prosperitat', 'Nou Barris'), ('Furgonetes', 'la Prosperitat', 'Nou Barris'), ('Furgonetes', 'la Prosperitat', 'Nou Barris'), ('Furgonetes', 'la Prosperitat', 'Nou Barris'), ('Furgonetes', 'la Prosperitat', 'Nou Barris'), ('Furgonetes', 'la Trinitat Nova', 'Nou Barris'), ('Furgonetes', 'la Trinitat Nova', 'Nou Barris'), ('Furgonetes', 'la Trinitat Nova', 'Nou Barris'), ('Furgonetes', 'la Trinitat Nova', 'Nou Barris'), ('Furgonetes', 'la Trinitat Nova', 'Nou Barris'), ('Furgonetes', 'Torre Baró', 'Nou Barris'), ('Furgonetes', 'Torre Baró', 'Nou Barris'), ('Furgonetes', 'Torre Baró', 'Nou Barris'), ('Furgonetes', 'Torre Baró', 'Nou Barris'), ('Furgonetes', 'Ciutat Meridiana', 'Nou Barris'), ('Furgonetes', 'Ciutat Meridiana', 'Nou Barris'), ('Furgonetes', 'Ciutat Meridiana', 'Nou Barris'), ('Furgonetes', 'Ciutat Meridiana', 'Nou Barris'), ('Furgonetes', 'Vallbona', 'Nou Barris'), ('Furgonetes', 'Vallbona', 'Nou Barris'), ('Furgonetes', 'Vallbona', 'Nou Barris'), ('Furgonetes', 'Vallbona', 'Nou Barris'), ('Furgonetes', 'la Trinitat Vella', 'Sant Andreu'), ('Furgonetes', 'la Trinitat Vella', 'Sant Andreu'), ('Furgonetes', 'la Trinitat Vella', 'Sant Andreu'), ('Furgonetes', 'la Trinitat Vella', 'Sant Andreu'), ('Furgonetes', 'la Trinitat Vella', 'Sant Andreu'), ('Furgonetes', 'Baró de Viver', 'Sant Andreu'), ('Furgonetes', 'Baró de Viver', 'Sant Andreu'), ('Furgonetes', 'Baró de Viver', 'Sant Andreu'), ('Furgonetes', 'el Bon Pastor', 'Sant Andreu'), ('Furgonetes', 'el Bon Pastor', 'Sant Andreu'), ('Furgonetes', 'el Bon Pastor', 'Sant Andreu'), ('Furgonetes', 'el Bon Pastor', 'Sant Andreu'), ('Furgonetes', 'el Bon Pastor', 'Sant Andreu'), ('Furgonetes', 'el Bon Pastor', 'Sant Andreu'), ('Furgonetes', 'Sant Andreu', 'Sant Andreu'), ('Furgonetes', 'Sant Andreu', 'Sant Andreu'), ('Furgonetes', 'Sant Andreu', 'Sant Andreu'), ('Furgonetes', 'Sant Andreu', 'Sant Andreu'), ('Furgonetes', 'Sant Andreu', 'Sant Andreu'), ('Furgonetes', 'Sant Andreu', 'Sant Andreu'), ('Furgonetes', 'la Sagrera', 'Sant Andreu'), ('Furgonetes', 'la Sagrera', 'Sant Andreu'), ('Furgonetes', 'la Sagrera', 'Sant Andreu'), ('Furgonetes', 'la Sagrera', 'Sant Andreu'), ('Furgonetes', 'la Sagrera', 'Sant Andreu'), ('Furgonetes', 'el Congrés i els Indians', 'Sant Andreu'), ('Furgonetes', 'el Congrés i els Indians', 'Sant Andreu'), ('Furgonetes', 'el Congrés i els Indians', 'Sant Andreu'), ('Furgonetes', 'el Congrés i els Indians', 'Sant Andreu'), ('Furgonetes', 'el Congrés i els Indians', 'Sant Andreu'), ('Furgonetes', 'el Congrés i els Indians', 'Sant Andreu'), ('Furgonetes', 'Navas', 'Sant Andreu'), ('Furgonetes', 'Navas', 'Sant Andreu'), ('Furgonetes', 'Navas', 'Sant Andreu'), ('Furgonetes', 'Navas', 'Sant Andreu'), ('Furgonetes', 'Navas', 'Sant Andreu'), ('Furgonetes', \"el Camp de l'Arpa del Clot\", 'Sant Martí'), ('Furgonetes', \"el Camp de l'Arpa del Clot\", 'Sant Martí'), ('Furgonetes', \"el Camp de l'Arpa del Clot\", 'Sant Martí'), ('Furgonetes', \"el Camp de l'Arpa del Clot\", 'Sant Martí'), ('Furgonetes', 'el Clot', 'Sant Martí'), ('Furgonetes', 'el Clot', 'Sant Martí'), ('Furgonetes', 'el Clot', 'Sant Martí'), ('Furgonetes', 'el Clot', 'Sant Martí'), ('Furgonetes', 'el Clot', 'Sant Martí'), ('Furgonetes', 'el Parc i la Llacuna del Poblenou', 'Sant Martí'), ('Furgonetes', 'el Parc i la Llacuna del Poblenou', 'Sant Martí'), ('Furgonetes', 'el Parc i la Llacuna del Poblenou', 'Sant Martí'), ('Furgonetes', 'el Parc i la Llacuna del Poblenou', 'Sant Martí'), ('Furgonetes', 'el Parc i la Llacuna del Poblenou', 'Sant Martí'), ('Furgonetes', 'el Parc i la Llacuna del Poblenou', 'Sant Martí'), ('Furgonetes', 'la Vila Olímpica del Poblenou', 'Sant Martí'), ('Furgonetes', 'la Vila Olímpica del Poblenou', 'Sant Martí'), ('Furgonetes', 'la Vila Olímpica del Poblenou', 'Sant Martí'), ('Furgonetes', 'la Vila Olímpica del Poblenou', 'Sant Martí'), ('Furgonetes', 'la Vila Olímpica del Poblenou', 'Sant Martí'), ('Furgonetes', 'el Poblenou', 'Sant Martí'), ('Furgonetes', 'el Poblenou', 'Sant Martí'), ('Furgonetes', 'el Poblenou', 'Sant Martí'), ('Furgonetes', 'el Poblenou', 'Sant Martí'), ('Furgonetes', 'el Poblenou', 'Sant Martí'), ('Furgonetes', 'el Poblenou', 'Sant Martí'), ('Furgonetes', 'Diagonal Mar i el Front Marítim del Poblenou', 'Sant Martí'), ('Furgonetes', 'Diagonal Mar i el Front Marítim del Poblenou', 'Sant Martí'), ('Furgonetes', 'Diagonal Mar i el Front Marítim del Poblenou', 'Sant Martí'), ('Furgonetes', 'Diagonal Mar i el Front Marítim del Poblenou', 'Sant Martí'), ('Furgonetes', 'el Besòs i el Maresme', 'Sant Martí'), ('Furgonetes', 'el Besòs i el Maresme', 'Sant Martí'), ('Furgonetes', 'el Besòs i el Maresme', 'Sant Martí'), ('Furgonetes', 'el Besòs i el Maresme', 'Sant Martí'), ('Furgonetes', 'el Besòs i el Maresme', 'Sant Martí'), ('Furgonetes', 'Provençals del Poblenou', 'Sant Martí'), ('Furgonetes', 'Provençals del Poblenou', 'Sant Martí'), ('Furgonetes', 'Provençals del Poblenou', 'Sant Martí'), ('Furgonetes', 'Provençals del Poblenou', 'Sant Martí'), ('Furgonetes', 'Provençals del Poblenou', 'Sant Martí'), ('Furgonetes', 'Provençals del Poblenou', 'Sant Martí'), ('Furgonetes', 'Sant Martí de Provençals', 'Sant Martí'), ('Furgonetes', 'Sant Martí de Provençals', 'Sant Martí'), ('Furgonetes', 'Sant Martí de Provençals', 'Sant Martí'), ('Furgonetes', 'Sant Martí de Provençals', 'Sant Martí'), ('Furgonetes', 'Sant Martí de Provençals', 'Sant Martí'), ('Furgonetes', 'Sant Martí de Provençals', 'Sant Martí'), ('Furgonetes', 'la Verneda i la Pau', 'Sant Martí'), ('Furgonetes', 'la Verneda i la Pau', 'Sant Martí'), ('Furgonetes', 'la Verneda i la Pau', 'Sant Martí'), ('Furgonetes', 'la Verneda i la Pau', 'Sant Martí'), ('Furgonetes', 'la Verneda i la Pau', 'Sant Martí'), ('Furgonetes', 'No consta', 'No consta'), ('Furgonetes', 'No consta', 'No consta'), ('Furgonetes', 'No consta', 'No consta')]\n"
     ]
    }
   ],
   "source": [
    "cursor.execute(\"SELECT Tipus_Vehicles, Nom_barri, Nom_districte FROM vehiculos where Tipus_Vehicles = 'Furgonetes'\")\n",
    "print(cursor.fetchall())\n",
    "connect.commit()"
   ]
  },
  {
   "cell_type": "markdown",
   "metadata": {},
   "source": [
    "Haga una consulta seleccionando Tipos de Vehiculos filtrando por su sello ambiental: \"Etiqueta C – Verda\", ¿Cuales son los vehiculos presentes con dicho sello? (Utilize la clausula DISTINCT) ej: SELECT DISTINCT * from Tabla ¿Que es lo que observa? "
   ]
  },
  {
   "cell_type": "code",
   "execution_count": 38,
   "metadata": {},
   "outputs": [
    {
     "name": "stdout",
     "output_type": "stream",
     "text": [
      "[('Turismes',), ('Motos',), ('Ciclomotors',), ('Furgonetes',), ('Camions',), ('Altres vehicles',)]\n"
     ]
    }
   ],
   "source": [
    "cursor.execute(\"SELECT DISTINCT Tipus_Vehicles FROM vehiculos where Desc_distintiu_ambiental = 'Etiqueta C – Verda'\")\n",
    "print(cursor.fetchall())\n",
    "connect.commit()"
   ]
  },
  {
   "cell_type": "code",
   "execution_count": 39,
   "metadata": {},
   "outputs": [
    {
     "name": "stdout",
     "output_type": "stream",
     "text": [
      "[('Turismes',), ('Motos',), ('Ciclomotors',), ('Furgonetes',), ('Camions',), ('Altres vehicles',), ('Turismes',), ('Motos',), ('Ciclomotors',), ('Furgonetes',), ('Camions',), ('Altres vehicles',), ('Turismes',), ('Motos',), ('Ciclomotors',), ('Furgonetes',), ('Camions',), ('Altres vehicles',), ('Turismes',), ('Motos',), ('Ciclomotors',), ('Furgonetes',), ('Camions',), ('Altres vehicles',), ('Turismes',), ('Motos',), ('Ciclomotors',), ('Furgonetes',), ('Camions',), ('Altres vehicles',), ('Turismes',), ('Motos',), ('Ciclomotors',), ('Furgonetes',), ('Camions',), ('Altres vehicles',), ('Turismes',), ('Motos',), ('Ciclomotors',), ('Furgonetes',), ('Camions',), ('Altres vehicles',), ('Turismes',), ('Motos',), ('Ciclomotors',), ('Furgonetes',), ('Camions',), ('Altres vehicles',), ('Turismes',), ('Motos',), ('Ciclomotors',), ('Furgonetes',), ('Camions',), ('Altres vehicles',), ('Turismes',), ('Motos',), ('Ciclomotors',), ('Furgonetes',), ('Camions',), ('Altres vehicles',), ('Turismes',), ('Motos',), ('Ciclomotors',), ('Furgonetes',), ('Camions',), ('Altres vehicles',), ('Turismes',), ('Motos',), ('Ciclomotors',), ('Furgonetes',), ('Camions',), ('Altres vehicles',), ('Turismes',), ('Motos',), ('Ciclomotors',), ('Furgonetes',), ('Camions',), ('Altres vehicles',), ('Turismes',), ('Motos',), ('Ciclomotors',), ('Furgonetes',), ('Camions',), ('Altres vehicles',), ('Turismes',), ('Motos',), ('Ciclomotors',), ('Furgonetes',), ('Camions',), ('Altres vehicles',), ('Turismes',), ('Motos',), ('Ciclomotors',), ('Furgonetes',), ('Camions',), ('Turismes',), ('Motos',), ('Ciclomotors',), ('Furgonetes',), ('Camions',), ('Altres vehicles',), ('Turismes',), ('Motos',), ('Ciclomotors',), ('Furgonetes',), ('Camions',), ('Altres vehicles',), ('Turismes',), ('Motos',), ('Ciclomotors',), ('Furgonetes',), ('Camions',), ('Altres vehicles',), ('Turismes',), ('Motos',), ('Ciclomotors',), ('Furgonetes',), ('Camions',), ('Altres vehicles',), ('Turismes',), ('Motos',), ('Ciclomotors',), ('Furgonetes',), ('Camions',), ('Altres vehicles',), ('Turismes',), ('Motos',), ('Ciclomotors',), ('Furgonetes',), ('Camions',), ('Altres vehicles',), ('Turismes',), ('Motos',), ('Ciclomotors',), ('Furgonetes',), ('Camions',), ('Altres vehicles',), ('Turismes',), ('Motos',), ('Ciclomotors',), ('Furgonetes',), ('Camions',), ('Altres vehicles',), ('Turismes',), ('Motos',), ('Ciclomotors',), ('Furgonetes',), ('Camions',), ('Altres vehicles',), ('Turismes',), ('Motos',), ('Ciclomotors',), ('Furgonetes',), ('Camions',), ('Altres vehicles',), ('Turismes',), ('Motos',), ('Ciclomotors',), ('Furgonetes',), ('Camions',), ('Altres vehicles',), ('Turismes',), ('Motos',), ('Ciclomotors',), ('Furgonetes',), ('Camions',), ('Altres vehicles',), ('Turismes',), ('Motos',), ('Ciclomotors',), ('Furgonetes',), ('Camions',), ('Altres vehicles',), ('Turismes',), ('Motos',), ('Ciclomotors',), ('Furgonetes',), ('Camions',), ('Altres vehicles',), ('Turismes',), ('Motos',), ('Ciclomotors',), ('Furgonetes',), ('Camions',), ('Altres vehicles',), ('Turismes',), ('Motos',), ('Ciclomotors',), ('Furgonetes',), ('Camions',), ('Altres vehicles',), ('Turismes',), ('Motos',), ('Ciclomotors',), ('Furgonetes',), ('Camions',), ('Altres vehicles',), ('Turismes',), ('Motos',), ('Ciclomotors',), ('Furgonetes',), ('Camions',), ('Altres vehicles',), ('Turismes',), ('Motos',), ('Ciclomotors',), ('Furgonetes',), ('Camions',), ('Altres vehicles',), ('Turismes',), ('Motos',), ('Ciclomotors',), ('Furgonetes',), ('Camions',), ('Altres vehicles',), ('Turismes',), ('Motos',), ('Ciclomotors',), ('Furgonetes',), ('Camions',), ('Altres vehicles',), ('Turismes',), ('Motos',), ('Ciclomotors',), ('Furgonetes',), ('Camions',), ('Altres vehicles',), ('Turismes',), ('Motos',), ('Ciclomotors',), ('Furgonetes',), ('Camions',), ('Turismes',), ('Motos',), ('Ciclomotors',), ('Furgonetes',), ('Camions',), ('Altres vehicles',), ('Turismes',), ('Motos',), ('Ciclomotors',), ('Furgonetes',), ('Camions',), ('Altres vehicles',), ('Turismes',), ('Motos',), ('Furgonetes',), ('Turismes',), ('Motos',), ('Ciclomotors',), ('Furgonetes',), ('Camions',), ('Altres vehicles',), ('Turismes',), ('Motos',), ('Ciclomotors',), ('Furgonetes',), ('Camions',), ('Altres vehicles',), ('Turismes',), ('Motos',), ('Ciclomotors',), ('Furgonetes',), ('Camions',), ('Altres vehicles',), ('Turismes',), ('Motos',), ('Ciclomotors',), ('Furgonetes',), ('Camions',), ('Altres vehicles',), ('Turismes',), ('Motos',), ('Ciclomotors',), ('Furgonetes',), ('Camions',), ('Altres vehicles',), ('Turismes',), ('Motos',), ('Ciclomotors',), ('Furgonetes',), ('Camions',), ('Altres vehicles',), ('Turismes',), ('Motos',), ('Ciclomotors',), ('Furgonetes',), ('Camions',), ('Altres vehicles',), ('Turismes',), ('Motos',), ('Ciclomotors',), ('Furgonetes',), ('Camions',), ('Turismes',), ('Motos',), ('Ciclomotors',), ('Furgonetes',), ('Camions',), ('Altres vehicles',), ('Turismes',), ('Motos',), ('Ciclomotors',), ('Furgonetes',), ('Camions',), ('Altres vehicles',), ('Turismes',), ('Motos',), ('Ciclomotors',), ('Furgonetes',), ('Camions',), ('Turismes',), ('Motos',), ('Ciclomotors',), ('Furgonetes',), ('Camions',), ('Turismes',), ('Motos',), ('Ciclomotors',), ('Furgonetes',), ('Camions',), ('Altres vehicles',), ('Turismes',), ('Motos',), ('Ciclomotors',), ('Furgonetes',), ('Camions',), ('Altres vehicles',), ('Turismes',), ('Motos',), ('Ciclomotors',), ('Furgonetes',), ('Camions',), ('Altres vehicles',), ('Turismes',), ('Motos',), ('Furgonetes',), ('Altres vehicles',), ('Turismes',), ('Motos',), ('Ciclomotors',), ('Furgonetes',), ('Camions',), ('Altres vehicles',), ('Turismes',), ('Motos',), ('Ciclomotors',), ('Furgonetes',), ('Camions',), ('Altres vehicles',), ('Turismes',), ('Motos',), ('Ciclomotors',), ('Furgonetes',), ('Camions',), ('Altres vehicles',), ('Turismes',), ('Motos',), ('Ciclomotors',), ('Furgonetes',), ('Camions',), ('Altres vehicles',), ('Turismes',), ('Motos',), ('Ciclomotors',), ('Furgonetes',), ('Camions',), ('Altres vehicles',), ('Turismes',), ('Motos',), ('Ciclomotors',), ('Furgonetes',), ('Camions',), ('Altres vehicles',), ('Turismes',), ('Motos',), ('Ciclomotors',), ('Furgonetes',), ('Camions',), ('Altres vehicles',), ('Turismes',), ('Motos',), ('Ciclomotors',), ('Furgonetes',), ('Camions',), ('Altres vehicles',), ('Turismes',), ('Motos',), ('Ciclomotors',), ('Furgonetes',), ('Camions',), ('Altres vehicles',), ('Turismes',), ('Motos',), ('Ciclomotors',), ('Furgonetes',), ('Camions',), ('Altres vehicles',), ('Turismes',), ('Motos',), ('Ciclomotors',), ('Furgonetes',), ('Camions',), ('Altres vehicles',), ('Turismes',), ('Motos',), ('Ciclomotors',), ('Furgonetes',), ('Camions',), ('Altres vehicles',), ('Turismes',), ('Motos',), ('Ciclomotors',), ('Furgonetes',), ('Camions',), ('Altres vehicles',), ('Turismes',), ('Motos',), ('Ciclomotors',), ('Furgonetes',), ('Camions',), ('Altres vehicles',), ('Turismes',), ('Motos',), ('Ciclomotors',), ('Furgonetes',), ('Camions',), ('Altres vehicles',), ('Turismes',), ('Motos',), ('Furgonetes',)]\n"
     ]
    }
   ],
   "source": [
    "cursor.execute(\"SELECT Tipus_Vehicles FROM vehiculos where Desc_distintiu_ambiental = 'Etiqueta C – Verda'\")\n",
    "print(cursor.fetchall())\n",
    "connect.commit()"
   ]
  },
  {
   "cell_type": "markdown",
   "metadata": {},
   "source": [
    "Se obtienen los valores únicos mediante la cláusula **DISTINCT**"
   ]
  },
  {
   "cell_type": "markdown",
   "metadata": {},
   "source": [
    "**¿Cúal es el Código de barrio y distrito para el barrio \"Diagonal Mar i el Front Marítim del Poblenou\"?**"
   ]
  },
  {
   "cell_type": "code",
   "execution_count": 40,
   "metadata": {},
   "outputs": [
    {
     "name": "stdout",
     "output_type": "stream",
     "text": [
      "El código de barrio es 69 y el código de distrito es 10\n"
     ]
    }
   ],
   "source": [
    "cursor.execute(\"SELECT DISTINCT Codi_barri FROM vehiculos where Nom_barri = 'Diagonal Mar i el Front Marítim del Poblenou'\")\n",
    "cod_barrio = cursor.fetchall()[0][0]\n",
    "cursor.execute(\"SELECT DISTINCT Codi_districte FROM vehiculos where Nom_barri = 'Diagonal Mar i el Front Marítim del Poblenou'\")\n",
    "cod_dist = cursor.fetchall()[0][0]\n",
    "print(f'El código de barrio es {cod_barrio} y el código de distrito es {cod_dist}')\n",
    "connect.commit()"
   ]
  },
  {
   "cell_type": "markdown",
   "metadata": {},
   "source": [
    "¿Cuantos barrios tiene el distrito \"Horta-Guinardó\"?"
   ]
  },
  {
   "cell_type": "code",
   "execution_count": 41,
   "metadata": {},
   "outputs": [
    {
     "name": "stdout",
     "output_type": "stream",
     "text": [
      "En el distrito Horta-Guinardó hay 11 barrios\n"
     ]
    }
   ],
   "source": [
    "cursor.execute(\"SELECT DISTINCT Nom_barri FROM vehiculos where Nom_districte = 'Horta-Guinardó'\")\n",
    "print(f\"En el distrito Horta-Guinardó hay {len(cursor.fetchall())} barrios\")\n",
    "connect.commit()"
   ]
  },
  {
   "cell_type": "code",
   "execution_count": 42,
   "metadata": {},
   "outputs": [],
   "source": [
    "connect.close()"
   ]
  }
 ],
 "metadata": {
  "interpreter": {
   "hash": "6f5583cf1d9466b5c27e75c89cc6b383bed5736d6b16c51c8074d8690011a952"
  },
  "kernelspec": {
   "display_name": "Python 3.8.8 ('base')",
   "language": "python",
   "name": "python3"
  },
  "language_info": {
   "codemirror_mode": {
    "name": "ipython",
    "version": 3
   },
   "file_extension": ".py",
   "mimetype": "text/x-python",
   "name": "python",
   "nbconvert_exporter": "python",
   "pygments_lexer": "ipython3",
   "version": "3.8.8"
  },
  "orig_nbformat": 4
 },
 "nbformat": 4,
 "nbformat_minor": 2
}
